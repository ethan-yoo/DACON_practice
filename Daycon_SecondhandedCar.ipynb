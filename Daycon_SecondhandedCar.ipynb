{
  "nbformat": 4,
  "nbformat_minor": 0,
  "metadata": {
    "colab": {
      "name": "Daycon_SecondhandedCar.ipynb",
      "provenance": [],
      "collapsed_sections": [],
      "toc_visible": true,
      "authorship_tag": "ABX9TyMb2aiKBB+pnQzl8oTk9lTi",
      "include_colab_link": true
    },
    "kernelspec": {
      "name": "python3",
      "display_name": "Python 3"
    },
    "language_info": {
      "name": "python"
    },
    "accelerator": "GPU"
  },
  "cells": [
    {
      "cell_type": "markdown",
      "metadata": {
        "id": "view-in-github",
        "colab_type": "text"
      },
      "source": [
        "<a href=\"https://colab.research.google.com/github/ethan-yoo/DACON_Contest/blob/main/Daycon_SecondhandedCar.ipynb\" target=\"_parent\"><img src=\"https://colab.research.google.com/assets/colab-badge.svg\" alt=\"Open In Colab\"/></a>"
      ]
    },
    {
      "cell_type": "markdown",
      "source": [
        "# **데이콘 중고차 가격 예측 대회**\n",
        "\n",
        ">**train.csv**\n",
        "---\n",
        "\n",
        "\n",
        "\n",
        "feature | 내용||\n",
        ":--|:--|:--\n",
        "id | 샘플 아이디\n",
        "title |제조사 모델명\n",
        "odometer | 주행 거리\n",
        "location | 판매처(나이지리아 도시)\n",
        "isimported | 현지 사용 여부\n",
        "engine | 엔진 종류\n",
        "transmission | 트랜스미션 종류\n",
        "fuel | 연료 종류\n",
        "paint | 페인트 색상\n",
        "year | 제조년도\n",
        "target | 자동차 가격\n",
        "\n",
        "\n",
        "\n",
        "\n",
        ">**test.csv**\n",
        "---\n",
        "feature | 내용\n",
        ":--|:--\n",
        "id | 샘플 아이디\n",
        "title | 제조사 모델명\n",
        "odometer | 주행 거리\n",
        "location | 판매처(나이지리아 도시)\n",
        "isimported | 현지 사용 여부\n",
        "engine | 엔진 종류\n",
        "transmission | 트랜스미션 종류\n",
        "fuel | 연료 종류\n",
        "paint | 페인트 색상\n",
        "year | 제조년도\n",
        "\n",
        "\n",
        ">**sample_submission.csv**\n",
        "---\n",
        "feature | 내용\n",
        ":--|:--\n",
        "id | 샘플 아이디\n",
        "target | 자동차 가격\n"
      ],
      "metadata": {
        "id": "LmyUO9xaqFPH"
      }
    },
    {
      "cell_type": "markdown",
      "source": [
        "---"
      ],
      "metadata": {
        "id": "neJUSLkdARSY"
      }
    },
    {
      "cell_type": "markdown",
      "source": [
        "## **데이터 로드**"
      ],
      "metadata": {
        "id": "zxfQABVtoujr"
      }
    },
    {
      "cell_type": "code",
      "source": [
        "# from google.colab import drive\n",
        "# drive.mount('/content/drive')"
      ],
      "metadata": {
        "colab": {
          "base_uri": "https://localhost:8080/"
        },
        "id": "a22EVJd1bWTT",
        "outputId": "8111f95d-9838-48dd-e629-83740a865ced"
      },
      "execution_count": 1,
      "outputs": [
        {
          "output_type": "stream",
          "name": "stdout",
          "text": [
            "Mounted at /content/drive\n"
          ]
        }
      ]
    },
    {
      "cell_type": "code",
      "source": [
        "import pandas as pd\n",
        "import numpy as np\n",
        "import matplotlib.pyplot as plt\n",
        "import seaborn as sns\n",
        "import re\n",
        "\n",
        "import tensorflow as tf\n",
        "from lightgbm import LGBMRegressor\n",
        "from sklearn.ensemble import GradientBoostingRegressor, RandomForestRegressor\n",
        "from sklearn.model_selection import train_test_split as tts\n",
        "from sklearn.metrics import mean_squared_error\n",
        "from sklearn.metrics import mean_absolute_error\n",
        "from sklearn.model_selection import GridSearchCV\n",
        "from sklearn.preprocessing import OneHotEncoder\n",
        "\n",
        "print('Done!')"
      ],
      "metadata": {
        "id": "T-Z9Y8DncFvC",
        "colab": {
          "base_uri": "https://localhost:8080/"
        },
        "outputId": "5b61a524-ee7b-461a-8ffa-5d30b8045139"
      },
      "execution_count": 812,
      "outputs": [
        {
          "output_type": "stream",
          "name": "stdout",
          "text": [
            "Done!\n"
          ]
        }
      ]
    },
    {
      "cell_type": "code",
      "source": [
        "train_data = pd.read_csv('/content/drive/MyDrive/Dacon/중고차 가격예측/train.csv')\n",
        "test_data = pd.read_csv('/content/drive/MyDrive/Dacon/중고차 가격예측/test.csv')\n",
        "\n",
        "print('Done!')"
      ],
      "metadata": {
        "colab": {
          "base_uri": "https://localhost:8080/"
        },
        "id": "XdQo775HbpDJ",
        "outputId": "83516e38-73f6-427f-b1d4-707d8e853a7c"
      },
      "execution_count": 682,
      "outputs": [
        {
          "output_type": "stream",
          "name": "stdout",
          "text": [
            "Done!\n"
          ]
        }
      ]
    },
    {
      "cell_type": "code",
      "source": [
        "train_data.head()"
      ],
      "metadata": {
        "colab": {
          "base_uri": "https://localhost:8080/",
          "height": 206
        },
        "id": "VgHH9KHvcNFP",
        "outputId": "81f4cf7b-87fd-4107-e225-a1eef94a37d8"
      },
      "execution_count": 683,
      "outputs": [
        {
          "output_type": "execute_result",
          "data": {
            "text/plain": [
              "   id                          title  odometer location    isimported  \\\n",
              "0   0                   Toyota RAV 4     18277   Lagos   Foreign Used   \n",
              "1   1            Toyota Land Cruiser        10    Lagos          New    \n",
              "2   2  Land Rover Range Rover Evoque     83091    Lagos  Foreign Used   \n",
              "3   3                   Lexus ES 350     91524    Lagos  Foreign Used   \n",
              "4   4                   Toyota Venza     94177    Lagos  Foreign Used   \n",
              "\n",
              "           engine transmission    fuel  paint  year    target  \n",
              "0  4-cylinder(I4)    automatic  petrol    Red  2016  13665000  \n",
              "1  4-cylinder(I4)    automatic  petrol  Black  2019  33015000  \n",
              "2  6-cylinder(V6)    automatic  petrol    Red  2012   9915000  \n",
              "3  4-cylinder(I4)    automatic  petrol   Gray  2007   3815000  \n",
              "4  6-cylinder(V6)    automatic  petrol    Red  2010   7385000  "
            ],
            "text/html": [
              "\n",
              "  <div id=\"df-58adf72c-db74-41d6-8afe-6be94ffd7a71\">\n",
              "    <div class=\"colab-df-container\">\n",
              "      <div>\n",
              "<style scoped>\n",
              "    .dataframe tbody tr th:only-of-type {\n",
              "        vertical-align: middle;\n",
              "    }\n",
              "\n",
              "    .dataframe tbody tr th {\n",
              "        vertical-align: top;\n",
              "    }\n",
              "\n",
              "    .dataframe thead th {\n",
              "        text-align: right;\n",
              "    }\n",
              "</style>\n",
              "<table border=\"1\" class=\"dataframe\">\n",
              "  <thead>\n",
              "    <tr style=\"text-align: right;\">\n",
              "      <th></th>\n",
              "      <th>id</th>\n",
              "      <th>title</th>\n",
              "      <th>odometer</th>\n",
              "      <th>location</th>\n",
              "      <th>isimported</th>\n",
              "      <th>engine</th>\n",
              "      <th>transmission</th>\n",
              "      <th>fuel</th>\n",
              "      <th>paint</th>\n",
              "      <th>year</th>\n",
              "      <th>target</th>\n",
              "    </tr>\n",
              "  </thead>\n",
              "  <tbody>\n",
              "    <tr>\n",
              "      <th>0</th>\n",
              "      <td>0</td>\n",
              "      <td>Toyota RAV 4</td>\n",
              "      <td>18277</td>\n",
              "      <td>Lagos</td>\n",
              "      <td>Foreign Used</td>\n",
              "      <td>4-cylinder(I4)</td>\n",
              "      <td>automatic</td>\n",
              "      <td>petrol</td>\n",
              "      <td>Red</td>\n",
              "      <td>2016</td>\n",
              "      <td>13665000</td>\n",
              "    </tr>\n",
              "    <tr>\n",
              "      <th>1</th>\n",
              "      <td>1</td>\n",
              "      <td>Toyota Land Cruiser</td>\n",
              "      <td>10</td>\n",
              "      <td>Lagos</td>\n",
              "      <td>New</td>\n",
              "      <td>4-cylinder(I4)</td>\n",
              "      <td>automatic</td>\n",
              "      <td>petrol</td>\n",
              "      <td>Black</td>\n",
              "      <td>2019</td>\n",
              "      <td>33015000</td>\n",
              "    </tr>\n",
              "    <tr>\n",
              "      <th>2</th>\n",
              "      <td>2</td>\n",
              "      <td>Land Rover Range Rover Evoque</td>\n",
              "      <td>83091</td>\n",
              "      <td>Lagos</td>\n",
              "      <td>Foreign Used</td>\n",
              "      <td>6-cylinder(V6)</td>\n",
              "      <td>automatic</td>\n",
              "      <td>petrol</td>\n",
              "      <td>Red</td>\n",
              "      <td>2012</td>\n",
              "      <td>9915000</td>\n",
              "    </tr>\n",
              "    <tr>\n",
              "      <th>3</th>\n",
              "      <td>3</td>\n",
              "      <td>Lexus ES 350</td>\n",
              "      <td>91524</td>\n",
              "      <td>Lagos</td>\n",
              "      <td>Foreign Used</td>\n",
              "      <td>4-cylinder(I4)</td>\n",
              "      <td>automatic</td>\n",
              "      <td>petrol</td>\n",
              "      <td>Gray</td>\n",
              "      <td>2007</td>\n",
              "      <td>3815000</td>\n",
              "    </tr>\n",
              "    <tr>\n",
              "      <th>4</th>\n",
              "      <td>4</td>\n",
              "      <td>Toyota Venza</td>\n",
              "      <td>94177</td>\n",
              "      <td>Lagos</td>\n",
              "      <td>Foreign Used</td>\n",
              "      <td>6-cylinder(V6)</td>\n",
              "      <td>automatic</td>\n",
              "      <td>petrol</td>\n",
              "      <td>Red</td>\n",
              "      <td>2010</td>\n",
              "      <td>7385000</td>\n",
              "    </tr>\n",
              "  </tbody>\n",
              "</table>\n",
              "</div>\n",
              "      <button class=\"colab-df-convert\" onclick=\"convertToInteractive('df-58adf72c-db74-41d6-8afe-6be94ffd7a71')\"\n",
              "              title=\"Convert this dataframe to an interactive table.\"\n",
              "              style=\"display:none;\">\n",
              "        \n",
              "  <svg xmlns=\"http://www.w3.org/2000/svg\" height=\"24px\"viewBox=\"0 0 24 24\"\n",
              "       width=\"24px\">\n",
              "    <path d=\"M0 0h24v24H0V0z\" fill=\"none\"/>\n",
              "    <path d=\"M18.56 5.44l.94 2.06.94-2.06 2.06-.94-2.06-.94-.94-2.06-.94 2.06-2.06.94zm-11 1L8.5 8.5l.94-2.06 2.06-.94-2.06-.94L8.5 2.5l-.94 2.06-2.06.94zm10 10l.94 2.06.94-2.06 2.06-.94-2.06-.94-.94-2.06-.94 2.06-2.06.94z\"/><path d=\"M17.41 7.96l-1.37-1.37c-.4-.4-.92-.59-1.43-.59-.52 0-1.04.2-1.43.59L10.3 9.45l-7.72 7.72c-.78.78-.78 2.05 0 2.83L4 21.41c.39.39.9.59 1.41.59.51 0 1.02-.2 1.41-.59l7.78-7.78 2.81-2.81c.8-.78.8-2.07 0-2.86zM5.41 20L4 18.59l7.72-7.72 1.47 1.35L5.41 20z\"/>\n",
              "  </svg>\n",
              "      </button>\n",
              "      \n",
              "  <style>\n",
              "    .colab-df-container {\n",
              "      display:flex;\n",
              "      flex-wrap:wrap;\n",
              "      gap: 12px;\n",
              "    }\n",
              "\n",
              "    .colab-df-convert {\n",
              "      background-color: #E8F0FE;\n",
              "      border: none;\n",
              "      border-radius: 50%;\n",
              "      cursor: pointer;\n",
              "      display: none;\n",
              "      fill: #1967D2;\n",
              "      height: 32px;\n",
              "      padding: 0 0 0 0;\n",
              "      width: 32px;\n",
              "    }\n",
              "\n",
              "    .colab-df-convert:hover {\n",
              "      background-color: #E2EBFA;\n",
              "      box-shadow: 0px 1px 2px rgba(60, 64, 67, 0.3), 0px 1px 3px 1px rgba(60, 64, 67, 0.15);\n",
              "      fill: #174EA6;\n",
              "    }\n",
              "\n",
              "    [theme=dark] .colab-df-convert {\n",
              "      background-color: #3B4455;\n",
              "      fill: #D2E3FC;\n",
              "    }\n",
              "\n",
              "    [theme=dark] .colab-df-convert:hover {\n",
              "      background-color: #434B5C;\n",
              "      box-shadow: 0px 1px 3px 1px rgba(0, 0, 0, 0.15);\n",
              "      filter: drop-shadow(0px 1px 2px rgba(0, 0, 0, 0.3));\n",
              "      fill: #FFFFFF;\n",
              "    }\n",
              "  </style>\n",
              "\n",
              "      <script>\n",
              "        const buttonEl =\n",
              "          document.querySelector('#df-58adf72c-db74-41d6-8afe-6be94ffd7a71 button.colab-df-convert');\n",
              "        buttonEl.style.display =\n",
              "          google.colab.kernel.accessAllowed ? 'block' : 'none';\n",
              "\n",
              "        async function convertToInteractive(key) {\n",
              "          const element = document.querySelector('#df-58adf72c-db74-41d6-8afe-6be94ffd7a71');\n",
              "          const dataTable =\n",
              "            await google.colab.kernel.invokeFunction('convertToInteractive',\n",
              "                                                     [key], {});\n",
              "          if (!dataTable) return;\n",
              "\n",
              "          const docLinkHtml = 'Like what you see? Visit the ' +\n",
              "            '<a target=\"_blank\" href=https://colab.research.google.com/notebooks/data_table.ipynb>data table notebook</a>'\n",
              "            + ' to learn more about interactive tables.';\n",
              "          element.innerHTML = '';\n",
              "          dataTable['output_type'] = 'display_data';\n",
              "          await google.colab.output.renderOutput(dataTable, element);\n",
              "          const docLink = document.createElement('div');\n",
              "          docLink.innerHTML = docLinkHtml;\n",
              "          element.appendChild(docLink);\n",
              "        }\n",
              "      </script>\n",
              "    </div>\n",
              "  </div>\n",
              "  "
            ]
          },
          "metadata": {},
          "execution_count": 683
        }
      ]
    },
    {
      "cell_type": "code",
      "source": [
        "test_data.head()"
      ],
      "metadata": {
        "colab": {
          "base_uri": "https://localhost:8080/",
          "height": 206
        },
        "id": "cYir7k8udHF6",
        "outputId": "f26a586c-ec30-4abc-80e1-3dde5a1329ec"
      },
      "execution_count": 684,
      "outputs": [
        {
          "output_type": "execute_result",
          "data": {
            "text/plain": [
              "   id                title  odometer location    isimported          engine  \\\n",
              "0   0  Mercedes-Benz C 300      1234    Abuja          New   4-cylinder(I4)   \n",
              "1   1         Honda Accord     29938    Abuja  Foreign Used  4-cylinder(I4)   \n",
              "2   2  Mercedes-Benz S 550     87501    Lagos  Foreign Used  4-cylinder(I4)   \n",
              "3   3        Toyota Sienna    180894    Lagos  Locally used  6-cylinder(V6)   \n",
              "4   4         Toyota Hiace    104814    Lagos  Foreign Used  4-cylinder(I4)   \n",
              "\n",
              "  transmission    fuel      paint  year  \n",
              "0    automatic  petrol      White  2017  \n",
              "1    automatic  petrol      White  2013  \n",
              "2    automatic  petrol      Black  2012  \n",
              "3    automatic  petrol  Dark Grey  2001  \n",
              "4    automatic  petrol      White  2000  "
            ],
            "text/html": [
              "\n",
              "  <div id=\"df-97c6978b-e3e4-46e4-aa40-2a04cae3df72\">\n",
              "    <div class=\"colab-df-container\">\n",
              "      <div>\n",
              "<style scoped>\n",
              "    .dataframe tbody tr th:only-of-type {\n",
              "        vertical-align: middle;\n",
              "    }\n",
              "\n",
              "    .dataframe tbody tr th {\n",
              "        vertical-align: top;\n",
              "    }\n",
              "\n",
              "    .dataframe thead th {\n",
              "        text-align: right;\n",
              "    }\n",
              "</style>\n",
              "<table border=\"1\" class=\"dataframe\">\n",
              "  <thead>\n",
              "    <tr style=\"text-align: right;\">\n",
              "      <th></th>\n",
              "      <th>id</th>\n",
              "      <th>title</th>\n",
              "      <th>odometer</th>\n",
              "      <th>location</th>\n",
              "      <th>isimported</th>\n",
              "      <th>engine</th>\n",
              "      <th>transmission</th>\n",
              "      <th>fuel</th>\n",
              "      <th>paint</th>\n",
              "      <th>year</th>\n",
              "    </tr>\n",
              "  </thead>\n",
              "  <tbody>\n",
              "    <tr>\n",
              "      <th>0</th>\n",
              "      <td>0</td>\n",
              "      <td>Mercedes-Benz C 300</td>\n",
              "      <td>1234</td>\n",
              "      <td>Abuja</td>\n",
              "      <td>New</td>\n",
              "      <td>4-cylinder(I4)</td>\n",
              "      <td>automatic</td>\n",
              "      <td>petrol</td>\n",
              "      <td>White</td>\n",
              "      <td>2017</td>\n",
              "    </tr>\n",
              "    <tr>\n",
              "      <th>1</th>\n",
              "      <td>1</td>\n",
              "      <td>Honda Accord</td>\n",
              "      <td>29938</td>\n",
              "      <td>Abuja</td>\n",
              "      <td>Foreign Used</td>\n",
              "      <td>4-cylinder(I4)</td>\n",
              "      <td>automatic</td>\n",
              "      <td>petrol</td>\n",
              "      <td>White</td>\n",
              "      <td>2013</td>\n",
              "    </tr>\n",
              "    <tr>\n",
              "      <th>2</th>\n",
              "      <td>2</td>\n",
              "      <td>Mercedes-Benz S 550</td>\n",
              "      <td>87501</td>\n",
              "      <td>Lagos</td>\n",
              "      <td>Foreign Used</td>\n",
              "      <td>4-cylinder(I4)</td>\n",
              "      <td>automatic</td>\n",
              "      <td>petrol</td>\n",
              "      <td>Black</td>\n",
              "      <td>2012</td>\n",
              "    </tr>\n",
              "    <tr>\n",
              "      <th>3</th>\n",
              "      <td>3</td>\n",
              "      <td>Toyota Sienna</td>\n",
              "      <td>180894</td>\n",
              "      <td>Lagos</td>\n",
              "      <td>Locally used</td>\n",
              "      <td>6-cylinder(V6)</td>\n",
              "      <td>automatic</td>\n",
              "      <td>petrol</td>\n",
              "      <td>Dark Grey</td>\n",
              "      <td>2001</td>\n",
              "    </tr>\n",
              "    <tr>\n",
              "      <th>4</th>\n",
              "      <td>4</td>\n",
              "      <td>Toyota Hiace</td>\n",
              "      <td>104814</td>\n",
              "      <td>Lagos</td>\n",
              "      <td>Foreign Used</td>\n",
              "      <td>4-cylinder(I4)</td>\n",
              "      <td>automatic</td>\n",
              "      <td>petrol</td>\n",
              "      <td>White</td>\n",
              "      <td>2000</td>\n",
              "    </tr>\n",
              "  </tbody>\n",
              "</table>\n",
              "</div>\n",
              "      <button class=\"colab-df-convert\" onclick=\"convertToInteractive('df-97c6978b-e3e4-46e4-aa40-2a04cae3df72')\"\n",
              "              title=\"Convert this dataframe to an interactive table.\"\n",
              "              style=\"display:none;\">\n",
              "        \n",
              "  <svg xmlns=\"http://www.w3.org/2000/svg\" height=\"24px\"viewBox=\"0 0 24 24\"\n",
              "       width=\"24px\">\n",
              "    <path d=\"M0 0h24v24H0V0z\" fill=\"none\"/>\n",
              "    <path d=\"M18.56 5.44l.94 2.06.94-2.06 2.06-.94-2.06-.94-.94-2.06-.94 2.06-2.06.94zm-11 1L8.5 8.5l.94-2.06 2.06-.94-2.06-.94L8.5 2.5l-.94 2.06-2.06.94zm10 10l.94 2.06.94-2.06 2.06-.94-2.06-.94-.94-2.06-.94 2.06-2.06.94z\"/><path d=\"M17.41 7.96l-1.37-1.37c-.4-.4-.92-.59-1.43-.59-.52 0-1.04.2-1.43.59L10.3 9.45l-7.72 7.72c-.78.78-.78 2.05 0 2.83L4 21.41c.39.39.9.59 1.41.59.51 0 1.02-.2 1.41-.59l7.78-7.78 2.81-2.81c.8-.78.8-2.07 0-2.86zM5.41 20L4 18.59l7.72-7.72 1.47 1.35L5.41 20z\"/>\n",
              "  </svg>\n",
              "      </button>\n",
              "      \n",
              "  <style>\n",
              "    .colab-df-container {\n",
              "      display:flex;\n",
              "      flex-wrap:wrap;\n",
              "      gap: 12px;\n",
              "    }\n",
              "\n",
              "    .colab-df-convert {\n",
              "      background-color: #E8F0FE;\n",
              "      border: none;\n",
              "      border-radius: 50%;\n",
              "      cursor: pointer;\n",
              "      display: none;\n",
              "      fill: #1967D2;\n",
              "      height: 32px;\n",
              "      padding: 0 0 0 0;\n",
              "      width: 32px;\n",
              "    }\n",
              "\n",
              "    .colab-df-convert:hover {\n",
              "      background-color: #E2EBFA;\n",
              "      box-shadow: 0px 1px 2px rgba(60, 64, 67, 0.3), 0px 1px 3px 1px rgba(60, 64, 67, 0.15);\n",
              "      fill: #174EA6;\n",
              "    }\n",
              "\n",
              "    [theme=dark] .colab-df-convert {\n",
              "      background-color: #3B4455;\n",
              "      fill: #D2E3FC;\n",
              "    }\n",
              "\n",
              "    [theme=dark] .colab-df-convert:hover {\n",
              "      background-color: #434B5C;\n",
              "      box-shadow: 0px 1px 3px 1px rgba(0, 0, 0, 0.15);\n",
              "      filter: drop-shadow(0px 1px 2px rgba(0, 0, 0, 0.3));\n",
              "      fill: #FFFFFF;\n",
              "    }\n",
              "  </style>\n",
              "\n",
              "      <script>\n",
              "        const buttonEl =\n",
              "          document.querySelector('#df-97c6978b-e3e4-46e4-aa40-2a04cae3df72 button.colab-df-convert');\n",
              "        buttonEl.style.display =\n",
              "          google.colab.kernel.accessAllowed ? 'block' : 'none';\n",
              "\n",
              "        async function convertToInteractive(key) {\n",
              "          const element = document.querySelector('#df-97c6978b-e3e4-46e4-aa40-2a04cae3df72');\n",
              "          const dataTable =\n",
              "            await google.colab.kernel.invokeFunction('convertToInteractive',\n",
              "                                                     [key], {});\n",
              "          if (!dataTable) return;\n",
              "\n",
              "          const docLinkHtml = 'Like what you see? Visit the ' +\n",
              "            '<a target=\"_blank\" href=https://colab.research.google.com/notebooks/data_table.ipynb>data table notebook</a>'\n",
              "            + ' to learn more about interactive tables.';\n",
              "          element.innerHTML = '';\n",
              "          dataTable['output_type'] = 'display_data';\n",
              "          await google.colab.output.renderOutput(dataTable, element);\n",
              "          const docLink = document.createElement('div');\n",
              "          docLink.innerHTML = docLinkHtml;\n",
              "          element.appendChild(docLink);\n",
              "        }\n",
              "      </script>\n",
              "    </div>\n",
              "  </div>\n",
              "  "
            ]
          },
          "metadata": {},
          "execution_count": 684
        }
      ]
    },
    {
      "cell_type": "code",
      "source": [
        "print(train_data.shape)\n",
        "print(test_data.shape)"
      ],
      "metadata": {
        "colab": {
          "base_uri": "https://localhost:8080/"
        },
        "id": "Y9SVFGdncOw3",
        "outputId": "c55ac728-46fe-47a4-fb8c-b0d96713c518"
      },
      "execution_count": 685,
      "outputs": [
        {
          "output_type": "stream",
          "name": "stdout",
          "text": [
            "(1015, 11)\n",
            "(436, 10)\n"
          ]
        }
      ]
    },
    {
      "cell_type": "markdown",
      "source": [
        "## **train, test 데이터 생성**"
      ],
      "metadata": {
        "id": "kWtgZYAto458"
      }
    },
    {
      "cell_type": "markdown",
      "source": [
        "train 데이터 수가 적어서 과적합 되지 않게 조심해야 합니다.\n"
      ],
      "metadata": {
        "id": "QMMe_yjocS-X"
      }
    },
    {
      "cell_type": "code",
      "source": [
        "X = train_data.copy()"
      ],
      "metadata": {
        "id": "ne93hH_bj9DS"
      },
      "execution_count": 686,
      "outputs": []
    },
    {
      "cell_type": "code",
      "source": [
        "X.head()"
      ],
      "metadata": {
        "colab": {
          "base_uri": "https://localhost:8080/",
          "height": 206
        },
        "id": "_WPHCcXyk5k4",
        "outputId": "bf6cd5b8-7148-4656-9368-c4e3457ea8dd"
      },
      "execution_count": 687,
      "outputs": [
        {
          "output_type": "execute_result",
          "data": {
            "text/plain": [
              "   id                          title  odometer location    isimported  \\\n",
              "0   0                   Toyota RAV 4     18277   Lagos   Foreign Used   \n",
              "1   1            Toyota Land Cruiser        10    Lagos          New    \n",
              "2   2  Land Rover Range Rover Evoque     83091    Lagos  Foreign Used   \n",
              "3   3                   Lexus ES 350     91524    Lagos  Foreign Used   \n",
              "4   4                   Toyota Venza     94177    Lagos  Foreign Used   \n",
              "\n",
              "           engine transmission    fuel  paint  year    target  \n",
              "0  4-cylinder(I4)    automatic  petrol    Red  2016  13665000  \n",
              "1  4-cylinder(I4)    automatic  petrol  Black  2019  33015000  \n",
              "2  6-cylinder(V6)    automatic  petrol    Red  2012   9915000  \n",
              "3  4-cylinder(I4)    automatic  petrol   Gray  2007   3815000  \n",
              "4  6-cylinder(V6)    automatic  petrol    Red  2010   7385000  "
            ],
            "text/html": [
              "\n",
              "  <div id=\"df-553ce69a-a81c-4f2e-bd10-5887ea3ffd02\">\n",
              "    <div class=\"colab-df-container\">\n",
              "      <div>\n",
              "<style scoped>\n",
              "    .dataframe tbody tr th:only-of-type {\n",
              "        vertical-align: middle;\n",
              "    }\n",
              "\n",
              "    .dataframe tbody tr th {\n",
              "        vertical-align: top;\n",
              "    }\n",
              "\n",
              "    .dataframe thead th {\n",
              "        text-align: right;\n",
              "    }\n",
              "</style>\n",
              "<table border=\"1\" class=\"dataframe\">\n",
              "  <thead>\n",
              "    <tr style=\"text-align: right;\">\n",
              "      <th></th>\n",
              "      <th>id</th>\n",
              "      <th>title</th>\n",
              "      <th>odometer</th>\n",
              "      <th>location</th>\n",
              "      <th>isimported</th>\n",
              "      <th>engine</th>\n",
              "      <th>transmission</th>\n",
              "      <th>fuel</th>\n",
              "      <th>paint</th>\n",
              "      <th>year</th>\n",
              "      <th>target</th>\n",
              "    </tr>\n",
              "  </thead>\n",
              "  <tbody>\n",
              "    <tr>\n",
              "      <th>0</th>\n",
              "      <td>0</td>\n",
              "      <td>Toyota RAV 4</td>\n",
              "      <td>18277</td>\n",
              "      <td>Lagos</td>\n",
              "      <td>Foreign Used</td>\n",
              "      <td>4-cylinder(I4)</td>\n",
              "      <td>automatic</td>\n",
              "      <td>petrol</td>\n",
              "      <td>Red</td>\n",
              "      <td>2016</td>\n",
              "      <td>13665000</td>\n",
              "    </tr>\n",
              "    <tr>\n",
              "      <th>1</th>\n",
              "      <td>1</td>\n",
              "      <td>Toyota Land Cruiser</td>\n",
              "      <td>10</td>\n",
              "      <td>Lagos</td>\n",
              "      <td>New</td>\n",
              "      <td>4-cylinder(I4)</td>\n",
              "      <td>automatic</td>\n",
              "      <td>petrol</td>\n",
              "      <td>Black</td>\n",
              "      <td>2019</td>\n",
              "      <td>33015000</td>\n",
              "    </tr>\n",
              "    <tr>\n",
              "      <th>2</th>\n",
              "      <td>2</td>\n",
              "      <td>Land Rover Range Rover Evoque</td>\n",
              "      <td>83091</td>\n",
              "      <td>Lagos</td>\n",
              "      <td>Foreign Used</td>\n",
              "      <td>6-cylinder(V6)</td>\n",
              "      <td>automatic</td>\n",
              "      <td>petrol</td>\n",
              "      <td>Red</td>\n",
              "      <td>2012</td>\n",
              "      <td>9915000</td>\n",
              "    </tr>\n",
              "    <tr>\n",
              "      <th>3</th>\n",
              "      <td>3</td>\n",
              "      <td>Lexus ES 350</td>\n",
              "      <td>91524</td>\n",
              "      <td>Lagos</td>\n",
              "      <td>Foreign Used</td>\n",
              "      <td>4-cylinder(I4)</td>\n",
              "      <td>automatic</td>\n",
              "      <td>petrol</td>\n",
              "      <td>Gray</td>\n",
              "      <td>2007</td>\n",
              "      <td>3815000</td>\n",
              "    </tr>\n",
              "    <tr>\n",
              "      <th>4</th>\n",
              "      <td>4</td>\n",
              "      <td>Toyota Venza</td>\n",
              "      <td>94177</td>\n",
              "      <td>Lagos</td>\n",
              "      <td>Foreign Used</td>\n",
              "      <td>6-cylinder(V6)</td>\n",
              "      <td>automatic</td>\n",
              "      <td>petrol</td>\n",
              "      <td>Red</td>\n",
              "      <td>2010</td>\n",
              "      <td>7385000</td>\n",
              "    </tr>\n",
              "  </tbody>\n",
              "</table>\n",
              "</div>\n",
              "      <button class=\"colab-df-convert\" onclick=\"convertToInteractive('df-553ce69a-a81c-4f2e-bd10-5887ea3ffd02')\"\n",
              "              title=\"Convert this dataframe to an interactive table.\"\n",
              "              style=\"display:none;\">\n",
              "        \n",
              "  <svg xmlns=\"http://www.w3.org/2000/svg\" height=\"24px\"viewBox=\"0 0 24 24\"\n",
              "       width=\"24px\">\n",
              "    <path d=\"M0 0h24v24H0V0z\" fill=\"none\"/>\n",
              "    <path d=\"M18.56 5.44l.94 2.06.94-2.06 2.06-.94-2.06-.94-.94-2.06-.94 2.06-2.06.94zm-11 1L8.5 8.5l.94-2.06 2.06-.94-2.06-.94L8.5 2.5l-.94 2.06-2.06.94zm10 10l.94 2.06.94-2.06 2.06-.94-2.06-.94-.94-2.06-.94 2.06-2.06.94z\"/><path d=\"M17.41 7.96l-1.37-1.37c-.4-.4-.92-.59-1.43-.59-.52 0-1.04.2-1.43.59L10.3 9.45l-7.72 7.72c-.78.78-.78 2.05 0 2.83L4 21.41c.39.39.9.59 1.41.59.51 0 1.02-.2 1.41-.59l7.78-7.78 2.81-2.81c.8-.78.8-2.07 0-2.86zM5.41 20L4 18.59l7.72-7.72 1.47 1.35L5.41 20z\"/>\n",
              "  </svg>\n",
              "      </button>\n",
              "      \n",
              "  <style>\n",
              "    .colab-df-container {\n",
              "      display:flex;\n",
              "      flex-wrap:wrap;\n",
              "      gap: 12px;\n",
              "    }\n",
              "\n",
              "    .colab-df-convert {\n",
              "      background-color: #E8F0FE;\n",
              "      border: none;\n",
              "      border-radius: 50%;\n",
              "      cursor: pointer;\n",
              "      display: none;\n",
              "      fill: #1967D2;\n",
              "      height: 32px;\n",
              "      padding: 0 0 0 0;\n",
              "      width: 32px;\n",
              "    }\n",
              "\n",
              "    .colab-df-convert:hover {\n",
              "      background-color: #E2EBFA;\n",
              "      box-shadow: 0px 1px 2px rgba(60, 64, 67, 0.3), 0px 1px 3px 1px rgba(60, 64, 67, 0.15);\n",
              "      fill: #174EA6;\n",
              "    }\n",
              "\n",
              "    [theme=dark] .colab-df-convert {\n",
              "      background-color: #3B4455;\n",
              "      fill: #D2E3FC;\n",
              "    }\n",
              "\n",
              "    [theme=dark] .colab-df-convert:hover {\n",
              "      background-color: #434B5C;\n",
              "      box-shadow: 0px 1px 3px 1px rgba(0, 0, 0, 0.15);\n",
              "      filter: drop-shadow(0px 1px 2px rgba(0, 0, 0, 0.3));\n",
              "      fill: #FFFFFF;\n",
              "    }\n",
              "  </style>\n",
              "\n",
              "      <script>\n",
              "        const buttonEl =\n",
              "          document.querySelector('#df-553ce69a-a81c-4f2e-bd10-5887ea3ffd02 button.colab-df-convert');\n",
              "        buttonEl.style.display =\n",
              "          google.colab.kernel.accessAllowed ? 'block' : 'none';\n",
              "\n",
              "        async function convertToInteractive(key) {\n",
              "          const element = document.querySelector('#df-553ce69a-a81c-4f2e-bd10-5887ea3ffd02');\n",
              "          const dataTable =\n",
              "            await google.colab.kernel.invokeFunction('convertToInteractive',\n",
              "                                                     [key], {});\n",
              "          if (!dataTable) return;\n",
              "\n",
              "          const docLinkHtml = 'Like what you see? Visit the ' +\n",
              "            '<a target=\"_blank\" href=https://colab.research.google.com/notebooks/data_table.ipynb>data table notebook</a>'\n",
              "            + ' to learn more about interactive tables.';\n",
              "          element.innerHTML = '';\n",
              "          dataTable['output_type'] = 'display_data';\n",
              "          await google.colab.output.renderOutput(dataTable, element);\n",
              "          const docLink = document.createElement('div');\n",
              "          docLink.innerHTML = docLinkHtml;\n",
              "          element.appendChild(docLink);\n",
              "        }\n",
              "      </script>\n",
              "    </div>\n",
              "  </div>\n",
              "  "
            ]
          },
          "metadata": {},
          "execution_count": 687
        }
      ]
    },
    {
      "cell_type": "code",
      "source": [
        "X.info()"
      ],
      "metadata": {
        "colab": {
          "base_uri": "https://localhost:8080/"
        },
        "id": "Z3ATqpRA_5mp",
        "outputId": "b4081965-19e2-4423-be36-3a1b9f11d3e7"
      },
      "execution_count": 688,
      "outputs": [
        {
          "output_type": "stream",
          "name": "stdout",
          "text": [
            "<class 'pandas.core.frame.DataFrame'>\n",
            "RangeIndex: 1015 entries, 0 to 1014\n",
            "Data columns (total 11 columns):\n",
            " #   Column        Non-Null Count  Dtype \n",
            "---  ------        --------------  ----- \n",
            " 0   id            1015 non-null   int64 \n",
            " 1   title         1015 non-null   object\n",
            " 2   odometer      1015 non-null   int64 \n",
            " 3   location      1015 non-null   object\n",
            " 4   isimported    1015 non-null   object\n",
            " 5   engine        1015 non-null   object\n",
            " 6   transmission  1015 non-null   object\n",
            " 7   fuel          1015 non-null   object\n",
            " 8   paint         1015 non-null   object\n",
            " 9   year          1015 non-null   int64 \n",
            " 10  target        1015 non-null   int64 \n",
            "dtypes: int64(4), object(7)\n",
            "memory usage: 87.4+ KB\n"
          ]
        }
      ]
    },
    {
      "cell_type": "markdown",
      "source": [
        "모델 사용시에는 object 값들을 숫자로 바꿔줘야 할 겁니다.\n",
        "\n",
        "일단 각 컬럼을 조금 더 상세하게 살펴보겠습니다."
      ],
      "metadata": {
        "id": "tYPrxs75_8I-"
      }
    },
    {
      "cell_type": "markdown",
      "source": [
        "---"
      ],
      "metadata": {
        "id": "gfgDbIYjAPIp"
      }
    },
    {
      "cell_type": "markdown",
      "source": [
        "## **결측치 확인**"
      ],
      "metadata": {
        "id": "edf7s0OykGX7"
      }
    },
    {
      "cell_type": "code",
      "source": [
        "X.isna().sum()"
      ],
      "metadata": {
        "colab": {
          "base_uri": "https://localhost:8080/"
        },
        "id": "QHkmtyAhkgM4",
        "outputId": "91a3aefe-9663-4281-8ee5-d6372ee79a16"
      },
      "execution_count": 689,
      "outputs": [
        {
          "output_type": "execute_result",
          "data": {
            "text/plain": [
              "id              0\n",
              "title           0\n",
              "odometer        0\n",
              "location        0\n",
              "isimported      0\n",
              "engine          0\n",
              "transmission    0\n",
              "fuel            0\n",
              "paint           0\n",
              "year            0\n",
              "target          0\n",
              "dtype: int64"
            ]
          },
          "metadata": {},
          "execution_count": 689
        }
      ]
    },
    {
      "cell_type": "code",
      "source": [
        "test_data.isna().sum()"
      ],
      "metadata": {
        "colab": {
          "base_uri": "https://localhost:8080/"
        },
        "id": "30nct9LXlPZ3",
        "outputId": "200dfd8a-631f-440b-81ca-11a38b481a53"
      },
      "execution_count": 690,
      "outputs": [
        {
          "output_type": "execute_result",
          "data": {
            "text/plain": [
              "id              0\n",
              "title           0\n",
              "odometer        0\n",
              "location        0\n",
              "isimported      0\n",
              "engine          0\n",
              "transmission    0\n",
              "fuel            0\n",
              "paint           0\n",
              "year            0\n",
              "dtype: int64"
            ]
          },
          "metadata": {},
          "execution_count": 690
        }
      ]
    },
    {
      "cell_type": "markdown",
      "source": [
        "결측치는 없습니다."
      ],
      "metadata": {
        "id": "OBn7AaYVusye"
      }
    },
    {
      "cell_type": "markdown",
      "source": [
        "---"
      ],
      "metadata": {
        "id": "X1i9QZUrANk-"
      }
    },
    {
      "cell_type": "markdown",
      "source": [
        "## **columns 분석**"
      ],
      "metadata": {
        "id": "GTGkdvUxpFFw"
      }
    },
    {
      "cell_type": "markdown",
      "source": [
        "### **Uniqueness**"
      ],
      "metadata": {
        "id": "wWWKNt3Ou5cY"
      }
    },
    {
      "cell_type": "code",
      "source": [
        "X.columns"
      ],
      "metadata": {
        "colab": {
          "base_uri": "https://localhost:8080/"
        },
        "id": "07qFA_YhpMvP",
        "outputId": "2638b29d-a1c7-460f-ff5c-71604b6c986b"
      },
      "execution_count": 691,
      "outputs": [
        {
          "output_type": "execute_result",
          "data": {
            "text/plain": [
              "Index(['id', 'title', 'odometer', 'location', 'isimported', 'engine',\n",
              "       'transmission', 'fuel', 'paint', 'year', 'target'],\n",
              "      dtype='object')"
            ]
          },
          "metadata": {},
          "execution_count": 691
        }
      ]
    },
    {
      "cell_type": "code",
      "source": [
        "print('Uniqueness')\n",
        "for col in X.columns:\n",
        "    print(col, \":\", len(X[col].unique()))"
      ],
      "metadata": {
        "colab": {
          "base_uri": "https://localhost:8080/"
        },
        "id": "iS1tFSyUpQDA",
        "outputId": "d1466382-54d4-4c6d-8149-51dd23cf41ec"
      },
      "execution_count": 692,
      "outputs": [
        {
          "output_type": "stream",
          "name": "stdout",
          "text": [
            "Uniqueness\n",
            "id : 1015\n",
            "title : 203\n",
            "odometer : 985\n",
            "location : 13\n",
            "isimported : 3\n",
            "engine : 8\n",
            "transmission : 2\n",
            "fuel : 2\n",
            "paint : 76\n",
            "year : 33\n",
            "target : 394\n"
          ]
        }
      ]
    },
    {
      "cell_type": "markdown",
      "source": [
        "id만 unique하고 나머지는 중복값이 존재합니다."
      ],
      "metadata": {
        "id": "ivOqnq8zpTwI"
      }
    },
    {
      "cell_type": "markdown",
      "source": [
        "---"
      ],
      "metadata": {
        "id": "QRgqBAUqAL8g"
      }
    },
    {
      "cell_type": "markdown",
      "source": [
        "### **id**\n",
        "\n",
        "id 열은 인덱스 역할을 하고 있습니다.\n",
        "\n",
        "자료형도 바꿔줄 필요가 없으니 넘어갑니다."
      ],
      "metadata": {
        "id": "6OkWbbHn_tlB"
      }
    },
    {
      "cell_type": "code",
      "source": [
        "type(X['id'][1])"
      ],
      "metadata": {
        "colab": {
          "base_uri": "https://localhost:8080/"
        },
        "id": "aCX_axQjAIrI",
        "outputId": "165e293a-47e5-4701-dd7a-3d8a36bb06b8"
      },
      "execution_count": 693,
      "outputs": [
        {
          "output_type": "execute_result",
          "data": {
            "text/plain": [
              "numpy.int64"
            ]
          },
          "metadata": {},
          "execution_count": 693
        }
      ]
    },
    {
      "cell_type": "markdown",
      "source": [
        "---"
      ],
      "metadata": {
        "id": "V2wpPNa3AW2h"
      }
    },
    {
      "cell_type": "markdown",
      "source": [
        "### **title**\n",
        "\n",
        "대회 안내에서는 제조사 모델명이라고 되어 있습니다.\n",
        "\n",
        "차종에 대한 정보가 들어 있습니다. 당연히 차종에 따라 가격이 바뀔 것입니다."
      ],
      "metadata": {
        "id": "-2oGta8sAqAP"
      }
    },
    {
      "cell_type": "code",
      "source": [
        "len(X['title'].unique())"
      ],
      "metadata": {
        "colab": {
          "base_uri": "https://localhost:8080/"
        },
        "id": "UwbFD7MFAsgf",
        "outputId": "633bdf67-2470-442c-feb0-769710566411"
      },
      "execution_count": 694,
      "outputs": [
        {
          "output_type": "execute_result",
          "data": {
            "text/plain": [
              "203"
            ]
          },
          "metadata": {},
          "execution_count": 694
        }
      ]
    },
    {
      "cell_type": "code",
      "source": [
        "len(X['target'].unique())"
      ],
      "metadata": {
        "colab": {
          "base_uri": "https://localhost:8080/"
        },
        "id": "jAAJnGp5BIY2",
        "outputId": "51a62ffa-435b-458a-c79f-742cb9fe1844"
      },
      "execution_count": 695,
      "outputs": [
        {
          "output_type": "execute_result",
          "data": {
            "text/plain": [
              "394"
            ]
          },
          "metadata": {},
          "execution_count": 695
        }
      ]
    },
    {
      "cell_type": "markdown",
      "source": [
        "두 컬럼이 가진 유니크 값의 개수가 다릅니다.\n",
        "\n",
        "title의 값 개수가 더 적으므로, 같은 차종에서도 다른 가격을 갖는 요인이 존재합니다.\n",
        "\n",
        "title 컬럼의 분포 그래프를 살펴보겠습니다."
      ],
      "metadata": {
        "id": "oydBxVi6C4V7"
      }
    },
    {
      "cell_type": "code",
      "source": [
        "# title 분포\n",
        "plt.figure(figsize=(20,5))\n",
        "sns.countplot(data=X, x='title')\n",
        "plt.show()"
      ],
      "metadata": {
        "colab": {
          "base_uri": "https://localhost:8080/",
          "height": 334
        },
        "id": "HN6DnkfPE3hN",
        "outputId": "216f28dd-01b4-4c6c-ff39-1c941402d97a"
      },
      "execution_count": 696,
      "outputs": [
        {
          "output_type": "display_data",
          "data": {
            "text/plain": [
              "<Figure size 1440x360 with 1 Axes>"
            ],
            "image/png": "[encoded data removed]"
          },
          "metadata": {
            "needs_background": "light"
          }
        }
      ]
    },
    {
      "cell_type": "markdown",
      "source": [
        "특별히 자주 거래되는 차종들이 존재하는 것을 확인할 수 있습니다.\n",
        "\n",
        "인기가 많은 TOP 10 차종을 뽑아보겠습니다."
      ],
      "metadata": {
        "id": "q-zZudLSGRQP"
      }
    },
    {
      "cell_type": "code",
      "source": [
        "vehicle_popularity = X['title'].value_counts()\n",
        "top_10 = vehicle_popularity[:10]\n",
        "top_10"
      ],
      "metadata": {
        "colab": {
          "base_uri": "https://localhost:8080/"
        },
        "id": "8UJYD6nmOSxT",
        "outputId": "cf2a5445-7d22-4f9d-b83b-2971b42c75a9"
      },
      "execution_count": 697,
      "outputs": [
        {
          "output_type": "execute_result",
          "data": {
            "text/plain": [
              "Toyota Camry         129\n",
              "Toyota Corolla       108\n",
              "Toyota Highlander     50\n",
              "Toyota Sienna         49\n",
              "Toyota RAV 4          40\n",
              "Honda Accord          38\n",
              "Lexus RX 350          33\n",
              "Lexus ES 350          24\n",
              "Toyota Venza          16\n",
              "Lexus GX 460          16\n",
              "Name: title, dtype: int64"
            ]
          },
          "metadata": {},
          "execution_count": 697
        }
      ]
    },
    {
      "cell_type": "code",
      "source": [
        "print('전체 차종별 평균 거래 횟수: {}회'.format(vehicle_popularity.mean()))"
      ],
      "metadata": {
        "colab": {
          "base_uri": "https://localhost:8080/"
        },
        "id": "2vjEAxWTTQoK",
        "outputId": "b0a1e739-aea5-4aab-8bce-3e111d94433c"
      },
      "execution_count": 698,
      "outputs": [
        {
          "output_type": "stream",
          "name": "stdout",
          "text": [
            "전체 차종별 평균 거래 횟수: 5.0회\n"
          ]
        }
      ]
    },
    {
      "cell_type": "code",
      "source": [
        "print('top 10 차종의 평균 거래 횟수: {}회'.format(top_10.mean()))"
      ],
      "metadata": {
        "colab": {
          "base_uri": "https://localhost:8080/"
        },
        "id": "KpFbZJHFThxJ",
        "outputId": "80273c39-9e7d-4951-aa57-cc002a0d6a39"
      },
      "execution_count": 699,
      "outputs": [
        {
          "output_type": "stream",
          "name": "stdout",
          "text": [
            "top 10 차종의 평균 거래 횟수: 50.3회\n"
          ]
        }
      ]
    },
    {
      "cell_type": "code",
      "source": [
        "print('전체에서 top 10 차종이 차지하는 거래 비율: {}%'.format(round((top_10.sum())/len(X)*100, 2)))"
      ],
      "metadata": {
        "colab": {
          "base_uri": "https://localhost:8080/"
        },
        "id": "gu3KcBg9SXpY",
        "outputId": "81b694d5-35be-4f3e-ee3e-feabea64108f"
      },
      "execution_count": 700,
      "outputs": [
        {
          "output_type": "stream",
          "name": "stdout",
          "text": [
            "전체에서 top 10 차종이 차지하는 거래 비율: 49.56%\n"
          ]
        }
      ]
    },
    {
      "cell_type": "markdown",
      "source": [
        "상위 10개 차종의 평균 거래 횟수는 전체 평균의 10배가 넘고, 전체 거래량의 반절 가까운 비중을 차지합니다.\n",
        "\n",
        "전체 데이터 수가 적기 때문에, 거래량이 적은 차량의 경우에는 가격 예측이 어려울 수 있습니다.\n",
        "\n",
        "혹은 아직 데이터에 없는 신규 차량이 매물로 나올 수도 있겠죠.\n",
        "\n",
        "top 10 차종과 나머지 차종들의 가격 분포를 비교해보겠습니다."
      ],
      "metadata": {
        "id": "D1-ZPfNBTz7z"
      }
    },
    {
      "cell_type": "code",
      "source": [
        "# top 10 차종\n",
        "top10_pop = X.loc[top_10]\n",
        "\n",
        "# 분포 그래프\n",
        "sns.histplot(top10_pop['target'], kde=True)"
      ],
      "metadata": {
        "colab": {
          "base_uri": "https://localhost:8080/",
          "height": 296
        },
        "id": "us5pA63WL-H2",
        "outputId": "17615cc7-1d35-4a47-95a4-a5134709937c"
      },
      "execution_count": 701,
      "outputs": [
        {
          "output_type": "execute_result",
          "data": {
            "text/plain": [
              "<matplotlib.axes._subplots.AxesSubplot at 0x7ff61bf7d210>"
            ]
          },
          "metadata": {},
          "execution_count": 701
        },
        {
          "output_type": "display_data",
          "data": {
            "text/plain": [
              "<Figure size 432x288 with 1 Axes>"
            ],
            "image/png": "[encoded data removed]"
          },
          "metadata": {
            "needs_background": "light"
          }
        }
      ]
    },
    {
      "cell_type": "code",
      "source": [
        "# 나머지 차종\n",
        "less_pop = X.loc[vehicle_popularity][10:]\n",
        "sns.histplot(less_pop['target'], kde=True)           "
      ],
      "metadata": {
        "colab": {
          "base_uri": "https://localhost:8080/",
          "height": 299
        },
        "id": "lFoEwYDUWsIK",
        "outputId": "37b4b74a-9d67-4990-a0ec-6de8264c1a59"
      },
      "execution_count": 702,
      "outputs": [
        {
          "output_type": "execute_result",
          "data": {
            "text/plain": [
              "<matplotlib.axes._subplots.AxesSubplot at 0x7ff61bf3e810>"
            ]
          },
          "metadata": {},
          "execution_count": 702
        },
        {
          "output_type": "display_data",
          "data": {
            "text/plain": [
              "<Figure size 432x288 with 1 Axes>"
            ],
            "image/png": "[encoded data removed]"
          },
          "metadata": {
            "needs_background": "light"
          }
        }
      ]
    },
    {
      "cell_type": "markdown",
      "source": [
        "거래량이 많은 차종의 경우, 저가형 차량이 많이 팔리고 중고가 차량이 적게 팔리는 경향이 있습니다.\n",
        "\n",
        "이는 직관적으로 이해할 수 있는 부분입니다.\n",
        "\n",
        "하지만 거래량이 적은 차종들은 고가형 차량이 많이 팔리는 경향이 있습니다.\n",
        "\n",
        "고가라서 거래량이 적은 걸까요, 아니면 거래량이 적어서 고가인 걸까요?\n",
        "\n",
        "그도 아니면 다른 이유가 있을 지도 모릅니다.\n",
        "\n",
        "하지만 아직 범주형 데이터나 문자열 데이터의 변환 작업도 하지 않았기 때문에, \n",
        "\n",
        "지금은 거래량과 가격 분포에 대한 인사이트만 가지고 넘어가겠습니다.\n",
        "\n",
        "거래량이 적은 차종은 추후 데이터 증강을 해주어야 할 수도 있습니다."
      ],
      "metadata": {
        "id": "rhPiuYJ4W21C"
      }
    },
    {
      "cell_type": "markdown",
      "source": [
        "---"
      ],
      "metadata": {
        "id": "AhnK38CQd29q"
      }
    },
    {
      "cell_type": "markdown",
      "source": [
        "### **odometer**"
      ],
      "metadata": {
        "id": "RnksfBW3ZG02"
      }
    },
    {
      "cell_type": "markdown",
      "source": [
        "`odometer`는 주행거리를 나타내는 컬럼입니다.\n",
        "\n",
        "많이 탄 차량일수록 가격이 낮아지는 게 정상이겠죠.\n",
        "\n",
        "두 변수의 상관관계를 살펴보겠습니다."
      ],
      "metadata": {
        "id": "_yUgwtzgd18m"
      }
    },
    {
      "cell_type": "code",
      "source": [
        "sns.relplot(data=X, x='odometer', y='target', height=7)"
      ],
      "metadata": {
        "colab": {
          "base_uri": "https://localhost:8080/",
          "height": 530
        },
        "id": "z_YpoeVxeH1O",
        "outputId": "fb0632be-8d2f-4708-aa4f-d45304dc458f"
      },
      "execution_count": 703,
      "outputs": [
        {
          "output_type": "execute_result",
          "data": {
            "text/plain": [
              "<seaborn.axisgrid.FacetGrid at 0x7ff658819a50>"
            ]
          },
          "metadata": {},
          "execution_count": 703
        },
        {
          "output_type": "display_data",
          "data": {
            "text/plain": [
              "<Figure size 504x504 with 1 Axes>"
            ],
            "image/png": "[encoded data removed]"
          },
          "metadata": {
            "needs_background": "light"
          }
        }
      ]
    },
    {
      "cell_type": "markdown",
      "source": [
        "예상했던 대로, odometer 값이 증가하면 target 값이 감소하는 경향이 있습니다.\n",
        "\n",
        "그런데 중간에 odometer 값이 비슷한 다른 차량 대비 가격이 높은 차량이 하나 보입니다.\n",
        "\n",
        "혹시 이상치인지 확인해보겠습니다."
      ],
      "metadata": {
        "id": "85KoVbZPeaXl"
      }
    },
    {
      "cell_type": "code",
      "source": [
        "X.loc[((X['odometer'] > 0.4*1e6) & (X['target'] > 0.6*1e8))]"
      ],
      "metadata": {
        "colab": {
          "base_uri": "https://localhost:8080/",
          "height": 81
        },
        "id": "MZ_pxDDlfdIz",
        "outputId": "37e57867-10c8-4c2a-cb7c-25beff4726ed"
      },
      "execution_count": 704,
      "outputs": [
        {
          "output_type": "execute_result",
          "data": {
            "text/plain": [
              "      id             title  odometer location    isimported          engine  \\\n",
              "827  827  Mercedes-Benz/52    510053    Lagos  Locally used  6-cylinder(V6)   \n",
              "\n",
              "    transmission    fuel  paint  year    target  \n",
              "827       manual  diesel  white  1217  75015000  "
            ],
            "text/html": [
              "\n",
              "  <div id=\"df-bd229e24-c4a9-4cd6-9f15-d4b7fa47c62b\">\n",
              "    <div class=\"colab-df-container\">\n",
              "      <div>\n",
              "<style scoped>\n",
              "    .dataframe tbody tr th:only-of-type {\n",
              "        vertical-align: middle;\n",
              "    }\n",
              "\n",
              "    .dataframe tbody tr th {\n",
              "        vertical-align: top;\n",
              "    }\n",
              "\n",
              "    .dataframe thead th {\n",
              "        text-align: right;\n",
              "    }\n",
              "</style>\n",
              "<table border=\"1\" class=\"dataframe\">\n",
              "  <thead>\n",
              "    <tr style=\"text-align: right;\">\n",
              "      <th></th>\n",
              "      <th>id</th>\n",
              "      <th>title</th>\n",
              "      <th>odometer</th>\n",
              "      <th>location</th>\n",
              "      <th>isimported</th>\n",
              "      <th>engine</th>\n",
              "      <th>transmission</th>\n",
              "      <th>fuel</th>\n",
              "      <th>paint</th>\n",
              "      <th>year</th>\n",
              "      <th>target</th>\n",
              "    </tr>\n",
              "  </thead>\n",
              "  <tbody>\n",
              "    <tr>\n",
              "      <th>827</th>\n",
              "      <td>827</td>\n",
              "      <td>Mercedes-Benz/52</td>\n",
              "      <td>510053</td>\n",
              "      <td>Lagos</td>\n",
              "      <td>Locally used</td>\n",
              "      <td>6-cylinder(V6)</td>\n",
              "      <td>manual</td>\n",
              "      <td>diesel</td>\n",
              "      <td>white</td>\n",
              "      <td>1217</td>\n",
              "      <td>75015000</td>\n",
              "    </tr>\n",
              "  </tbody>\n",
              "</table>\n",
              "</div>\n",
              "      <button class=\"colab-df-convert\" onclick=\"convertToInteractive('df-bd229e24-c4a9-4cd6-9f15-d4b7fa47c62b')\"\n",
              "              title=\"Convert this dataframe to an interactive table.\"\n",
              "              style=\"display:none;\">\n",
              "        \n",
              "  <svg xmlns=\"http://www.w3.org/2000/svg\" height=\"24px\"viewBox=\"0 0 24 24\"\n",
              "       width=\"24px\">\n",
              "    <path d=\"M0 0h24v24H0V0z\" fill=\"none\"/>\n",
              "    <path d=\"M18.56 5.44l.94 2.06.94-2.06 2.06-.94-2.06-.94-.94-2.06-.94 2.06-2.06.94zm-11 1L8.5 8.5l.94-2.06 2.06-.94-2.06-.94L8.5 2.5l-.94 2.06-2.06.94zm10 10l.94 2.06.94-2.06 2.06-.94-2.06-.94-.94-2.06-.94 2.06-2.06.94z\"/><path d=\"M17.41 7.96l-1.37-1.37c-.4-.4-.92-.59-1.43-.59-.52 0-1.04.2-1.43.59L10.3 9.45l-7.72 7.72c-.78.78-.78 2.05 0 2.83L4 21.41c.39.39.9.59 1.41.59.51 0 1.02-.2 1.41-.59l7.78-7.78 2.81-2.81c.8-.78.8-2.07 0-2.86zM5.41 20L4 18.59l7.72-7.72 1.47 1.35L5.41 20z\"/>\n",
              "  </svg>\n",
              "      </button>\n",
              "      \n",
              "  <style>\n",
              "    .colab-df-container {\n",
              "      display:flex;\n",
              "      flex-wrap:wrap;\n",
              "      gap: 12px;\n",
              "    }\n",
              "\n",
              "    .colab-df-convert {\n",
              "      background-color: #E8F0FE;\n",
              "      border: none;\n",
              "      border-radius: 50%;\n",
              "      cursor: pointer;\n",
              "      display: none;\n",
              "      fill: #1967D2;\n",
              "      height: 32px;\n",
              "      padding: 0 0 0 0;\n",
              "      width: 32px;\n",
              "    }\n",
              "\n",
              "    .colab-df-convert:hover {\n",
              "      background-color: #E2EBFA;\n",
              "      box-shadow: 0px 1px 2px rgba(60, 64, 67, 0.3), 0px 1px 3px 1px rgba(60, 64, 67, 0.15);\n",
              "      fill: #174EA6;\n",
              "    }\n",
              "\n",
              "    [theme=dark] .colab-df-convert {\n",
              "      background-color: #3B4455;\n",
              "      fill: #D2E3FC;\n",
              "    }\n",
              "\n",
              "    [theme=dark] .colab-df-convert:hover {\n",
              "      background-color: #434B5C;\n",
              "      box-shadow: 0px 1px 3px 1px rgba(0, 0, 0, 0.15);\n",
              "      filter: drop-shadow(0px 1px 2px rgba(0, 0, 0, 0.3));\n",
              "      fill: #FFFFFF;\n",
              "    }\n",
              "  </style>\n",
              "\n",
              "      <script>\n",
              "        const buttonEl =\n",
              "          document.querySelector('#df-bd229e24-c4a9-4cd6-9f15-d4b7fa47c62b button.colab-df-convert');\n",
              "        buttonEl.style.display =\n",
              "          google.colab.kernel.accessAllowed ? 'block' : 'none';\n",
              "\n",
              "        async function convertToInteractive(key) {\n",
              "          const element = document.querySelector('#df-bd229e24-c4a9-4cd6-9f15-d4b7fa47c62b');\n",
              "          const dataTable =\n",
              "            await google.colab.kernel.invokeFunction('convertToInteractive',\n",
              "                                                     [key], {});\n",
              "          if (!dataTable) return;\n",
              "\n",
              "          const docLinkHtml = 'Like what you see? Visit the ' +\n",
              "            '<a target=\"_blank\" href=https://colab.research.google.com/notebooks/data_table.ipynb>data table notebook</a>'\n",
              "            + ' to learn more about interactive tables.';\n",
              "          element.innerHTML = '';\n",
              "          dataTable['output_type'] = 'display_data';\n",
              "          await google.colab.output.renderOutput(dataTable, element);\n",
              "          const docLink = document.createElement('div');\n",
              "          docLink.innerHTML = docLinkHtml;\n",
              "          element.appendChild(docLink);\n",
              "        }\n",
              "      </script>\n",
              "    </div>\n",
              "  </div>\n",
              "  "
            ]
          },
          "metadata": {},
          "execution_count": 704
        }
      ]
    },
    {
      "cell_type": "markdown",
      "source": [
        "odometer, year, target 모두 값이 이상합니다.\n",
        "\n",
        "아마 오기입이겠지만, 어쨌든 이상치이고 한 개 값밖에 없으니 지워줍니다."
      ],
      "metadata": {
        "id": "WTP5ffjBftEC"
      }
    },
    {
      "cell_type": "code",
      "source": [
        "X = X.drop(827)"
      ],
      "metadata": {
        "id": "hb4Q1kxphUjg"
      },
      "execution_count": 705,
      "outputs": []
    },
    {
      "cell_type": "markdown",
      "source": [
        "그래프 상으로는 별 문제가 없어 보이지만, 혹시 모르니 양 끝값도 확인해보겠습니다."
      ],
      "metadata": {
        "id": "DaZoRmt5gA6k"
      }
    },
    {
      "cell_type": "code",
      "source": [
        "X.loc[(X['target'] > 1.4*1e8)]"
      ],
      "metadata": {
        "colab": {
          "base_uri": "https://localhost:8080/",
          "height": 81
        },
        "id": "kUF6z-DQjVRs",
        "outputId": "d717a8f8-0330-477f-b21a-fde2c3706ace"
      },
      "execution_count": 706,
      "outputs": [
        {
          "output_type": "execute_result",
          "data": {
            "text/plain": [
              "      id              title  odometer location    isimported          engine  \\\n",
              "597  597  Rolls-Royce Ghost     16069    Lagos  Locally used  4-cylinder(I4)   \n",
              "\n",
              "    transmission    fuel  paint  year     target  \n",
              "597    automatic  petrol  Black  2011  150015008  "
            ],
            "text/html": [
              "\n",
              "  <div id=\"df-b00fd516-c942-4099-8caa-b341fba06a73\">\n",
              "    <div class=\"colab-df-container\">\n",
              "      <div>\n",
              "<style scoped>\n",
              "    .dataframe tbody tr th:only-of-type {\n",
              "        vertical-align: middle;\n",
              "    }\n",
              "\n",
              "    .dataframe tbody tr th {\n",
              "        vertical-align: top;\n",
              "    }\n",
              "\n",
              "    .dataframe thead th {\n",
              "        text-align: right;\n",
              "    }\n",
              "</style>\n",
              "<table border=\"1\" class=\"dataframe\">\n",
              "  <thead>\n",
              "    <tr style=\"text-align: right;\">\n",
              "      <th></th>\n",
              "      <th>id</th>\n",
              "      <th>title</th>\n",
              "      <th>odometer</th>\n",
              "      <th>location</th>\n",
              "      <th>isimported</th>\n",
              "      <th>engine</th>\n",
              "      <th>transmission</th>\n",
              "      <th>fuel</th>\n",
              "      <th>paint</th>\n",
              "      <th>year</th>\n",
              "      <th>target</th>\n",
              "    </tr>\n",
              "  </thead>\n",
              "  <tbody>\n",
              "    <tr>\n",
              "      <th>597</th>\n",
              "      <td>597</td>\n",
              "      <td>Rolls-Royce Ghost</td>\n",
              "      <td>16069</td>\n",
              "      <td>Lagos</td>\n",
              "      <td>Locally used</td>\n",
              "      <td>4-cylinder(I4)</td>\n",
              "      <td>automatic</td>\n",
              "      <td>petrol</td>\n",
              "      <td>Black</td>\n",
              "      <td>2011</td>\n",
              "      <td>150015008</td>\n",
              "    </tr>\n",
              "  </tbody>\n",
              "</table>\n",
              "</div>\n",
              "      <button class=\"colab-df-convert\" onclick=\"convertToInteractive('df-b00fd516-c942-4099-8caa-b341fba06a73')\"\n",
              "              title=\"Convert this dataframe to an interactive table.\"\n",
              "              style=\"display:none;\">\n",
              "        \n",
              "  <svg xmlns=\"http://www.w3.org/2000/svg\" height=\"24px\"viewBox=\"0 0 24 24\"\n",
              "       width=\"24px\">\n",
              "    <path d=\"M0 0h24v24H0V0z\" fill=\"none\"/>\n",
              "    <path d=\"M18.56 5.44l.94 2.06.94-2.06 2.06-.94-2.06-.94-.94-2.06-.94 2.06-2.06.94zm-11 1L8.5 8.5l.94-2.06 2.06-.94-2.06-.94L8.5 2.5l-.94 2.06-2.06.94zm10 10l.94 2.06.94-2.06 2.06-.94-2.06-.94-.94-2.06-.94 2.06-2.06.94z\"/><path d=\"M17.41 7.96l-1.37-1.37c-.4-.4-.92-.59-1.43-.59-.52 0-1.04.2-1.43.59L10.3 9.45l-7.72 7.72c-.78.78-.78 2.05 0 2.83L4 21.41c.39.39.9.59 1.41.59.51 0 1.02-.2 1.41-.59l7.78-7.78 2.81-2.81c.8-.78.8-2.07 0-2.86zM5.41 20L4 18.59l7.72-7.72 1.47 1.35L5.41 20z\"/>\n",
              "  </svg>\n",
              "      </button>\n",
              "      \n",
              "  <style>\n",
              "    .colab-df-container {\n",
              "      display:flex;\n",
              "      flex-wrap:wrap;\n",
              "      gap: 12px;\n",
              "    }\n",
              "\n",
              "    .colab-df-convert {\n",
              "      background-color: #E8F0FE;\n",
              "      border: none;\n",
              "      border-radius: 50%;\n",
              "      cursor: pointer;\n",
              "      display: none;\n",
              "      fill: #1967D2;\n",
              "      height: 32px;\n",
              "      padding: 0 0 0 0;\n",
              "      width: 32px;\n",
              "    }\n",
              "\n",
              "    .colab-df-convert:hover {\n",
              "      background-color: #E2EBFA;\n",
              "      box-shadow: 0px 1px 2px rgba(60, 64, 67, 0.3), 0px 1px 3px 1px rgba(60, 64, 67, 0.15);\n",
              "      fill: #174EA6;\n",
              "    }\n",
              "\n",
              "    [theme=dark] .colab-df-convert {\n",
              "      background-color: #3B4455;\n",
              "      fill: #D2E3FC;\n",
              "    }\n",
              "\n",
              "    [theme=dark] .colab-df-convert:hover {\n",
              "      background-color: #434B5C;\n",
              "      box-shadow: 0px 1px 3px 1px rgba(0, 0, 0, 0.15);\n",
              "      filter: drop-shadow(0px 1px 2px rgba(0, 0, 0, 0.3));\n",
              "      fill: #FFFFFF;\n",
              "    }\n",
              "  </style>\n",
              "\n",
              "      <script>\n",
              "        const buttonEl =\n",
              "          document.querySelector('#df-b00fd516-c942-4099-8caa-b341fba06a73 button.colab-df-convert');\n",
              "        buttonEl.style.display =\n",
              "          google.colab.kernel.accessAllowed ? 'block' : 'none';\n",
              "\n",
              "        async function convertToInteractive(key) {\n",
              "          const element = document.querySelector('#df-b00fd516-c942-4099-8caa-b341fba06a73');\n",
              "          const dataTable =\n",
              "            await google.colab.kernel.invokeFunction('convertToInteractive',\n",
              "                                                     [key], {});\n",
              "          if (!dataTable) return;\n",
              "\n",
              "          const docLinkHtml = 'Like what you see? Visit the ' +\n",
              "            '<a target=\"_blank\" href=https://colab.research.google.com/notebooks/data_table.ipynb>data table notebook</a>'\n",
              "            + ' to learn more about interactive tables.';\n",
              "          element.innerHTML = '';\n",
              "          dataTable['output_type'] = 'display_data';\n",
              "          await google.colab.output.renderOutput(dataTable, element);\n",
              "          const docLink = document.createElement('div');\n",
              "          docLink.innerHTML = docLinkHtml;\n",
              "          element.appendChild(docLink);\n",
              "        }\n",
              "      </script>\n",
              "    </div>\n",
              "  </div>\n",
              "  "
            ]
          },
          "metadata": {},
          "execution_count": 706
        }
      ]
    },
    {
      "cell_type": "code",
      "source": [
        "X.loc[(X['odometer'] > 0.9*1e6)]"
      ],
      "metadata": {
        "colab": {
          "base_uri": "https://localhost:8080/",
          "height": 81
        },
        "id": "X0K_49dRjcG0",
        "outputId": "25e0a26a-c394-410e-aa56-61a664d9af26"
      },
      "execution_count": 707,
      "outputs": [
        {
          "output_type": "execute_result",
          "data": {
            "text/plain": [
              "      id          title  odometer location    isimported          engine  \\\n",
              "190  190  Toyota Sienna    987322    Lagos  Locally used  6-cylinder(V6)   \n",
              "\n",
              "    transmission    fuel paint  year  target  \n",
              "190    automatic  petrol  Gold  2000  765000  "
            ],
            "text/html": [
              "\n",
              "  <div id=\"df-79b240a9-514b-40bb-bcee-668bcefcf727\">\n",
              "    <div class=\"colab-df-container\">\n",
              "      <div>\n",
              "<style scoped>\n",
              "    .dataframe tbody tr th:only-of-type {\n",
              "        vertical-align: middle;\n",
              "    }\n",
              "\n",
              "    .dataframe tbody tr th {\n",
              "        vertical-align: top;\n",
              "    }\n",
              "\n",
              "    .dataframe thead th {\n",
              "        text-align: right;\n",
              "    }\n",
              "</style>\n",
              "<table border=\"1\" class=\"dataframe\">\n",
              "  <thead>\n",
              "    <tr style=\"text-align: right;\">\n",
              "      <th></th>\n",
              "      <th>id</th>\n",
              "      <th>title</th>\n",
              "      <th>odometer</th>\n",
              "      <th>location</th>\n",
              "      <th>isimported</th>\n",
              "      <th>engine</th>\n",
              "      <th>transmission</th>\n",
              "      <th>fuel</th>\n",
              "      <th>paint</th>\n",
              "      <th>year</th>\n",
              "      <th>target</th>\n",
              "    </tr>\n",
              "  </thead>\n",
              "  <tbody>\n",
              "    <tr>\n",
              "      <th>190</th>\n",
              "      <td>190</td>\n",
              "      <td>Toyota Sienna</td>\n",
              "      <td>987322</td>\n",
              "      <td>Lagos</td>\n",
              "      <td>Locally used</td>\n",
              "      <td>6-cylinder(V6)</td>\n",
              "      <td>automatic</td>\n",
              "      <td>petrol</td>\n",
              "      <td>Gold</td>\n",
              "      <td>2000</td>\n",
              "      <td>765000</td>\n",
              "    </tr>\n",
              "  </tbody>\n",
              "</table>\n",
              "</div>\n",
              "      <button class=\"colab-df-convert\" onclick=\"convertToInteractive('df-79b240a9-514b-40bb-bcee-668bcefcf727')\"\n",
              "              title=\"Convert this dataframe to an interactive table.\"\n",
              "              style=\"display:none;\">\n",
              "        \n",
              "  <svg xmlns=\"http://www.w3.org/2000/svg\" height=\"24px\"viewBox=\"0 0 24 24\"\n",
              "       width=\"24px\">\n",
              "    <path d=\"M0 0h24v24H0V0z\" fill=\"none\"/>\n",
              "    <path d=\"M18.56 5.44l.94 2.06.94-2.06 2.06-.94-2.06-.94-.94-2.06-.94 2.06-2.06.94zm-11 1L8.5 8.5l.94-2.06 2.06-.94-2.06-.94L8.5 2.5l-.94 2.06-2.06.94zm10 10l.94 2.06.94-2.06 2.06-.94-2.06-.94-.94-2.06-.94 2.06-2.06.94z\"/><path d=\"M17.41 7.96l-1.37-1.37c-.4-.4-.92-.59-1.43-.59-.52 0-1.04.2-1.43.59L10.3 9.45l-7.72 7.72c-.78.78-.78 2.05 0 2.83L4 21.41c.39.39.9.59 1.41.59.51 0 1.02-.2 1.41-.59l7.78-7.78 2.81-2.81c.8-.78.8-2.07 0-2.86zM5.41 20L4 18.59l7.72-7.72 1.47 1.35L5.41 20z\"/>\n",
              "  </svg>\n",
              "      </button>\n",
              "      \n",
              "  <style>\n",
              "    .colab-df-container {\n",
              "      display:flex;\n",
              "      flex-wrap:wrap;\n",
              "      gap: 12px;\n",
              "    }\n",
              "\n",
              "    .colab-df-convert {\n",
              "      background-color: #E8F0FE;\n",
              "      border: none;\n",
              "      border-radius: 50%;\n",
              "      cursor: pointer;\n",
              "      display: none;\n",
              "      fill: #1967D2;\n",
              "      height: 32px;\n",
              "      padding: 0 0 0 0;\n",
              "      width: 32px;\n",
              "    }\n",
              "\n",
              "    .colab-df-convert:hover {\n",
              "      background-color: #E2EBFA;\n",
              "      box-shadow: 0px 1px 2px rgba(60, 64, 67, 0.3), 0px 1px 3px 1px rgba(60, 64, 67, 0.15);\n",
              "      fill: #174EA6;\n",
              "    }\n",
              "\n",
              "    [theme=dark] .colab-df-convert {\n",
              "      background-color: #3B4455;\n",
              "      fill: #D2E3FC;\n",
              "    }\n",
              "\n",
              "    [theme=dark] .colab-df-convert:hover {\n",
              "      background-color: #434B5C;\n",
              "      box-shadow: 0px 1px 3px 1px rgba(0, 0, 0, 0.15);\n",
              "      filter: drop-shadow(0px 1px 2px rgba(0, 0, 0, 0.3));\n",
              "      fill: #FFFFFF;\n",
              "    }\n",
              "  </style>\n",
              "\n",
              "      <script>\n",
              "        const buttonEl =\n",
              "          document.querySelector('#df-79b240a9-514b-40bb-bcee-668bcefcf727 button.colab-df-convert');\n",
              "        buttonEl.style.display =\n",
              "          google.colab.kernel.accessAllowed ? 'block' : 'none';\n",
              "\n",
              "        async function convertToInteractive(key) {\n",
              "          const element = document.querySelector('#df-79b240a9-514b-40bb-bcee-668bcefcf727');\n",
              "          const dataTable =\n",
              "            await google.colab.kernel.invokeFunction('convertToInteractive',\n",
              "                                                     [key], {});\n",
              "          if (!dataTable) return;\n",
              "\n",
              "          const docLinkHtml = 'Like what you see? Visit the ' +\n",
              "            '<a target=\"_blank\" href=https://colab.research.google.com/notebooks/data_table.ipynb>data table notebook</a>'\n",
              "            + ' to learn more about interactive tables.';\n",
              "          element.innerHTML = '';\n",
              "          dataTable['output_type'] = 'display_data';\n",
              "          await google.colab.output.renderOutput(dataTable, element);\n",
              "          const docLink = document.createElement('div');\n",
              "          docLink.innerHTML = docLinkHtml;\n",
              "          element.appendChild(docLink);\n",
              "        }\n",
              "      </script>\n",
              "    </div>\n",
              "  </div>\n",
              "  "
            ]
          },
          "metadata": {},
          "execution_count": 707
        }
      ]
    },
    {
      "cell_type": "markdown",
      "source": [
        "롤스로이스 고스트는 신차 가격이 5.5억이 넘는 초 고가 차량입니다.\n",
        "\n",
        "토요타 시에나도 주행거리를 생각하면 납득이 가는 가격대입니다.\n",
        "\n",
        "(사실 저만큼 탔으면 그냥 폐차하는게 맞지 않나 싶습니다만....)\n",
        "\n",
        "odometer 800000 근처에 비교적 비싼 값에 거래된 차량이 하나 더 있군요. 확인해 보겠습니다.\n",
        "\n"
      ],
      "metadata": {
        "id": "FwVu7Bmsjsh0"
      }
    },
    {
      "cell_type": "code",
      "source": [
        "X.loc[((X['odometer'] > 0.8*1e6) & (X['target'] > 0.2*1e8))]"
      ],
      "metadata": {
        "colab": {
          "base_uri": "https://localhost:8080/",
          "height": 81
        },
        "id": "gbWwusSWkQGM",
        "outputId": "cb23e5b7-22f0-4f04-f291-69c7221119f6"
      },
      "execution_count": 708,
      "outputs": [
        {
          "output_type": "execute_result",
          "data": {
            "text/plain": [
              "        id         title  odometer location    isimported          engine  \\\n",
              "1009  1009  Man BOCKMANN    809456    Lagos  Locally used  6-cylinder(V6)   \n",
              "\n",
              "     transmission    fuel  paint  year    target  \n",
              "1009       manual  diesel  white  1980  26015000  "
            ],
            "text/html": [
              "\n",
              "  <div id=\"df-32027e2b-956f-4230-b831-23a8941be979\">\n",
              "    <div class=\"colab-df-container\">\n",
              "      <div>\n",
              "<style scoped>\n",
              "    .dataframe tbody tr th:only-of-type {\n",
              "        vertical-align: middle;\n",
              "    }\n",
              "\n",
              "    .dataframe tbody tr th {\n",
              "        vertical-align: top;\n",
              "    }\n",
              "\n",
              "    .dataframe thead th {\n",
              "        text-align: right;\n",
              "    }\n",
              "</style>\n",
              "<table border=\"1\" class=\"dataframe\">\n",
              "  <thead>\n",
              "    <tr style=\"text-align: right;\">\n",
              "      <th></th>\n",
              "      <th>id</th>\n",
              "      <th>title</th>\n",
              "      <th>odometer</th>\n",
              "      <th>location</th>\n",
              "      <th>isimported</th>\n",
              "      <th>engine</th>\n",
              "      <th>transmission</th>\n",
              "      <th>fuel</th>\n",
              "      <th>paint</th>\n",
              "      <th>year</th>\n",
              "      <th>target</th>\n",
              "    </tr>\n",
              "  </thead>\n",
              "  <tbody>\n",
              "    <tr>\n",
              "      <th>1009</th>\n",
              "      <td>1009</td>\n",
              "      <td>Man BOCKMANN</td>\n",
              "      <td>809456</td>\n",
              "      <td>Lagos</td>\n",
              "      <td>Locally used</td>\n",
              "      <td>6-cylinder(V6)</td>\n",
              "      <td>manual</td>\n",
              "      <td>diesel</td>\n",
              "      <td>white</td>\n",
              "      <td>1980</td>\n",
              "      <td>26015000</td>\n",
              "    </tr>\n",
              "  </tbody>\n",
              "</table>\n",
              "</div>\n",
              "      <button class=\"colab-df-convert\" onclick=\"convertToInteractive('df-32027e2b-956f-4230-b831-23a8941be979')\"\n",
              "              title=\"Convert this dataframe to an interactive table.\"\n",
              "              style=\"display:none;\">\n",
              "        \n",
              "  <svg xmlns=\"http://www.w3.org/2000/svg\" height=\"24px\"viewBox=\"0 0 24 24\"\n",
              "       width=\"24px\">\n",
              "    <path d=\"M0 0h24v24H0V0z\" fill=\"none\"/>\n",
              "    <path d=\"M18.56 5.44l.94 2.06.94-2.06 2.06-.94-2.06-.94-.94-2.06-.94 2.06-2.06.94zm-11 1L8.5 8.5l.94-2.06 2.06-.94-2.06-.94L8.5 2.5l-.94 2.06-2.06.94zm10 10l.94 2.06.94-2.06 2.06-.94-2.06-.94-.94-2.06-.94 2.06-2.06.94z\"/><path d=\"M17.41 7.96l-1.37-1.37c-.4-.4-.92-.59-1.43-.59-.52 0-1.04.2-1.43.59L10.3 9.45l-7.72 7.72c-.78.78-.78 2.05 0 2.83L4 21.41c.39.39.9.59 1.41.59.51 0 1.02-.2 1.41-.59l7.78-7.78 2.81-2.81c.8-.78.8-2.07 0-2.86zM5.41 20L4 18.59l7.72-7.72 1.47 1.35L5.41 20z\"/>\n",
              "  </svg>\n",
              "      </button>\n",
              "      \n",
              "  <style>\n",
              "    .colab-df-container {\n",
              "      display:flex;\n",
              "      flex-wrap:wrap;\n",
              "      gap: 12px;\n",
              "    }\n",
              "\n",
              "    .colab-df-convert {\n",
              "      background-color: #E8F0FE;\n",
              "      border: none;\n",
              "      border-radius: 50%;\n",
              "      cursor: pointer;\n",
              "      display: none;\n",
              "      fill: #1967D2;\n",
              "      height: 32px;\n",
              "      padding: 0 0 0 0;\n",
              "      width: 32px;\n",
              "    }\n",
              "\n",
              "    .colab-df-convert:hover {\n",
              "      background-color: #E2EBFA;\n",
              "      box-shadow: 0px 1px 2px rgba(60, 64, 67, 0.3), 0px 1px 3px 1px rgba(60, 64, 67, 0.15);\n",
              "      fill: #174EA6;\n",
              "    }\n",
              "\n",
              "    [theme=dark] .colab-df-convert {\n",
              "      background-color: #3B4455;\n",
              "      fill: #D2E3FC;\n",
              "    }\n",
              "\n",
              "    [theme=dark] .colab-df-convert:hover {\n",
              "      background-color: #434B5C;\n",
              "      box-shadow: 0px 1px 3px 1px rgba(0, 0, 0, 0.15);\n",
              "      filter: drop-shadow(0px 1px 2px rgba(0, 0, 0, 0.3));\n",
              "      fill: #FFFFFF;\n",
              "    }\n",
              "  </style>\n",
              "\n",
              "      <script>\n",
              "        const buttonEl =\n",
              "          document.querySelector('#df-32027e2b-956f-4230-b831-23a8941be979 button.colab-df-convert');\n",
              "        buttonEl.style.display =\n",
              "          google.colab.kernel.accessAllowed ? 'block' : 'none';\n",
              "\n",
              "        async function convertToInteractive(key) {\n",
              "          const element = document.querySelector('#df-32027e2b-956f-4230-b831-23a8941be979');\n",
              "          const dataTable =\n",
              "            await google.colab.kernel.invokeFunction('convertToInteractive',\n",
              "                                                     [key], {});\n",
              "          if (!dataTable) return;\n",
              "\n",
              "          const docLinkHtml = 'Like what you see? Visit the ' +\n",
              "            '<a target=\"_blank\" href=https://colab.research.google.com/notebooks/data_table.ipynb>data table notebook</a>'\n",
              "            + ' to learn more about interactive tables.';\n",
              "          element.innerHTML = '';\n",
              "          dataTable['output_type'] = 'display_data';\n",
              "          await google.colab.output.renderOutput(dataTable, element);\n",
              "          const docLink = document.createElement('div');\n",
              "          docLink.innerHTML = docLinkHtml;\n",
              "          element.appendChild(docLink);\n",
              "        }\n",
              "      </script>\n",
              "    </div>\n",
              "  </div>\n",
              "  "
            ]
          },
          "metadata": {},
          "execution_count": 708
        }
      ]
    },
    {
      "cell_type": "markdown",
      "source": [
        "![bookmann.jpg](data:image/jpeg;base64,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)"
      ],
      "metadata": {
        "id": "H3aBdVkJzk-t"
      }
    },
    {
      "cell_type": "markdown",
      "source": [
        "찾아보니 오래된 말 운반용 트럭입니다.\n",
        "\n",
        "나름대로 비쌀 만한 이유가 있네요.\n",
        "\n",
        "이제 인덱스 리셋을 해주고, 상관관계 그래프를 그려봅니다."
      ],
      "metadata": {
        "id": "xnE_o_Wikxti"
      }
    },
    {
      "cell_type": "code",
      "source": [
        "X = X.reset_index(drop=True)"
      ],
      "metadata": {
        "id": "C2UwMxZ_8psH"
      },
      "execution_count": 709,
      "outputs": []
    },
    {
      "cell_type": "code",
      "source": [
        "sns.lmplot(data=X, x='odometer', y='target')"
      ],
      "metadata": {
        "colab": {
          "base_uri": "https://localhost:8080/",
          "height": 386
        },
        "id": "3Nkt8FF4zjCM",
        "outputId": "a61f8de3-7742-4844-d9b2-4e34a310a026"
      },
      "execution_count": 710,
      "outputs": [
        {
          "output_type": "execute_result",
          "data": {
            "text/plain": [
              "<seaborn.axisgrid.FacetGrid at 0x7ff63e43f210>"
            ]
          },
          "metadata": {},
          "execution_count": 710
        },
        {
          "output_type": "display_data",
          "data": {
            "text/plain": [
              "<Figure size 360x360 with 1 Axes>"
            ],
            "image/png": "[encoded data removed]"
          },
          "metadata": {
            "needs_background": "light"
          }
        }
      ]
    },
    {
      "cell_type": "markdown",
      "source": [
        "추세선이 우하단 방향으로 그려지는 걸 통해 가설대로 두 변수간에 반비례 관계가 있다는 것을 알 수 있습니다."
      ],
      "metadata": {
        "id": "81-iknMezu48"
      }
    },
    {
      "cell_type": "markdown",
      "source": [
        "---"
      ],
      "metadata": {
        "id": "l2ZKO_UP0Bik"
      }
    },
    {
      "cell_type": "markdown",
      "source": [
        "### **location**"
      ],
      "metadata": {
        "id": "OPk24Cr90Es1"
      }
    },
    {
      "cell_type": "markdown",
      "source": [
        "`location` 데이터는 판매처(나이지리아 도시) 정보 입니다.\n",
        "\n",
        "특정 도시에서 차값이 비싸거나 저렴할 수도 있을 겁니다."
      ],
      "metadata": {
        "id": "fZETF4mh0Kqq"
      }
    },
    {
      "cell_type": "code",
      "source": [
        "len(X['location'].unique())"
      ],
      "metadata": {
        "colab": {
          "base_uri": "https://localhost:8080/"
        },
        "id": "UyY2xDSx0VZr",
        "outputId": "548e0332-b6d1-48ba-eb74-fc2c1c99b255"
      },
      "execution_count": 711,
      "outputs": [
        {
          "output_type": "execute_result",
          "data": {
            "text/plain": [
              "13"
            ]
          },
          "metadata": {},
          "execution_count": 711
        }
      ]
    },
    {
      "cell_type": "markdown",
      "source": [
        "총 13개의 도시에서 거래된 내역들입니다.\n",
        "\n",
        "마찬가지로 거래 빈도를 확인해 보겠습니다."
      ],
      "metadata": {
        "id": "hZN63N160ceL"
      }
    },
    {
      "cell_type": "code",
      "source": [
        "X['location'].value_counts()"
      ],
      "metadata": {
        "colab": {
          "base_uri": "https://localhost:8080/"
        },
        "id": "lrRvEejI0iUr",
        "outputId": "903bc837-d231-46d1-f68c-b33eaf52d222"
      },
      "execution_count": 712,
      "outputs": [
        {
          "output_type": "execute_result",
          "data": {
            "text/plain": [
              "Lagos          791\n",
              "Abuja          146\n",
              "Ogun            26\n",
              "Lagos           23\n",
              "Lagos State     16\n",
              "other            4\n",
              "FCT              2\n",
              "Accra            1\n",
              "Abuja            1\n",
              "Abia State       1\n",
              "Adamawa          1\n",
              "Abia             1\n",
              "Ogun State       1\n",
              "Name: location, dtype: int64"
            ]
          },
          "metadata": {},
          "execution_count": 712
        }
      ]
    },
    {
      "cell_type": "markdown",
      "source": [
        "같은 도시인데 다른 unique 값으로 표현된 값들이 있습니다.\n",
        "\n",
        "정규표현식을 사용해 일관성 있는 표현들로 바꿔주겠습니다.\n",
        "\n",
        "함수를 만들어서 이후에도 사용합니다."
      ],
      "metadata": {
        "id": "_lSkqeCI0lrC"
      }
    },
    {
      "cell_type": "code",
      "source": [
        "def clean_text(texts):\n",
        "    corpus = [] \n",
        "    for i in range(0, len(texts)): \n",
        "        review = re.sub(r'[@%\\\\*=()/~#&\\+á?\\xc3\\xa1\\-\\|\\.\\:\\;\\!\\-\\,\\_\\~\\$\\'\\\"\\n\\]\\[\\>\\<]', '',texts[i]) #@%*=()/+ 와 같은 문장부호 제거\n",
        "        review = re.sub(r'\\d+','',review)\n",
        "        review = review.lower()\n",
        "        review = re.sub(r'state', '', review) # 뒤에 붙는 state 제거\n",
        "        review = re.sub(r'\\s+', ' ', review) # extra space 제거\n",
        "        review = re.sub(r'<[^>]+>','',review) # Html tags 제거\n",
        "        review = re.sub(r'\\s+', ' ', review) # spaces 제거\n",
        "        review = re.sub(r\"^\\s+\", '', review) # space from start 제거\n",
        "        review = re.sub(r'\\s+$', '', review) # space from the end 제거\n",
        "        review = re.sub(r'_', ' ', review) # space from the end 제거\n",
        "        corpus.append(review) \n",
        "        \n",
        "    return corpus\n",
        "\n",
        "print('Done!')"
      ],
      "metadata": {
        "colab": {
          "base_uri": "https://localhost:8080/"
        },
        "id": "cpcGttrw2BTZ",
        "outputId": "ca475103-c8c7-41b2-ddfc-9f14e1c8371b"
      },
      "execution_count": 713,
      "outputs": [
        {
          "output_type": "stream",
          "name": "stdout",
          "text": [
            "Done!\n"
          ]
        }
      ]
    },
    {
      "cell_type": "code",
      "source": [
        "X['location'] = clean_text(X['location'])\n",
        "\n",
        "print('Done!')"
      ],
      "metadata": {
        "colab": {
          "base_uri": "https://localhost:8080/"
        },
        "id": "wSsajy_k8EZZ",
        "outputId": "a33a20bb-95b6-478c-ee44-f250e682823f"
      },
      "execution_count": 714,
      "outputs": [
        {
          "output_type": "stream",
          "name": "stdout",
          "text": [
            "Done!\n"
          ]
        }
      ]
    },
    {
      "cell_type": "code",
      "source": [
        "X['location'].nunique()"
      ],
      "metadata": {
        "colab": {
          "base_uri": "https://localhost:8080/"
        },
        "id": "kUT0gdOSfzuP",
        "outputId": "1e9f313c-57b2-4c80-d142-cb120055e2cd"
      },
      "execution_count": 715,
      "outputs": [
        {
          "output_type": "execute_result",
          "data": {
            "text/plain": [
              "8"
            ]
          },
          "metadata": {},
          "execution_count": 715
        }
      ]
    },
    {
      "cell_type": "code",
      "source": [
        "X['location'].value_counts()"
      ],
      "metadata": {
        "colab": {
          "base_uri": "https://localhost:8080/"
        },
        "id": "b9Qf39x49xJt",
        "outputId": "c70a9f2b-42d2-4aae-c041-fed0cf2c2249"
      },
      "execution_count": 716,
      "outputs": [
        {
          "output_type": "execute_result",
          "data": {
            "text/plain": [
              "lagos      830\n",
              "abuja      147\n",
              "ogun        27\n",
              "other        4\n",
              "fct          2\n",
              "abia         2\n",
              "accra        1\n",
              "adamawa      1\n",
              "Name: location, dtype: int64"
            ]
          },
          "metadata": {},
          "execution_count": 716
        }
      ]
    },
    {
      "cell_type": "markdown",
      "source": [
        "자연스럽게 정리가 되면서 다른 도시로 구분되었던 row 들도 합쳐진 것을 확인할 수 있습니다.\n",
        "\n",
        "(fct는 나이지리아의 연방수도부 입니다.)\n",
        "\n",
        "도시별로 가격 분포를 보겠습니다."
      ],
      "metadata": {
        "id": "WJF2eNIv-SwS"
      }
    },
    {
      "cell_type": "code",
      "source": [
        "sns.relplot(data=X, x='location', y='target')"
      ],
      "metadata": {
        "colab": {
          "base_uri": "https://localhost:8080/",
          "height": 386
        },
        "id": "kYhUmzuQBoIL",
        "outputId": "ba6ff6bd-abe4-4994-b679-61afdc602665"
      },
      "execution_count": 717,
      "outputs": [
        {
          "output_type": "execute_result",
          "data": {
            "text/plain": [
              "<seaborn.axisgrid.FacetGrid at 0x7ff6585c3a90>"
            ]
          },
          "metadata": {},
          "execution_count": 717
        },
        {
          "output_type": "display_data",
          "data": {
            "text/plain": [
              "<Figure size 360x360 with 1 Axes>"
            ],
            "image/png": "[encoded data removed]"
          },
          "metadata": {
            "needs_background": "light"
          }
        }
      ]
    },
    {
      "cell_type": "markdown",
      "source": [
        "도시별로 특별하게 이상한 분포가 관측되지는 않습니다.\n",
        "\n",
        "다음 컬럼을 살펴보겠습니다."
      ],
      "metadata": {
        "id": "Th6YCSzDxY3p"
      }
    },
    {
      "cell_type": "markdown",
      "source": [
        "---"
      ],
      "metadata": {
        "id": "qqX9MFrL4KWv"
      }
    },
    {
      "cell_type": "markdown",
      "source": [
        "### **isimported**"
      ],
      "metadata": {
        "id": "VoSvnYPp4LON"
      }
    },
    {
      "cell_type": "markdown",
      "source": [
        "현지 사용 여부 데이터입니다.\n",
        "\n",
        "아마 해당 컬럼이 자동차의 감가상각에 큰 영향을 미칠 것 같습니다."
      ],
      "metadata": {
        "id": "j1vuynYG4PTV"
      }
    },
    {
      "cell_type": "code",
      "source": [
        "X['isimported'] = clean_text(X['isimported'])"
      ],
      "metadata": {
        "id": "2FOhb0P21gJN"
      },
      "execution_count": 718,
      "outputs": []
    },
    {
      "cell_type": "code",
      "source": [
        "len(X['isimported'].unique())"
      ],
      "metadata": {
        "colab": {
          "base_uri": "https://localhost:8080/"
        },
        "id": "d9nSeIyI4pDz",
        "outputId": "2ca1736d-5041-4e66-e228-94897716eb6c"
      },
      "execution_count": 719,
      "outputs": [
        {
          "output_type": "execute_result",
          "data": {
            "text/plain": [
              "3"
            ]
          },
          "metadata": {},
          "execution_count": 719
        }
      ]
    },
    {
      "cell_type": "code",
      "source": [
        "X['isimported'].value_counts()"
      ],
      "metadata": {
        "colab": {
          "base_uri": "https://localhost:8080/"
        },
        "id": "wB37FbTs4sqL",
        "outputId": "ca6e13d3-b6b3-4bcb-a789-622171f1b0da"
      },
      "execution_count": 720,
      "outputs": [
        {
          "output_type": "execute_result",
          "data": {
            "text/plain": [
              "foreign used    744\n",
              "locally used    247\n",
              "new              23\n",
              "Name: isimported, dtype: int64"
            ]
          },
          "metadata": {},
          "execution_count": 720
        }
      ]
    },
    {
      "cell_type": "markdown",
      "source": [
        "해외에서 수입해오는 중고차가 많군요.\n",
        "\n",
        "지역별로 가격 분포를 살펴보겠습니다.\n"
      ],
      "metadata": {
        "id": "FmcUOvm34v9T"
      }
    },
    {
      "cell_type": "code",
      "source": [
        "sns.relplot(data=X, x = 'isimported', y='target')"
      ],
      "metadata": {
        "colab": {
          "base_uri": "https://localhost:8080/",
          "height": 386
        },
        "id": "5Vh4-E054OI7",
        "outputId": "2b66722c-780e-488a-85c7-3f14bd84ebde"
      },
      "execution_count": 721,
      "outputs": [
        {
          "output_type": "execute_result",
          "data": {
            "text/plain": [
              "<seaborn.axisgrid.FacetGrid at 0x7ff65862a650>"
            ]
          },
          "metadata": {},
          "execution_count": 721
        },
        {
          "output_type": "display_data",
          "data": {
            "text/plain": [
              "<Figure size 360x360 with 1 Axes>"
            ],
            "image/png": "[encoded data removed]"
          },
          "metadata": {
            "needs_background": "light"
          }
        }
      ]
    },
    {
      "cell_type": "markdown",
      "source": [
        "전반적으로 로컬 중고차가 해외 수입 중고차에 비해 저렴합니다.\n",
        "\n",
        "각 지역별로 1~2개씩 이상치로 의심되는 거래 건이 존재합니다.\n",
        "\n",
        "확인해 보겠습니다."
      ],
      "metadata": {
        "id": "jEJFhdpL5PBm"
      }
    },
    {
      "cell_type": "code",
      "source": [
        "X.loc[((X['isimported'] == 'locally used') & (X['target'] > 1.4*1e8))]"
      ],
      "metadata": {
        "colab": {
          "base_uri": "https://localhost:8080/",
          "height": 81
        },
        "id": "RVTBZEaq5dzk",
        "outputId": "17a5b2e4-bb02-4f2b-c289-22259506fb16"
      },
      "execution_count": 722,
      "outputs": [
        {
          "output_type": "execute_result",
          "data": {
            "text/plain": [
              "      id              title  odometer location    isimported          engine  \\\n",
              "597  597  Rolls-Royce Ghost     16069    lagos  locally used  4-cylinder(I4)   \n",
              "\n",
              "    transmission    fuel  paint  year     target  \n",
              "597    automatic  petrol  Black  2011  150015008  "
            ],
            "text/html": [
              "\n",
              "  <div id=\"df-26631a7c-619b-4632-b7c1-06ccb33910f7\">\n",
              "    <div class=\"colab-df-container\">\n",
              "      <div>\n",
              "<style scoped>\n",
              "    .dataframe tbody tr th:only-of-type {\n",
              "        vertical-align: middle;\n",
              "    }\n",
              "\n",
              "    .dataframe tbody tr th {\n",
              "        vertical-align: top;\n",
              "    }\n",
              "\n",
              "    .dataframe thead th {\n",
              "        text-align: right;\n",
              "    }\n",
              "</style>\n",
              "<table border=\"1\" class=\"dataframe\">\n",
              "  <thead>\n",
              "    <tr style=\"text-align: right;\">\n",
              "      <th></th>\n",
              "      <th>id</th>\n",
              "      <th>title</th>\n",
              "      <th>odometer</th>\n",
              "      <th>location</th>\n",
              "      <th>isimported</th>\n",
              "      <th>engine</th>\n",
              "      <th>transmission</th>\n",
              "      <th>fuel</th>\n",
              "      <th>paint</th>\n",
              "      <th>year</th>\n",
              "      <th>target</th>\n",
              "    </tr>\n",
              "  </thead>\n",
              "  <tbody>\n",
              "    <tr>\n",
              "      <th>597</th>\n",
              "      <td>597</td>\n",
              "      <td>Rolls-Royce Ghost</td>\n",
              "      <td>16069</td>\n",
              "      <td>lagos</td>\n",
              "      <td>locally used</td>\n",
              "      <td>4-cylinder(I4)</td>\n",
              "      <td>automatic</td>\n",
              "      <td>petrol</td>\n",
              "      <td>Black</td>\n",
              "      <td>2011</td>\n",
              "      <td>150015008</td>\n",
              "    </tr>\n",
              "  </tbody>\n",
              "</table>\n",
              "</div>\n",
              "      <button class=\"colab-df-convert\" onclick=\"convertToInteractive('df-26631a7c-619b-4632-b7c1-06ccb33910f7')\"\n",
              "              title=\"Convert this dataframe to an interactive table.\"\n",
              "              style=\"display:none;\">\n",
              "        \n",
              "  <svg xmlns=\"http://www.w3.org/2000/svg\" height=\"24px\"viewBox=\"0 0 24 24\"\n",
              "       width=\"24px\">\n",
              "    <path d=\"M0 0h24v24H0V0z\" fill=\"none\"/>\n",
              "    <path d=\"M18.56 5.44l.94 2.06.94-2.06 2.06-.94-2.06-.94-.94-2.06-.94 2.06-2.06.94zm-11 1L8.5 8.5l.94-2.06 2.06-.94-2.06-.94L8.5 2.5l-.94 2.06-2.06.94zm10 10l.94 2.06.94-2.06 2.06-.94-2.06-.94-.94-2.06-.94 2.06-2.06.94z\"/><path d=\"M17.41 7.96l-1.37-1.37c-.4-.4-.92-.59-1.43-.59-.52 0-1.04.2-1.43.59L10.3 9.45l-7.72 7.72c-.78.78-.78 2.05 0 2.83L4 21.41c.39.39.9.59 1.41.59.51 0 1.02-.2 1.41-.59l7.78-7.78 2.81-2.81c.8-.78.8-2.07 0-2.86zM5.41 20L4 18.59l7.72-7.72 1.47 1.35L5.41 20z\"/>\n",
              "  </svg>\n",
              "      </button>\n",
              "      \n",
              "  <style>\n",
              "    .colab-df-container {\n",
              "      display:flex;\n",
              "      flex-wrap:wrap;\n",
              "      gap: 12px;\n",
              "    }\n",
              "\n",
              "    .colab-df-convert {\n",
              "      background-color: #E8F0FE;\n",
              "      border: none;\n",
              "      border-radius: 50%;\n",
              "      cursor: pointer;\n",
              "      display: none;\n",
              "      fill: #1967D2;\n",
              "      height: 32px;\n",
              "      padding: 0 0 0 0;\n",
              "      width: 32px;\n",
              "    }\n",
              "\n",
              "    .colab-df-convert:hover {\n",
              "      background-color: #E2EBFA;\n",
              "      box-shadow: 0px 1px 2px rgba(60, 64, 67, 0.3), 0px 1px 3px 1px rgba(60, 64, 67, 0.15);\n",
              "      fill: #174EA6;\n",
              "    }\n",
              "\n",
              "    [theme=dark] .colab-df-convert {\n",
              "      background-color: #3B4455;\n",
              "      fill: #D2E3FC;\n",
              "    }\n",
              "\n",
              "    [theme=dark] .colab-df-convert:hover {\n",
              "      background-color: #434B5C;\n",
              "      box-shadow: 0px 1px 3px 1px rgba(0, 0, 0, 0.15);\n",
              "      filter: drop-shadow(0px 1px 2px rgba(0, 0, 0, 0.3));\n",
              "      fill: #FFFFFF;\n",
              "    }\n",
              "  </style>\n",
              "\n",
              "      <script>\n",
              "        const buttonEl =\n",
              "          document.querySelector('#df-26631a7c-619b-4632-b7c1-06ccb33910f7 button.colab-df-convert');\n",
              "        buttonEl.style.display =\n",
              "          google.colab.kernel.accessAllowed ? 'block' : 'none';\n",
              "\n",
              "        async function convertToInteractive(key) {\n",
              "          const element = document.querySelector('#df-26631a7c-619b-4632-b7c1-06ccb33910f7');\n",
              "          const dataTable =\n",
              "            await google.colab.kernel.invokeFunction('convertToInteractive',\n",
              "                                                     [key], {});\n",
              "          if (!dataTable) return;\n",
              "\n",
              "          const docLinkHtml = 'Like what you see? Visit the ' +\n",
              "            '<a target=\"_blank\" href=https://colab.research.google.com/notebooks/data_table.ipynb>data table notebook</a>'\n",
              "            + ' to learn more about interactive tables.';\n",
              "          element.innerHTML = '';\n",
              "          dataTable['output_type'] = 'display_data';\n",
              "          await google.colab.output.renderOutput(dataTable, element);\n",
              "          const docLink = document.createElement('div');\n",
              "          docLink.innerHTML = docLinkHtml;\n",
              "          element.appendChild(docLink);\n",
              "        }\n",
              "      </script>\n",
              "    </div>\n",
              "  </div>\n",
              "  "
            ]
          },
          "metadata": {},
          "execution_count": 722
        }
      ]
    },
    {
      "cell_type": "code",
      "source": [
        "X.loc[(X['isimported'] == 'foreign used') & (X['target'] > 1e8)]"
      ],
      "metadata": {
        "colab": {
          "base_uri": "https://localhost:8080/",
          "height": 112
        },
        "id": "ErwwMttG5sUZ",
        "outputId": "a75567b8-c5af-4b86-dfda-a0a59781fd1c"
      },
      "execution_count": 723,
      "outputs": [
        {
          "output_type": "execute_result",
          "data": {
            "text/plain": [
              "      id                         title  odometer location    isimported  \\\n",
              "341  341  Land Rover Range Rover Sport     18720    lagos  foreign used   \n",
              "569  569                  Lexus LX 570     55530    abuja  foreign used   \n",
              "\n",
              "             engine transmission    fuel  paint  year     target  \n",
              "341  8-cylinder(V8)    automatic  petrol   Grey  2019  117015000  \n",
              "569  8-cylinder(V8)    automatic  petrol  Black  2014  110015000  "
            ],
            "text/html": [
              "\n",
              "  <div id=\"df-06e3b85d-66d8-43a0-bbbd-f83d613128e3\">\n",
              "    <div class=\"colab-df-container\">\n",
              "      <div>\n",
              "<style scoped>\n",
              "    .dataframe tbody tr th:only-of-type {\n",
              "        vertical-align: middle;\n",
              "    }\n",
              "\n",
              "    .dataframe tbody tr th {\n",
              "        vertical-align: top;\n",
              "    }\n",
              "\n",
              "    .dataframe thead th {\n",
              "        text-align: right;\n",
              "    }\n",
              "</style>\n",
              "<table border=\"1\" class=\"dataframe\">\n",
              "  <thead>\n",
              "    <tr style=\"text-align: right;\">\n",
              "      <th></th>\n",
              "      <th>id</th>\n",
              "      <th>title</th>\n",
              "      <th>odometer</th>\n",
              "      <th>location</th>\n",
              "      <th>isimported</th>\n",
              "      <th>engine</th>\n",
              "      <th>transmission</th>\n",
              "      <th>fuel</th>\n",
              "      <th>paint</th>\n",
              "      <th>year</th>\n",
              "      <th>target</th>\n",
              "    </tr>\n",
              "  </thead>\n",
              "  <tbody>\n",
              "    <tr>\n",
              "      <th>341</th>\n",
              "      <td>341</td>\n",
              "      <td>Land Rover Range Rover Sport</td>\n",
              "      <td>18720</td>\n",
              "      <td>lagos</td>\n",
              "      <td>foreign used</td>\n",
              "      <td>8-cylinder(V8)</td>\n",
              "      <td>automatic</td>\n",
              "      <td>petrol</td>\n",
              "      <td>Grey</td>\n",
              "      <td>2019</td>\n",
              "      <td>117015000</td>\n",
              "    </tr>\n",
              "    <tr>\n",
              "      <th>569</th>\n",
              "      <td>569</td>\n",
              "      <td>Lexus LX 570</td>\n",
              "      <td>55530</td>\n",
              "      <td>abuja</td>\n",
              "      <td>foreign used</td>\n",
              "      <td>8-cylinder(V8)</td>\n",
              "      <td>automatic</td>\n",
              "      <td>petrol</td>\n",
              "      <td>Black</td>\n",
              "      <td>2014</td>\n",
              "      <td>110015000</td>\n",
              "    </tr>\n",
              "  </tbody>\n",
              "</table>\n",
              "</div>\n",
              "      <button class=\"colab-df-convert\" onclick=\"convertToInteractive('df-06e3b85d-66d8-43a0-bbbd-f83d613128e3')\"\n",
              "              title=\"Convert this dataframe to an interactive table.\"\n",
              "              style=\"display:none;\">\n",
              "        \n",
              "  <svg xmlns=\"http://www.w3.org/2000/svg\" height=\"24px\"viewBox=\"0 0 24 24\"\n",
              "       width=\"24px\">\n",
              "    <path d=\"M0 0h24v24H0V0z\" fill=\"none\"/>\n",
              "    <path d=\"M18.56 5.44l.94 2.06.94-2.06 2.06-.94-2.06-.94-.94-2.06-.94 2.06-2.06.94zm-11 1L8.5 8.5l.94-2.06 2.06-.94-2.06-.94L8.5 2.5l-.94 2.06-2.06.94zm10 10l.94 2.06.94-2.06 2.06-.94-2.06-.94-.94-2.06-.94 2.06-2.06.94z\"/><path d=\"M17.41 7.96l-1.37-1.37c-.4-.4-.92-.59-1.43-.59-.52 0-1.04.2-1.43.59L10.3 9.45l-7.72 7.72c-.78.78-.78 2.05 0 2.83L4 21.41c.39.39.9.59 1.41.59.51 0 1.02-.2 1.41-.59l7.78-7.78 2.81-2.81c.8-.78.8-2.07 0-2.86zM5.41 20L4 18.59l7.72-7.72 1.47 1.35L5.41 20z\"/>\n",
              "  </svg>\n",
              "      </button>\n",
              "      \n",
              "  <style>\n",
              "    .colab-df-container {\n",
              "      display:flex;\n",
              "      flex-wrap:wrap;\n",
              "      gap: 12px;\n",
              "    }\n",
              "\n",
              "    .colab-df-convert {\n",
              "      background-color: #E8F0FE;\n",
              "      border: none;\n",
              "      border-radius: 50%;\n",
              "      cursor: pointer;\n",
              "      display: none;\n",
              "      fill: #1967D2;\n",
              "      height: 32px;\n",
              "      padding: 0 0 0 0;\n",
              "      width: 32px;\n",
              "    }\n",
              "\n",
              "    .colab-df-convert:hover {\n",
              "      background-color: #E2EBFA;\n",
              "      box-shadow: 0px 1px 2px rgba(60, 64, 67, 0.3), 0px 1px 3px 1px rgba(60, 64, 67, 0.15);\n",
              "      fill: #174EA6;\n",
              "    }\n",
              "\n",
              "    [theme=dark] .colab-df-convert {\n",
              "      background-color: #3B4455;\n",
              "      fill: #D2E3FC;\n",
              "    }\n",
              "\n",
              "    [theme=dark] .colab-df-convert:hover {\n",
              "      background-color: #434B5C;\n",
              "      box-shadow: 0px 1px 3px 1px rgba(0, 0, 0, 0.15);\n",
              "      filter: drop-shadow(0px 1px 2px rgba(0, 0, 0, 0.3));\n",
              "      fill: #FFFFFF;\n",
              "    }\n",
              "  </style>\n",
              "\n",
              "      <script>\n",
              "        const buttonEl =\n",
              "          document.querySelector('#df-06e3b85d-66d8-43a0-bbbd-f83d613128e3 button.colab-df-convert');\n",
              "        buttonEl.style.display =\n",
              "          google.colab.kernel.accessAllowed ? 'block' : 'none';\n",
              "\n",
              "        async function convertToInteractive(key) {\n",
              "          const element = document.querySelector('#df-06e3b85d-66d8-43a0-bbbd-f83d613128e3');\n",
              "          const dataTable =\n",
              "            await google.colab.kernel.invokeFunction('convertToInteractive',\n",
              "                                                     [key], {});\n",
              "          if (!dataTable) return;\n",
              "\n",
              "          const docLinkHtml = 'Like what you see? Visit the ' +\n",
              "            '<a target=\"_blank\" href=https://colab.research.google.com/notebooks/data_table.ipynb>data table notebook</a>'\n",
              "            + ' to learn more about interactive tables.';\n",
              "          element.innerHTML = '';\n",
              "          dataTable['output_type'] = 'display_data';\n",
              "          await google.colab.output.renderOutput(dataTable, element);\n",
              "          const docLink = document.createElement('div');\n",
              "          docLink.innerHTML = docLinkHtml;\n",
              "          element.appendChild(docLink);\n",
              "        }\n",
              "      </script>\n",
              "    </div>\n",
              "  </div>\n",
              "  "
            ]
          },
          "metadata": {},
          "execution_count": 723
        }
      ]
    },
    {
      "cell_type": "code",
      "source": [
        "X.loc[(X['isimported'] == 'new') & (X['target'] > 1e8)]"
      ],
      "metadata": {
        "colab": {
          "base_uri": "https://localhost:8080/",
          "height": 81
        },
        "id": "krHcIfp36WV0",
        "outputId": "1aaf7a6d-9a94-43da-8093-7b8da8d92eb3"
      },
      "execution_count": 724,
      "outputs": [
        {
          "output_type": "execute_result",
          "data": {
            "text/plain": [
              "      id                   title  odometer location isimported  \\\n",
              "736  736  Mercedes-Benz G 63 AMG        20    lagos        new   \n",
              "\n",
              "             engine transmission    fuel  paint  year     target  \n",
              "736  8-cylinder(V8)    automatic  petrol  Black  2019  108690000  "
            ],
            "text/html": [
              "\n",
              "  <div id=\"df-3ca3a261-1d49-4196-acae-78d11e8748f5\">\n",
              "    <div class=\"colab-df-container\">\n",
              "      <div>\n",
              "<style scoped>\n",
              "    .dataframe tbody tr th:only-of-type {\n",
              "        vertical-align: middle;\n",
              "    }\n",
              "\n",
              "    .dataframe tbody tr th {\n",
              "        vertical-align: top;\n",
              "    }\n",
              "\n",
              "    .dataframe thead th {\n",
              "        text-align: right;\n",
              "    }\n",
              "</style>\n",
              "<table border=\"1\" class=\"dataframe\">\n",
              "  <thead>\n",
              "    <tr style=\"text-align: right;\">\n",
              "      <th></th>\n",
              "      <th>id</th>\n",
              "      <th>title</th>\n",
              "      <th>odometer</th>\n",
              "      <th>location</th>\n",
              "      <th>isimported</th>\n",
              "      <th>engine</th>\n",
              "      <th>transmission</th>\n",
              "      <th>fuel</th>\n",
              "      <th>paint</th>\n",
              "      <th>year</th>\n",
              "      <th>target</th>\n",
              "    </tr>\n",
              "  </thead>\n",
              "  <tbody>\n",
              "    <tr>\n",
              "      <th>736</th>\n",
              "      <td>736</td>\n",
              "      <td>Mercedes-Benz G 63 AMG</td>\n",
              "      <td>20</td>\n",
              "      <td>lagos</td>\n",
              "      <td>new</td>\n",
              "      <td>8-cylinder(V8)</td>\n",
              "      <td>automatic</td>\n",
              "      <td>petrol</td>\n",
              "      <td>Black</td>\n",
              "      <td>2019</td>\n",
              "      <td>108690000</td>\n",
              "    </tr>\n",
              "  </tbody>\n",
              "</table>\n",
              "</div>\n",
              "      <button class=\"colab-df-convert\" onclick=\"convertToInteractive('df-3ca3a261-1d49-4196-acae-78d11e8748f5')\"\n",
              "              title=\"Convert this dataframe to an interactive table.\"\n",
              "              style=\"display:none;\">\n",
              "        \n",
              "  <svg xmlns=\"http://www.w3.org/2000/svg\" height=\"24px\"viewBox=\"0 0 24 24\"\n",
              "       width=\"24px\">\n",
              "    <path d=\"M0 0h24v24H0V0z\" fill=\"none\"/>\n",
              "    <path d=\"M18.56 5.44l.94 2.06.94-2.06 2.06-.94-2.06-.94-.94-2.06-.94 2.06-2.06.94zm-11 1L8.5 8.5l.94-2.06 2.06-.94-2.06-.94L8.5 2.5l-.94 2.06-2.06.94zm10 10l.94 2.06.94-2.06 2.06-.94-2.06-.94-.94-2.06-.94 2.06-2.06.94z\"/><path d=\"M17.41 7.96l-1.37-1.37c-.4-.4-.92-.59-1.43-.59-.52 0-1.04.2-1.43.59L10.3 9.45l-7.72 7.72c-.78.78-.78 2.05 0 2.83L4 21.41c.39.39.9.59 1.41.59.51 0 1.02-.2 1.41-.59l7.78-7.78 2.81-2.81c.8-.78.8-2.07 0-2.86zM5.41 20L4 18.59l7.72-7.72 1.47 1.35L5.41 20z\"/>\n",
              "  </svg>\n",
              "      </button>\n",
              "      \n",
              "  <style>\n",
              "    .colab-df-container {\n",
              "      display:flex;\n",
              "      flex-wrap:wrap;\n",
              "      gap: 12px;\n",
              "    }\n",
              "\n",
              "    .colab-df-convert {\n",
              "      background-color: #E8F0FE;\n",
              "      border: none;\n",
              "      border-radius: 50%;\n",
              "      cursor: pointer;\n",
              "      display: none;\n",
              "      fill: #1967D2;\n",
              "      height: 32px;\n",
              "      padding: 0 0 0 0;\n",
              "      width: 32px;\n",
              "    }\n",
              "\n",
              "    .colab-df-convert:hover {\n",
              "      background-color: #E2EBFA;\n",
              "      box-shadow: 0px 1px 2px rgba(60, 64, 67, 0.3), 0px 1px 3px 1px rgba(60, 64, 67, 0.15);\n",
              "      fill: #174EA6;\n",
              "    }\n",
              "\n",
              "    [theme=dark] .colab-df-convert {\n",
              "      background-color: #3B4455;\n",
              "      fill: #D2E3FC;\n",
              "    }\n",
              "\n",
              "    [theme=dark] .colab-df-convert:hover {\n",
              "      background-color: #434B5C;\n",
              "      box-shadow: 0px 1px 3px 1px rgba(0, 0, 0, 0.15);\n",
              "      filter: drop-shadow(0px 1px 2px rgba(0, 0, 0, 0.3));\n",
              "      fill: #FFFFFF;\n",
              "    }\n",
              "  </style>\n",
              "\n",
              "      <script>\n",
              "        const buttonEl =\n",
              "          document.querySelector('#df-3ca3a261-1d49-4196-acae-78d11e8748f5 button.colab-df-convert');\n",
              "        buttonEl.style.display =\n",
              "          google.colab.kernel.accessAllowed ? 'block' : 'none';\n",
              "\n",
              "        async function convertToInteractive(key) {\n",
              "          const element = document.querySelector('#df-3ca3a261-1d49-4196-acae-78d11e8748f5');\n",
              "          const dataTable =\n",
              "            await google.colab.kernel.invokeFunction('convertToInteractive',\n",
              "                                                     [key], {});\n",
              "          if (!dataTable) return;\n",
              "\n",
              "          const docLinkHtml = 'Like what you see? Visit the ' +\n",
              "            '<a target=\"_blank\" href=https://colab.research.google.com/notebooks/data_table.ipynb>data table notebook</a>'\n",
              "            + ' to learn more about interactive tables.';\n",
              "          element.innerHTML = '';\n",
              "          dataTable['output_type'] = 'display_data';\n",
              "          await google.colab.output.renderOutput(dataTable, element);\n",
              "          const docLink = document.createElement('div');\n",
              "          docLink.innerHTML = docLinkHtml;\n",
              "          element.appendChild(docLink);\n",
              "        }\n",
              "      </script>\n",
              "    </div>\n",
              "  </div>\n",
              "  "
            ]
          },
          "metadata": {},
          "execution_count": 724
        }
      ]
    },
    {
      "cell_type": "markdown",
      "source": [
        "4개 차량 모두 고가의 차량들로, odometer까지 고려하면 이상치가 아니라고 판단할 수 있습니다.\n",
        "\n"
      ],
      "metadata": {
        "id": "Rc9XrLmFylkW"
      }
    },
    {
      "cell_type": "markdown",
      "source": [
        "---"
      ],
      "metadata": {
        "id": "-htfiG6T5zm6"
      }
    },
    {
      "cell_type": "markdown",
      "source": [
        "### **engine**"
      ],
      "metadata": {
        "id": "kOgiF3Vt8xuK"
      }
    },
    {
      "cell_type": "code",
      "source": [
        "len(X['engine'].unique())"
      ],
      "metadata": {
        "colab": {
          "base_uri": "https://localhost:8080/"
        },
        "id": "yNPK58B3zULR",
        "outputId": "351c675f-fda6-4435-e09c-7180d3c3f7b1"
      },
      "execution_count": 725,
      "outputs": [
        {
          "output_type": "execute_result",
          "data": {
            "text/plain": [
              "8"
            ]
          },
          "metadata": {},
          "execution_count": 725
        }
      ]
    },
    {
      "cell_type": "code",
      "source": [
        "X['engine'].value_counts()"
      ],
      "metadata": {
        "colab": {
          "base_uri": "https://localhost:8080/"
        },
        "id": "Gq0a4ZGpzeLk",
        "outputId": "2605a8f2-8a0b-42a1-d6a3-a60789454a6c"
      },
      "execution_count": 726,
      "outputs": [
        {
          "output_type": "execute_result",
          "data": {
            "text/plain": [
              "4-cylinder(I4)    618\n",
              "6-cylinder(V6)    221\n",
              "6-cylinder(I6)    118\n",
              "8-cylinder(V8)     49\n",
              "3-cylinder(I3)      3\n",
              "4-cylinder(H4)      2\n",
              "5-cylinder(I5)      2\n",
              "2-cylinder(I2)      1\n",
              "Name: engine, dtype: int64"
            ]
          },
          "metadata": {},
          "execution_count": 726
        }
      ]
    },
    {
      "cell_type": "markdown",
      "source": [
        "4기통 엔진을 가진 차량이 가장 많이 거래되었습니다.\n",
        "\n",
        "1건뿐인 2기통 엔진은 어떤 차종일까요?"
      ],
      "metadata": {
        "id": "mKY9yenOzk5S"
      }
    },
    {
      "cell_type": "code",
      "source": [
        "X.loc[X['engine']=='2-cylinder(I2)']"
      ],
      "metadata": {
        "colab": {
          "base_uri": "https://localhost:8080/",
          "height": 81
        },
        "id": "41wRuWNvz3_S",
        "outputId": "985513f8-5726-43cf-e1b4-002e41d00bc2"
      },
      "execution_count": 727,
      "outputs": [
        {
          "output_type": "execute_result",
          "data": {
            "text/plain": [
              "      id        title  odometer location    isimported          engine  \\\n",
              "868  869  Peugeot 308    130853    lagos  foreign used  2-cylinder(I2)   \n",
              "\n",
              "    transmission    fuel  paint  year   target  \n",
              "868       manual  petrol  Brown  2009  3015000  "
            ],
            "text/html": [
              "\n",
              "  <div id=\"df-4e3ae60f-35d3-425f-8e04-35dcd52b2a06\">\n",
              "    <div class=\"colab-df-container\">\n",
              "      <div>\n",
              "<style scoped>\n",
              "    .dataframe tbody tr th:only-of-type {\n",
              "        vertical-align: middle;\n",
              "    }\n",
              "\n",
              "    .dataframe tbody tr th {\n",
              "        vertical-align: top;\n",
              "    }\n",
              "\n",
              "    .dataframe thead th {\n",
              "        text-align: right;\n",
              "    }\n",
              "</style>\n",
              "<table border=\"1\" class=\"dataframe\">\n",
              "  <thead>\n",
              "    <tr style=\"text-align: right;\">\n",
              "      <th></th>\n",
              "      <th>id</th>\n",
              "      <th>title</th>\n",
              "      <th>odometer</th>\n",
              "      <th>location</th>\n",
              "      <th>isimported</th>\n",
              "      <th>engine</th>\n",
              "      <th>transmission</th>\n",
              "      <th>fuel</th>\n",
              "      <th>paint</th>\n",
              "      <th>year</th>\n",
              "      <th>target</th>\n",
              "    </tr>\n",
              "  </thead>\n",
              "  <tbody>\n",
              "    <tr>\n",
              "      <th>868</th>\n",
              "      <td>869</td>\n",
              "      <td>Peugeot 308</td>\n",
              "      <td>130853</td>\n",
              "      <td>lagos</td>\n",
              "      <td>foreign used</td>\n",
              "      <td>2-cylinder(I2)</td>\n",
              "      <td>manual</td>\n",
              "      <td>petrol</td>\n",
              "      <td>Brown</td>\n",
              "      <td>2009</td>\n",
              "      <td>3015000</td>\n",
              "    </tr>\n",
              "  </tbody>\n",
              "</table>\n",
              "</div>\n",
              "      <button class=\"colab-df-convert\" onclick=\"convertToInteractive('df-4e3ae60f-35d3-425f-8e04-35dcd52b2a06')\"\n",
              "              title=\"Convert this dataframe to an interactive table.\"\n",
              "              style=\"display:none;\">\n",
              "        \n",
              "  <svg xmlns=\"http://www.w3.org/2000/svg\" height=\"24px\"viewBox=\"0 0 24 24\"\n",
              "       width=\"24px\">\n",
              "    <path d=\"M0 0h24v24H0V0z\" fill=\"none\"/>\n",
              "    <path d=\"M18.56 5.44l.94 2.06.94-2.06 2.06-.94-2.06-.94-.94-2.06-.94 2.06-2.06.94zm-11 1L8.5 8.5l.94-2.06 2.06-.94-2.06-.94L8.5 2.5l-.94 2.06-2.06.94zm10 10l.94 2.06.94-2.06 2.06-.94-2.06-.94-.94-2.06-.94 2.06-2.06.94z\"/><path d=\"M17.41 7.96l-1.37-1.37c-.4-.4-.92-.59-1.43-.59-.52 0-1.04.2-1.43.59L10.3 9.45l-7.72 7.72c-.78.78-.78 2.05 0 2.83L4 21.41c.39.39.9.59 1.41.59.51 0 1.02-.2 1.41-.59l7.78-7.78 2.81-2.81c.8-.78.8-2.07 0-2.86zM5.41 20L4 18.59l7.72-7.72 1.47 1.35L5.41 20z\"/>\n",
              "  </svg>\n",
              "      </button>\n",
              "      \n",
              "  <style>\n",
              "    .colab-df-container {\n",
              "      display:flex;\n",
              "      flex-wrap:wrap;\n",
              "      gap: 12px;\n",
              "    }\n",
              "\n",
              "    .colab-df-convert {\n",
              "      background-color: #E8F0FE;\n",
              "      border: none;\n",
              "      border-radius: 50%;\n",
              "      cursor: pointer;\n",
              "      display: none;\n",
              "      fill: #1967D2;\n",
              "      height: 32px;\n",
              "      padding: 0 0 0 0;\n",
              "      width: 32px;\n",
              "    }\n",
              "\n",
              "    .colab-df-convert:hover {\n",
              "      background-color: #E2EBFA;\n",
              "      box-shadow: 0px 1px 2px rgba(60, 64, 67, 0.3), 0px 1px 3px 1px rgba(60, 64, 67, 0.15);\n",
              "      fill: #174EA6;\n",
              "    }\n",
              "\n",
              "    [theme=dark] .colab-df-convert {\n",
              "      background-color: #3B4455;\n",
              "      fill: #D2E3FC;\n",
              "    }\n",
              "\n",
              "    [theme=dark] .colab-df-convert:hover {\n",
              "      background-color: #434B5C;\n",
              "      box-shadow: 0px 1px 3px 1px rgba(0, 0, 0, 0.15);\n",
              "      filter: drop-shadow(0px 1px 2px rgba(0, 0, 0, 0.3));\n",
              "      fill: #FFFFFF;\n",
              "    }\n",
              "  </style>\n",
              "\n",
              "      <script>\n",
              "        const buttonEl =\n",
              "          document.querySelector('#df-4e3ae60f-35d3-425f-8e04-35dcd52b2a06 button.colab-df-convert');\n",
              "        buttonEl.style.display =\n",
              "          google.colab.kernel.accessAllowed ? 'block' : 'none';\n",
              "\n",
              "        async function convertToInteractive(key) {\n",
              "          const element = document.querySelector('#df-4e3ae60f-35d3-425f-8e04-35dcd52b2a06');\n",
              "          const dataTable =\n",
              "            await google.colab.kernel.invokeFunction('convertToInteractive',\n",
              "                                                     [key], {});\n",
              "          if (!dataTable) return;\n",
              "\n",
              "          const docLinkHtml = 'Like what you see? Visit the ' +\n",
              "            '<a target=\"_blank\" href=https://colab.research.google.com/notebooks/data_table.ipynb>data table notebook</a>'\n",
              "            + ' to learn more about interactive tables.';\n",
              "          element.innerHTML = '';\n",
              "          dataTable['output_type'] = 'display_data';\n",
              "          await google.colab.output.renderOutput(dataTable, element);\n",
              "          const docLink = document.createElement('div');\n",
              "          docLink.innerHTML = docLinkHtml;\n",
              "          element.appendChild(docLink);\n",
              "        }\n",
              "      </script>\n",
              "    </div>\n",
              "  </div>\n",
              "  "
            ]
          },
          "metadata": {},
          "execution_count": 727
        }
      ]
    },
    {
      "cell_type": "markdown",
      "source": [
        "09년식 푸조였습니다.\n",
        "\n",
        "흠, 자세히 보니 괄호 안의 내용만으로도 몇 기통인지 구분이 가능할 것 같습니다.\n",
        "\n",
        "변환해주도록 하겠습니다."
      ],
      "metadata": {
        "id": "zVKkA6LT0CCn"
      }
    },
    {
      "cell_type": "code",
      "source": [
        "engine = X['engine']\n",
        "engine.head()"
      ],
      "metadata": {
        "colab": {
          "base_uri": "https://localhost:8080/"
        },
        "id": "eiiurLMt0YK5",
        "outputId": "25cd1d4f-b347-4807-81e5-7a4e6be5eb5b"
      },
      "execution_count": 728,
      "outputs": [
        {
          "output_type": "execute_result",
          "data": {
            "text/plain": [
              "0    4-cylinder(I4)\n",
              "1    4-cylinder(I4)\n",
              "2    6-cylinder(V6)\n",
              "3    4-cylinder(I4)\n",
              "4    6-cylinder(V6)\n",
              "Name: engine, dtype: object"
            ]
          },
          "metadata": {},
          "execution_count": 728
        }
      ]
    },
    {
      "cell_type": "code",
      "source": [
        "pattern = re.compile('\\S\\d')\n",
        "\n",
        "engine_list = []\n",
        "for i in range(len(engine)):\n",
        "    engine_list = engine_list + pattern.findall(engine[i])\n",
        "\n",
        "X['engine'] = engine_list\n",
        "X.head()"
      ],
      "metadata": {
        "colab": {
          "base_uri": "https://localhost:8080/",
          "height": 206
        },
        "id": "J_En2wO-0fri",
        "outputId": "3f60ddf5-e996-4878-de2e-e6f32160366d"
      },
      "execution_count": 729,
      "outputs": [
        {
          "output_type": "execute_result",
          "data": {
            "text/plain": [
              "   id                          title  odometer location    isimported engine  \\\n",
              "0   0                   Toyota RAV 4     18277    lagos  foreign used     I4   \n",
              "1   1            Toyota Land Cruiser        10    lagos           new     I4   \n",
              "2   2  Land Rover Range Rover Evoque     83091    lagos  foreign used     V6   \n",
              "3   3                   Lexus ES 350     91524    lagos  foreign used     I4   \n",
              "4   4                   Toyota Venza     94177    lagos  foreign used     V6   \n",
              "\n",
              "  transmission    fuel  paint  year    target  \n",
              "0    automatic  petrol    Red  2016  13665000  \n",
              "1    automatic  petrol  Black  2019  33015000  \n",
              "2    automatic  petrol    Red  2012   9915000  \n",
              "3    automatic  petrol   Gray  2007   3815000  \n",
              "4    automatic  petrol    Red  2010   7385000  "
            ],
            "text/html": [
              "\n",
              "  <div id=\"df-91f2b204-32e3-4e07-ba08-730289b4bf05\">\n",
              "    <div class=\"colab-df-container\">\n",
              "      <div>\n",
              "<style scoped>\n",
              "    .dataframe tbody tr th:only-of-type {\n",
              "        vertical-align: middle;\n",
              "    }\n",
              "\n",
              "    .dataframe tbody tr th {\n",
              "        vertical-align: top;\n",
              "    }\n",
              "\n",
              "    .dataframe thead th {\n",
              "        text-align: right;\n",
              "    }\n",
              "</style>\n",
              "<table border=\"1\" class=\"dataframe\">\n",
              "  <thead>\n",
              "    <tr style=\"text-align: right;\">\n",
              "      <th></th>\n",
              "      <th>id</th>\n",
              "      <th>title</th>\n",
              "      <th>odometer</th>\n",
              "      <th>location</th>\n",
              "      <th>isimported</th>\n",
              "      <th>engine</th>\n",
              "      <th>transmission</th>\n",
              "      <th>fuel</th>\n",
              "      <th>paint</th>\n",
              "      <th>year</th>\n",
              "      <th>target</th>\n",
              "    </tr>\n",
              "  </thead>\n",
              "  <tbody>\n",
              "    <tr>\n",
              "      <th>0</th>\n",
              "      <td>0</td>\n",
              "      <td>Toyota RAV 4</td>\n",
              "      <td>18277</td>\n",
              "      <td>lagos</td>\n",
              "      <td>foreign used</td>\n",
              "      <td>I4</td>\n",
              "      <td>automatic</td>\n",
              "      <td>petrol</td>\n",
              "      <td>Red</td>\n",
              "      <td>2016</td>\n",
              "      <td>13665000</td>\n",
              "    </tr>\n",
              "    <tr>\n",
              "      <th>1</th>\n",
              "      <td>1</td>\n",
              "      <td>Toyota Land Cruiser</td>\n",
              "      <td>10</td>\n",
              "      <td>lagos</td>\n",
              "      <td>new</td>\n",
              "      <td>I4</td>\n",
              "      <td>automatic</td>\n",
              "      <td>petrol</td>\n",
              "      <td>Black</td>\n",
              "      <td>2019</td>\n",
              "      <td>33015000</td>\n",
              "    </tr>\n",
              "    <tr>\n",
              "      <th>2</th>\n",
              "      <td>2</td>\n",
              "      <td>Land Rover Range Rover Evoque</td>\n",
              "      <td>83091</td>\n",
              "      <td>lagos</td>\n",
              "      <td>foreign used</td>\n",
              "      <td>V6</td>\n",
              "      <td>automatic</td>\n",
              "      <td>petrol</td>\n",
              "      <td>Red</td>\n",
              "      <td>2012</td>\n",
              "      <td>9915000</td>\n",
              "    </tr>\n",
              "    <tr>\n",
              "      <th>3</th>\n",
              "      <td>3</td>\n",
              "      <td>Lexus ES 350</td>\n",
              "      <td>91524</td>\n",
              "      <td>lagos</td>\n",
              "      <td>foreign used</td>\n",
              "      <td>I4</td>\n",
              "      <td>automatic</td>\n",
              "      <td>petrol</td>\n",
              "      <td>Gray</td>\n",
              "      <td>2007</td>\n",
              "      <td>3815000</td>\n",
              "    </tr>\n",
              "    <tr>\n",
              "      <th>4</th>\n",
              "      <td>4</td>\n",
              "      <td>Toyota Venza</td>\n",
              "      <td>94177</td>\n",
              "      <td>lagos</td>\n",
              "      <td>foreign used</td>\n",
              "      <td>V6</td>\n",
              "      <td>automatic</td>\n",
              "      <td>petrol</td>\n",
              "      <td>Red</td>\n",
              "      <td>2010</td>\n",
              "      <td>7385000</td>\n",
              "    </tr>\n",
              "  </tbody>\n",
              "</table>\n",
              "</div>\n",
              "      <button class=\"colab-df-convert\" onclick=\"convertToInteractive('df-91f2b204-32e3-4e07-ba08-730289b4bf05')\"\n",
              "              title=\"Convert this dataframe to an interactive table.\"\n",
              "              style=\"display:none;\">\n",
              "        \n",
              "  <svg xmlns=\"http://www.w3.org/2000/svg\" height=\"24px\"viewBox=\"0 0 24 24\"\n",
              "       width=\"24px\">\n",
              "    <path d=\"M0 0h24v24H0V0z\" fill=\"none\"/>\n",
              "    <path d=\"M18.56 5.44l.94 2.06.94-2.06 2.06-.94-2.06-.94-.94-2.06-.94 2.06-2.06.94zm-11 1L8.5 8.5l.94-2.06 2.06-.94-2.06-.94L8.5 2.5l-.94 2.06-2.06.94zm10 10l.94 2.06.94-2.06 2.06-.94-2.06-.94-.94-2.06-.94 2.06-2.06.94z\"/><path d=\"M17.41 7.96l-1.37-1.37c-.4-.4-.92-.59-1.43-.59-.52 0-1.04.2-1.43.59L10.3 9.45l-7.72 7.72c-.78.78-.78 2.05 0 2.83L4 21.41c.39.39.9.59 1.41.59.51 0 1.02-.2 1.41-.59l7.78-7.78 2.81-2.81c.8-.78.8-2.07 0-2.86zM5.41 20L4 18.59l7.72-7.72 1.47 1.35L5.41 20z\"/>\n",
              "  </svg>\n",
              "      </button>\n",
              "      \n",
              "  <style>\n",
              "    .colab-df-container {\n",
              "      display:flex;\n",
              "      flex-wrap:wrap;\n",
              "      gap: 12px;\n",
              "    }\n",
              "\n",
              "    .colab-df-convert {\n",
              "      background-color: #E8F0FE;\n",
              "      border: none;\n",
              "      border-radius: 50%;\n",
              "      cursor: pointer;\n",
              "      display: none;\n",
              "      fill: #1967D2;\n",
              "      height: 32px;\n",
              "      padding: 0 0 0 0;\n",
              "      width: 32px;\n",
              "    }\n",
              "\n",
              "    .colab-df-convert:hover {\n",
              "      background-color: #E2EBFA;\n",
              "      box-shadow: 0px 1px 2px rgba(60, 64, 67, 0.3), 0px 1px 3px 1px rgba(60, 64, 67, 0.15);\n",
              "      fill: #174EA6;\n",
              "    }\n",
              "\n",
              "    [theme=dark] .colab-df-convert {\n",
              "      background-color: #3B4455;\n",
              "      fill: #D2E3FC;\n",
              "    }\n",
              "\n",
              "    [theme=dark] .colab-df-convert:hover {\n",
              "      background-color: #434B5C;\n",
              "      box-shadow: 0px 1px 3px 1px rgba(0, 0, 0, 0.15);\n",
              "      filter: drop-shadow(0px 1px 2px rgba(0, 0, 0, 0.3));\n",
              "      fill: #FFFFFF;\n",
              "    }\n",
              "  </style>\n",
              "\n",
              "      <script>\n",
              "        const buttonEl =\n",
              "          document.querySelector('#df-91f2b204-32e3-4e07-ba08-730289b4bf05 button.colab-df-convert');\n",
              "        buttonEl.style.display =\n",
              "          google.colab.kernel.accessAllowed ? 'block' : 'none';\n",
              "\n",
              "        async function convertToInteractive(key) {\n",
              "          const element = document.querySelector('#df-91f2b204-32e3-4e07-ba08-730289b4bf05');\n",
              "          const dataTable =\n",
              "            await google.colab.kernel.invokeFunction('convertToInteractive',\n",
              "                                                     [key], {});\n",
              "          if (!dataTable) return;\n",
              "\n",
              "          const docLinkHtml = 'Like what you see? Visit the ' +\n",
              "            '<a target=\"_blank\" href=https://colab.research.google.com/notebooks/data_table.ipynb>data table notebook</a>'\n",
              "            + ' to learn more about interactive tables.';\n",
              "          element.innerHTML = '';\n",
              "          dataTable['output_type'] = 'display_data';\n",
              "          await google.colab.output.renderOutput(dataTable, element);\n",
              "          const docLink = document.createElement('div');\n",
              "          docLink.innerHTML = docLinkHtml;\n",
              "          element.appendChild(docLink);\n",
              "        }\n",
              "      </script>\n",
              "    </div>\n",
              "  </div>\n",
              "  "
            ]
          },
          "metadata": {},
          "execution_count": 729
        }
      ]
    },
    {
      "cell_type": "code",
      "source": [
        "sns.relplot(data=X, x='engine', y='target')"
      ],
      "metadata": {
        "colab": {
          "base_uri": "https://localhost:8080/",
          "height": 386
        },
        "id": "ZiZgwRKtHgmJ",
        "outputId": "087c9dd9-3e12-422c-d390-9517158519b2"
      },
      "execution_count": 730,
      "outputs": [
        {
          "output_type": "execute_result",
          "data": {
            "text/plain": [
              "<seaborn.axisgrid.FacetGrid at 0x7ff63e4326d0>"
            ]
          },
          "metadata": {},
          "execution_count": 730
        },
        {
          "output_type": "display_data",
          "data": {
            "text/plain": [
              "<Figure size 360x360 with 1 Axes>"
            ],
            "image/png": "[encoded data removed]"
          },
          "metadata": {
            "needs_background": "light"
          }
        }
      ]
    },
    {
      "cell_type": "markdown",
      "source": [
        "거래량은 4기통 엔진이 많지만, 8기통 엔진이 상대적으로 높은 가격대에 분포합니다.\n",
        "\n",
        "I4 엔진 차량 중에서 가장 비싸게 팔린 차량은 앞서 살펴본 롤스로이스 고스트입니다."
      ],
      "metadata": {
        "id": "AgvY7530HkwY"
      }
    },
    {
      "cell_type": "markdown",
      "source": [
        "---"
      ],
      "metadata": {
        "id": "Nk7ygwZ3Kq0J"
      }
    },
    {
      "cell_type": "markdown",
      "source": [
        "### **transmission**"
      ],
      "metadata": {
        "id": "n6l97_1180x9"
      }
    },
    {
      "cell_type": "markdown",
      "source": [
        "트랜스미션은 변속장치 데이터입니다."
      ],
      "metadata": {
        "id": "aGVMd1GqJVsq"
      }
    },
    {
      "cell_type": "code",
      "source": [
        "X['transmission'].nunique()"
      ],
      "metadata": {
        "colab": {
          "base_uri": "https://localhost:8080/"
        },
        "id": "NZG1zJbmJbZ7",
        "outputId": "7ed5fa29-9056-4c6f-8889-1c0055e92540"
      },
      "execution_count": 731,
      "outputs": [
        {
          "output_type": "execute_result",
          "data": {
            "text/plain": [
              "2"
            ]
          },
          "metadata": {},
          "execution_count": 731
        }
      ]
    },
    {
      "cell_type": "code",
      "source": [
        "X['transmission'].value_counts()"
      ],
      "metadata": {
        "colab": {
          "base_uri": "https://localhost:8080/"
        },
        "id": "IcurXK3ZJfE0",
        "outputId": "b446d593-c88e-4fc7-de6b-013c664d6f22"
      },
      "execution_count": 732,
      "outputs": [
        {
          "output_type": "execute_result",
          "data": {
            "text/plain": [
              "automatic    965\n",
              "manual        49\n",
              "Name: transmission, dtype: int64"
            ]
          },
          "metadata": {},
          "execution_count": 732
        }
      ]
    },
    {
      "cell_type": "code",
      "source": [
        "sns.relplot(data=X, x='transmission', y='target')"
      ],
      "metadata": {
        "colab": {
          "base_uri": "https://localhost:8080/",
          "height": 386
        },
        "id": "zHiy7DInJi-c",
        "outputId": "86a42596-17e3-4609-fc0a-9cdf5bc8a955"
      },
      "execution_count": 733,
      "outputs": [
        {
          "output_type": "execute_result",
          "data": {
            "text/plain": [
              "<seaborn.axisgrid.FacetGrid at 0x7ff659130450>"
            ]
          },
          "metadata": {},
          "execution_count": 733
        },
        {
          "output_type": "display_data",
          "data": {
            "text/plain": [
              "<Figure size 360x360 with 1 Axes>"
            ],
            "image/png": "[encoded data removed]"
          },
          "metadata": {
            "needs_background": "light"
          }
        }
      ]
    },
    {
      "cell_type": "markdown",
      "source": [
        "변속장치는 두 가지 카테고리를 가진 범주형 데이터입니다.\n",
        "\n",
        "데이터 분포에 별다른 이상치도 보이지 않습니다."
      ],
      "metadata": {
        "id": "EZ0p26ELJpkx"
      }
    },
    {
      "cell_type": "markdown",
      "source": [
        "---"
      ],
      "metadata": {
        "id": "ZBe5FeIuKprC"
      }
    },
    {
      "cell_type": "markdown",
      "source": [
        "### **fuel**"
      ],
      "metadata": {
        "id": "eMpu5Gts81Kl"
      }
    },
    {
      "cell_type": "markdown",
      "source": [
        "휘발유, 디젤 등의 범주형 데이터입니다."
      ],
      "metadata": {
        "id": "bNBqZC9aKtZR"
      }
    },
    {
      "cell_type": "code",
      "source": [
        "X['fuel'].nunique()"
      ],
      "metadata": {
        "colab": {
          "base_uri": "https://localhost:8080/"
        },
        "id": "IoIv4of7Kzf4",
        "outputId": "2923894a-6b70-48db-ab58-33a29d2ff5a1"
      },
      "execution_count": 734,
      "outputs": [
        {
          "output_type": "execute_result",
          "data": {
            "text/plain": [
              "2"
            ]
          },
          "metadata": {},
          "execution_count": 734
        }
      ]
    },
    {
      "cell_type": "code",
      "source": [
        "X['fuel'].value_counts()"
      ],
      "metadata": {
        "colab": {
          "base_uri": "https://localhost:8080/"
        },
        "id": "7C6ck4KqK2gy",
        "outputId": "c9035ff0-d3c2-41a2-93dc-6afaa133288d"
      },
      "execution_count": 735,
      "outputs": [
        {
          "output_type": "execute_result",
          "data": {
            "text/plain": [
              "petrol    970\n",
              "diesel     44\n",
              "Name: fuel, dtype: int64"
            ]
          },
          "metadata": {},
          "execution_count": 735
        }
      ]
    },
    {
      "cell_type": "code",
      "source": [
        "sns.relplot(data=X, x='fuel', y='target')"
      ],
      "metadata": {
        "colab": {
          "base_uri": "https://localhost:8080/",
          "height": 386
        },
        "id": "uOcVg58aK58w",
        "outputId": "ea37ac01-bdd0-434e-b69d-951780475a23"
      },
      "execution_count": 736,
      "outputs": [
        {
          "output_type": "execute_result",
          "data": {
            "text/plain": [
              "<seaborn.axisgrid.FacetGrid at 0x7ff659e3aa90>"
            ]
          },
          "metadata": {},
          "execution_count": 736
        },
        {
          "output_type": "display_data",
          "data": {
            "text/plain": [
              "<Figure size 360x360 with 1 Axes>"
            ],
            "image/png": "[encoded data removed]"
          },
          "metadata": {
            "needs_background": "light"
          }
        }
      ]
    },
    {
      "cell_type": "markdown",
      "source": [
        "휘발유 차량이 범용적으로 거래됩니다.\n",
        "\n",
        "가격 분포에도 이상한 점은 딱히 보이지 않습니다."
      ],
      "metadata": {
        "id": "TN7Ely-IK8bi"
      }
    },
    {
      "cell_type": "markdown",
      "source": [
        "---"
      ],
      "metadata": {
        "id": "f3uXs3dXLIqG"
      }
    },
    {
      "cell_type": "markdown",
      "source": [
        "### **paint**"
      ],
      "metadata": {
        "id": "FjRIkFpW81RF"
      }
    },
    {
      "cell_type": "markdown",
      "source": [
        "차량의 색상 데이터입니다.\n",
        "\n",
        "한국은 보통 유광, 흰색 또는 검은색, 회색 등의 무채색 차량을 선호하는데 나이지리아는 어떨지 모르겠군요."
      ],
      "metadata": {
        "id": "z-nEF5l9LMZQ"
      }
    },
    {
      "cell_type": "code",
      "source": [
        "X['paint'].nunique()"
      ],
      "metadata": {
        "colab": {
          "base_uri": "https://localhost:8080/"
        },
        "id": "RAvu41NWLX_g",
        "outputId": "b5611dc2-0fd9-4f8b-b708-751fbd2556dd"
      },
      "execution_count": 737,
      "outputs": [
        {
          "output_type": "execute_result",
          "data": {
            "text/plain": [
              "76"
            ]
          },
          "metadata": {},
          "execution_count": 737
        }
      ]
    },
    {
      "cell_type": "code",
      "source": [
        "X['paint'].value_counts()"
      ],
      "metadata": {
        "colab": {
          "base_uri": "https://localhost:8080/"
        },
        "id": "uo7eeHA9LcW3",
        "outputId": "6a8d628c-04e6-4e09-819b-39e441493891"
      },
      "execution_count": 738,
      "outputs": [
        {
          "output_type": "execute_result",
          "data": {
            "text/plain": [
              "Black          292\n",
              "White          115\n",
              "Silver         103\n",
              "Grey            84\n",
              "Blue            70\n",
              "              ... \n",
              "WINE             1\n",
              "Silver/grey      1\n",
              "Ink blue         1\n",
              "Light blue       1\n",
              "Off white l      1\n",
              "Name: paint, Length: 76, dtype: int64"
            ]
          },
          "metadata": {},
          "execution_count": 738
        }
      ]
    },
    {
      "cell_type": "markdown",
      "source": [
        "거래량을 보니 나이지리아도 무채색을 선호하는 것 같습니다.\n",
        "\n",
        "가격 분포를 살펴봅니다."
      ],
      "metadata": {
        "id": "ujkzmuHKLfyP"
      }
    },
    {
      "cell_type": "code",
      "source": [
        "sns.relplot(data=X, x='paint', y='target')"
      ],
      "metadata": {
        "colab": {
          "base_uri": "https://localhost:8080/",
          "height": 386
        },
        "id": "ga6WjYmMLkMX",
        "outputId": "a35c277e-30a4-4fc4-d294-adb8f9e9ad4c"
      },
      "execution_count": 739,
      "outputs": [
        {
          "output_type": "execute_result",
          "data": {
            "text/plain": [
              "<seaborn.axisgrid.FacetGrid at 0x7ff659772790>"
            ]
          },
          "metadata": {},
          "execution_count": 739
        },
        {
          "output_type": "display_data",
          "data": {
            "text/plain": [
              "<Figure size 360x360 with 1 Axes>"
            ],
            "image/png": "[encoded data removed]"
          },
          "metadata": {
            "needs_background": "light"
          }
        }
      ]
    },
    {
      "cell_type": "markdown",
      "source": [
        "마이너한 색상일수록 가격이 낮아지는 것을 볼 수 있습니다.\n",
        "\n",
        "마이너하지만 가격이 높은 일부 색상이 있는데, 색상 때문에 가격이 높게 책정된 것인지 아니면 다른 요소가 원인인지는 조금 더 살펴봐야 합니다."
      ],
      "metadata": {
        "id": "z_TZrLXpMF8U"
      }
    },
    {
      "cell_type": "markdown",
      "source": [
        "### **year**"
      ],
      "metadata": {
        "id": "ugoEL7wB81YF"
      }
    },
    {
      "cell_type": "markdown",
      "source": [
        "제조년도 데이터입니다. 별다른 문제가 없다면 신형일수록 가격이 비싸겠죠."
      ],
      "metadata": {
        "id": "OcwJhpbW8_Uz"
      }
    },
    {
      "cell_type": "code",
      "source": [
        "plt.figure(figsize=(20,5))\n",
        "sns.countplot(data=X, x='year')\n",
        "plt.show()"
      ],
      "metadata": {
        "colab": {
          "base_uri": "https://localhost:8080/",
          "height": 334
        },
        "id": "NJICGoIgN465",
        "outputId": "46ca6fb0-56d2-49b2-b3dd-6ec6547c6026"
      },
      "execution_count": 740,
      "outputs": [
        {
          "output_type": "display_data",
          "data": {
            "text/plain": [
              "<Figure size 1440x360 with 1 Axes>"
            ],
            "image/png": "[encoded data removed]"
          },
          "metadata": {
            "needs_background": "light"
          }
        }
      ]
    },
    {
      "cell_type": "markdown",
      "source": [
        "1218년에 차가 존재할 리는 없겠죠.\n",
        "\n",
        "이상치이므로 제거해줍니다."
      ],
      "metadata": {
        "id": "j2AyxH4LN8FR"
      }
    },
    {
      "cell_type": "code",
      "source": [
        "X.loc[X['year']==1218]"
      ],
      "metadata": {
        "colab": {
          "base_uri": "https://localhost:8080/",
          "height": 81
        },
        "id": "7SIo38-oONGx",
        "outputId": "91782388-94dd-47fc-be71-d240b8187578"
      },
      "execution_count": 741,
      "outputs": [
        {
          "output_type": "execute_result",
          "data": {
            "text/plain": [
              "      id                title  odometer location    isimported engine  \\\n",
              "415  415  Mercedes-Benz ATEGO    403461    lagos  locally used     I4   \n",
              "\n",
              "    transmission    fuel  paint  year   target  \n",
              "415       manual  diesel  white  1218  6015000  "
            ],
            "text/html": [
              "\n",
              "  <div id=\"df-912078c5-242f-4b6e-ba19-3f568927de46\">\n",
              "    <div class=\"colab-df-container\">\n",
              "      <div>\n",
              "<style scoped>\n",
              "    .dataframe tbody tr th:only-of-type {\n",
              "        vertical-align: middle;\n",
              "    }\n",
              "\n",
              "    .dataframe tbody tr th {\n",
              "        vertical-align: top;\n",
              "    }\n",
              "\n",
              "    .dataframe thead th {\n",
              "        text-align: right;\n",
              "    }\n",
              "</style>\n",
              "<table border=\"1\" class=\"dataframe\">\n",
              "  <thead>\n",
              "    <tr style=\"text-align: right;\">\n",
              "      <th></th>\n",
              "      <th>id</th>\n",
              "      <th>title</th>\n",
              "      <th>odometer</th>\n",
              "      <th>location</th>\n",
              "      <th>isimported</th>\n",
              "      <th>engine</th>\n",
              "      <th>transmission</th>\n",
              "      <th>fuel</th>\n",
              "      <th>paint</th>\n",
              "      <th>year</th>\n",
              "      <th>target</th>\n",
              "    </tr>\n",
              "  </thead>\n",
              "  <tbody>\n",
              "    <tr>\n",
              "      <th>415</th>\n",
              "      <td>415</td>\n",
              "      <td>Mercedes-Benz ATEGO</td>\n",
              "      <td>403461</td>\n",
              "      <td>lagos</td>\n",
              "      <td>locally used</td>\n",
              "      <td>I4</td>\n",
              "      <td>manual</td>\n",
              "      <td>diesel</td>\n",
              "      <td>white</td>\n",
              "      <td>1218</td>\n",
              "      <td>6015000</td>\n",
              "    </tr>\n",
              "  </tbody>\n",
              "</table>\n",
              "</div>\n",
              "      <button class=\"colab-df-convert\" onclick=\"convertToInteractive('df-912078c5-242f-4b6e-ba19-3f568927de46')\"\n",
              "              title=\"Convert this dataframe to an interactive table.\"\n",
              "              style=\"display:none;\">\n",
              "        \n",
              "  <svg xmlns=\"http://www.w3.org/2000/svg\" height=\"24px\"viewBox=\"0 0 24 24\"\n",
              "       width=\"24px\">\n",
              "    <path d=\"M0 0h24v24H0V0z\" fill=\"none\"/>\n",
              "    <path d=\"M18.56 5.44l.94 2.06.94-2.06 2.06-.94-2.06-.94-.94-2.06-.94 2.06-2.06.94zm-11 1L8.5 8.5l.94-2.06 2.06-.94-2.06-.94L8.5 2.5l-.94 2.06-2.06.94zm10 10l.94 2.06.94-2.06 2.06-.94-2.06-.94-.94-2.06-.94 2.06-2.06.94z\"/><path d=\"M17.41 7.96l-1.37-1.37c-.4-.4-.92-.59-1.43-.59-.52 0-1.04.2-1.43.59L10.3 9.45l-7.72 7.72c-.78.78-.78 2.05 0 2.83L4 21.41c.39.39.9.59 1.41.59.51 0 1.02-.2 1.41-.59l7.78-7.78 2.81-2.81c.8-.78.8-2.07 0-2.86zM5.41 20L4 18.59l7.72-7.72 1.47 1.35L5.41 20z\"/>\n",
              "  </svg>\n",
              "      </button>\n",
              "      \n",
              "  <style>\n",
              "    .colab-df-container {\n",
              "      display:flex;\n",
              "      flex-wrap:wrap;\n",
              "      gap: 12px;\n",
              "    }\n",
              "\n",
              "    .colab-df-convert {\n",
              "      background-color: #E8F0FE;\n",
              "      border: none;\n",
              "      border-radius: 50%;\n",
              "      cursor: pointer;\n",
              "      display: none;\n",
              "      fill: #1967D2;\n",
              "      height: 32px;\n",
              "      padding: 0 0 0 0;\n",
              "      width: 32px;\n",
              "    }\n",
              "\n",
              "    .colab-df-convert:hover {\n",
              "      background-color: #E2EBFA;\n",
              "      box-shadow: 0px 1px 2px rgba(60, 64, 67, 0.3), 0px 1px 3px 1px rgba(60, 64, 67, 0.15);\n",
              "      fill: #174EA6;\n",
              "    }\n",
              "\n",
              "    [theme=dark] .colab-df-convert {\n",
              "      background-color: #3B4455;\n",
              "      fill: #D2E3FC;\n",
              "    }\n",
              "\n",
              "    [theme=dark] .colab-df-convert:hover {\n",
              "      background-color: #434B5C;\n",
              "      box-shadow: 0px 1px 3px 1px rgba(0, 0, 0, 0.15);\n",
              "      filter: drop-shadow(0px 1px 2px rgba(0, 0, 0, 0.3));\n",
              "      fill: #FFFFFF;\n",
              "    }\n",
              "  </style>\n",
              "\n",
              "      <script>\n",
              "        const buttonEl =\n",
              "          document.querySelector('#df-912078c5-242f-4b6e-ba19-3f568927de46 button.colab-df-convert');\n",
              "        buttonEl.style.display =\n",
              "          google.colab.kernel.accessAllowed ? 'block' : 'none';\n",
              "\n",
              "        async function convertToInteractive(key) {\n",
              "          const element = document.querySelector('#df-912078c5-242f-4b6e-ba19-3f568927de46');\n",
              "          const dataTable =\n",
              "            await google.colab.kernel.invokeFunction('convertToInteractive',\n",
              "                                                     [key], {});\n",
              "          if (!dataTable) return;\n",
              "\n",
              "          const docLinkHtml = 'Like what you see? Visit the ' +\n",
              "            '<a target=\"_blank\" href=https://colab.research.google.com/notebooks/data_table.ipynb>data table notebook</a>'\n",
              "            + ' to learn more about interactive tables.';\n",
              "          element.innerHTML = '';\n",
              "          dataTable['output_type'] = 'display_data';\n",
              "          await google.colab.output.renderOutput(dataTable, element);\n",
              "          const docLink = document.createElement('div');\n",
              "          docLink.innerHTML = docLinkHtml;\n",
              "          element.appendChild(docLink);\n",
              "        }\n",
              "      </script>\n",
              "    </div>\n",
              "  </div>\n",
              "  "
            ]
          },
          "metadata": {},
          "execution_count": 741
        }
      ]
    },
    {
      "cell_type": "code",
      "source": [
        "X = X.drop(415)\n",
        "X = X.reset_index(drop=True)"
      ],
      "metadata": {
        "id": "nXXpuJqOOSGx"
      },
      "execution_count": 742,
      "outputs": []
    },
    {
      "cell_type": "markdown",
      "source": [
        "이상으로 가볍게 각 컬럼별로 기본적인 EDA를 진행했습니다.\n",
        "\n",
        "이제 각 컬럼을 모델에 넣을 수 있도록 변환하는 작업이 필요합니다.\n",
        "\n",
        "물론 해당 작업을 해준 뒤에도 추가로 몇 가지 해볼만한 EDA가 있습니다."
      ],
      "metadata": {
        "id": "P3OQqzrzOltZ"
      }
    },
    {
      "cell_type": "markdown",
      "source": [
        "---"
      ],
      "metadata": {
        "id": "8yzuoIBaOWHJ"
      }
    },
    {
      "cell_type": "markdown",
      "source": [
        "## **데이터 변환**"
      ],
      "metadata": {
        "id": "nA8dvjNaQ-kv"
      }
    },
    {
      "cell_type": "code",
      "source": [
        "X.info()"
      ],
      "metadata": {
        "colab": {
          "base_uri": "https://localhost:8080/"
        },
        "id": "LO7MoTk9RCNc",
        "outputId": "70e6d8bd-71ed-45f8-a955-bec1d504e275"
      },
      "execution_count": 743,
      "outputs": [
        {
          "output_type": "stream",
          "name": "stdout",
          "text": [
            "<class 'pandas.core.frame.DataFrame'>\n",
            "RangeIndex: 1013 entries, 0 to 1012\n",
            "Data columns (total 11 columns):\n",
            " #   Column        Non-Null Count  Dtype \n",
            "---  ------        --------------  ----- \n",
            " 0   id            1013 non-null   int64 \n",
            " 1   title         1013 non-null   object\n",
            " 2   odometer      1013 non-null   int64 \n",
            " 3   location      1013 non-null   object\n",
            " 4   isimported    1013 non-null   object\n",
            " 5   engine        1013 non-null   object\n",
            " 6   transmission  1013 non-null   object\n",
            " 7   fuel          1013 non-null   object\n",
            " 8   paint         1013 non-null   object\n",
            " 9   year          1013 non-null   int64 \n",
            " 10  target        1013 non-null   int64 \n",
            "dtypes: int64(4), object(7)\n",
            "memory usage: 87.2+ KB\n"
          ]
        }
      ]
    },
    {
      "cell_type": "code",
      "source": [
        "test_data.info()"
      ],
      "metadata": {
        "colab": {
          "base_uri": "https://localhost:8080/"
        },
        "id": "FbHr15tnAH7o",
        "outputId": "62d4b6c6-96b8-499e-8640-8b6a173c8388"
      },
      "execution_count": 744,
      "outputs": [
        {
          "output_type": "stream",
          "name": "stdout",
          "text": [
            "<class 'pandas.core.frame.DataFrame'>\n",
            "RangeIndex: 436 entries, 0 to 435\n",
            "Data columns (total 10 columns):\n",
            " #   Column        Non-Null Count  Dtype \n",
            "---  ------        --------------  ----- \n",
            " 0   id            436 non-null    int64 \n",
            " 1   title         436 non-null    object\n",
            " 2   odometer      436 non-null    int64 \n",
            " 3   location      436 non-null    object\n",
            " 4   isimported    436 non-null    object\n",
            " 5   engine        436 non-null    object\n",
            " 6   transmission  436 non-null    object\n",
            " 7   fuel          436 non-null    object\n",
            " 8   paint         436 non-null    object\n",
            " 9   year          436 non-null    int64 \n",
            "dtypes: int64(3), object(7)\n",
            "memory usage: 34.2+ KB\n"
          ]
        }
      ]
    },
    {
      "cell_type": "markdown",
      "source": [
        "결측치는 없고, object 타입의 컬럼들을 변환해주어야 합니다."
      ],
      "metadata": {
        "id": "xq0E0CioRGj1"
      }
    },
    {
      "cell_type": "markdown",
      "source": [
        "---"
      ],
      "metadata": {
        "id": "rm5ezlkCROlN"
      }
    },
    {
      "cell_type": "markdown",
      "source": [
        "### **원핫인코딩 1**"
      ],
      "metadata": {
        "id": "W2Ne21SqRZYE"
      }
    },
    {
      "cell_type": "code",
      "source": [
        "test_final = test_data.copy()"
      ],
      "metadata": {
        "id": "ItZUoNL9_lRJ"
      },
      "execution_count": 745,
      "outputs": []
    },
    {
      "cell_type": "code",
      "source": [
        "X['fuel'].unique()"
      ],
      "metadata": {
        "colab": {
          "base_uri": "https://localhost:8080/"
        },
        "id": "2uTsv1nu_Bda",
        "outputId": "c40bb2e8-89b3-4455-b14e-84440bfe8796"
      },
      "execution_count": 746,
      "outputs": [
        {
          "output_type": "execute_result",
          "data": {
            "text/plain": [
              "array(['petrol', 'diesel'], dtype=object)"
            ]
          },
          "metadata": {},
          "execution_count": 746
        }
      ]
    },
    {
      "cell_type": "code",
      "source": [
        "test_final['fuel'].unique()"
      ],
      "metadata": {
        "colab": {
          "base_uri": "https://localhost:8080/"
        },
        "id": "5NaLoD4D_EkB",
        "outputId": "8a95b75e-a4ac-4c9c-a3b9-1ca78e2fb074"
      },
      "execution_count": 747,
      "outputs": [
        {
          "output_type": "execute_result",
          "data": {
            "text/plain": [
              "array(['petrol', 'diesel'], dtype=object)"
            ]
          },
          "metadata": {},
          "execution_count": 747
        }
      ]
    },
    {
      "cell_type": "code",
      "source": [
        "X['transmission'].unique()"
      ],
      "metadata": {
        "colab": {
          "base_uri": "https://localhost:8080/"
        },
        "id": "7ffLu-0d_TuQ",
        "outputId": "b38d9201-042d-4a8b-836f-4ed99842c1f4"
      },
      "execution_count": 748,
      "outputs": [
        {
          "output_type": "execute_result",
          "data": {
            "text/plain": [
              "array(['automatic', 'manual'], dtype=object)"
            ]
          },
          "metadata": {},
          "execution_count": 748
        }
      ]
    },
    {
      "cell_type": "code",
      "source": [
        "test_final['transmission'].unique()"
      ],
      "metadata": {
        "colab": {
          "base_uri": "https://localhost:8080/"
        },
        "id": "dkj93fCu_YJY",
        "outputId": "17e11445-796d-4955-f699-a8c3da596e7b"
      },
      "execution_count": 749,
      "outputs": [
        {
          "output_type": "execute_result",
          "data": {
            "text/plain": [
              "array(['automatic', 'manual'], dtype=object)"
            ]
          },
          "metadata": {},
          "execution_count": 749
        }
      ]
    },
    {
      "cell_type": "markdown",
      "source": [
        "\n",
        "fuel, transmission 컬럼은 별도의 복잡한 처리가 필요없습니다.\n",
        "\n",
        "기본적인 원핫인코딩만 진행해줍니다."
      ],
      "metadata": {
        "id": "jJ46PMIj-_ur"
      }
    },
    {
      "cell_type": "code",
      "source": [
        "# X_fuel\n",
        "fuel_dummies = pd.get_dummies(X['fuel'])\n",
        "X = pd.concat([X, fuel_dummies], axis=1)\n",
        "X.drop(['fuel'], axis=1, inplace=True)\n",
        "\n",
        "# X_transmission\n",
        "transmission_dummies = pd.get_dummies(X['transmission'])\n",
        "X = pd.concat([X, transmission_dummies], axis=1)\n",
        "X.drop(['transmission'], axis=1, inplace=True)\n",
        "\n",
        "# test_fuel\n",
        "test_fuel_dummies = pd.get_dummies(test_final['fuel'])\n",
        "test_final = pd.concat([test_final, test_fuel_dummies], axis=1)\n",
        "test_final.drop(['fuel'], axis=1, inplace=True)\n",
        "\n",
        "# test_transmission\n",
        "test_transmission_dummies = pd.get_dummies(test_final['transmission'])\n",
        "test_final = pd.concat([test_final, test_transmission_dummies], axis=1)\n",
        "test_final.drop(['transmission'], axis=1, inplace=True)\n",
        "\n",
        "print('Done!')"
      ],
      "metadata": {
        "colab": {
          "base_uri": "https://localhost:8080/"
        },
        "id": "4l6rNmTLRlps",
        "outputId": "24e93fce-2e18-4508-debf-7f92823557fe"
      },
      "execution_count": 750,
      "outputs": [
        {
          "output_type": "stream",
          "name": "stdout",
          "text": [
            "Done!\n"
          ]
        }
      ]
    },
    {
      "cell_type": "code",
      "source": [
        "X.sample(5)"
      ],
      "metadata": {
        "colab": {
          "base_uri": "https://localhost:8080/",
          "height": 206
        },
        "id": "LJYPyVCcbFhj",
        "outputId": "d5ad7145-e362-4376-b313-de008f02ac76"
      },
      "execution_count": 751,
      "outputs": [
        {
          "output_type": "execute_result",
          "data": {
            "text/plain": [
              "      id                         title  odometer location    isimported  \\\n",
              "618  619               Honda Crosstour    156135  adamawa  locally used   \n",
              "247  247                 Toyota Sienna     85240    lagos  foreign used   \n",
              "49    49  Land Rover Range Rover Sport     32646    lagos  foreign used   \n",
              "740  741                 Nissan Murano         0    lagos  locally used   \n",
              "798  799                Toyota Corolla     65384    lagos  foreign used   \n",
              "\n",
              "    engine      paint  year    target  diesel  petrol  automatic  manual  \n",
              "618     V6      Black  2010   2715000       0       1          1       0  \n",
              "247     V6      White  2009   3315000       0       1          1       0  \n",
              "49      I6      White  2014  24015000       0       1          1       0  \n",
              "740     V6     Silver  2005    730000       0       1          1       0  \n",
              "798     I4  Dark Grey  2010   3425000       0       1          1       0  "
            ],
            "text/html": [
              "\n",
              "  <div id=\"df-94c6930c-6744-46d4-8f7d-c87042b93e5a\">\n",
              "    <div class=\"colab-df-container\">\n",
              "      <div>\n",
              "<style scoped>\n",
              "    .dataframe tbody tr th:only-of-type {\n",
              "        vertical-align: middle;\n",
              "    }\n",
              "\n",
              "    .dataframe tbody tr th {\n",
              "        vertical-align: top;\n",
              "    }\n",
              "\n",
              "    .dataframe thead th {\n",
              "        text-align: right;\n",
              "    }\n",
              "</style>\n",
              "<table border=\"1\" class=\"dataframe\">\n",
              "  <thead>\n",
              "    <tr style=\"text-align: right;\">\n",
              "      <th></th>\n",
              "      <th>id</th>\n",
              "      <th>title</th>\n",
              "      <th>odometer</th>\n",
              "      <th>location</th>\n",
              "      <th>isimported</th>\n",
              "      <th>engine</th>\n",
              "      <th>paint</th>\n",
              "      <th>year</th>\n",
              "      <th>target</th>\n",
              "      <th>diesel</th>\n",
              "      <th>petrol</th>\n",
              "      <th>automatic</th>\n",
              "      <th>manual</th>\n",
              "    </tr>\n",
              "  </thead>\n",
              "  <tbody>\n",
              "    <tr>\n",
              "      <th>618</th>\n",
              "      <td>619</td>\n",
              "      <td>Honda Crosstour</td>\n",
              "      <td>156135</td>\n",
              "      <td>adamawa</td>\n",
              "      <td>locally used</td>\n",
              "      <td>V6</td>\n",
              "      <td>Black</td>\n",
              "      <td>2010</td>\n",
              "      <td>2715000</td>\n",
              "      <td>0</td>\n",
              "      <td>1</td>\n",
              "      <td>1</td>\n",
              "      <td>0</td>\n",
              "    </tr>\n",
              "    <tr>\n",
              "      <th>247</th>\n",
              "      <td>247</td>\n",
              "      <td>Toyota Sienna</td>\n",
              "      <td>85240</td>\n",
              "      <td>lagos</td>\n",
              "      <td>foreign used</td>\n",
              "      <td>V6</td>\n",
              "      <td>White</td>\n",
              "      <td>2009</td>\n",
              "      <td>3315000</td>\n",
              "      <td>0</td>\n",
              "      <td>1</td>\n",
              "      <td>1</td>\n",
              "      <td>0</td>\n",
              "    </tr>\n",
              "    <tr>\n",
              "      <th>49</th>\n",
              "      <td>49</td>\n",
              "      <td>Land Rover Range Rover Sport</td>\n",
              "      <td>32646</td>\n",
              "      <td>lagos</td>\n",
              "      <td>foreign used</td>\n",
              "      <td>I6</td>\n",
              "      <td>White</td>\n",
              "      <td>2014</td>\n",
              "      <td>24015000</td>\n",
              "      <td>0</td>\n",
              "      <td>1</td>\n",
              "      <td>1</td>\n",
              "      <td>0</td>\n",
              "    </tr>\n",
              "    <tr>\n",
              "      <th>740</th>\n",
              "      <td>741</td>\n",
              "      <td>Nissan Murano</td>\n",
              "      <td>0</td>\n",
              "      <td>lagos</td>\n",
              "      <td>locally used</td>\n",
              "      <td>V6</td>\n",
              "      <td>Silver</td>\n",
              "      <td>2005</td>\n",
              "      <td>730000</td>\n",
              "      <td>0</td>\n",
              "      <td>1</td>\n",
              "      <td>1</td>\n",
              "      <td>0</td>\n",
              "    </tr>\n",
              "    <tr>\n",
              "      <th>798</th>\n",
              "      <td>799</td>\n",
              "      <td>Toyota Corolla</td>\n",
              "      <td>65384</td>\n",
              "      <td>lagos</td>\n",
              "      <td>foreign used</td>\n",
              "      <td>I4</td>\n",
              "      <td>Dark Grey</td>\n",
              "      <td>2010</td>\n",
              "      <td>3425000</td>\n",
              "      <td>0</td>\n",
              "      <td>1</td>\n",
              "      <td>1</td>\n",
              "      <td>0</td>\n",
              "    </tr>\n",
              "  </tbody>\n",
              "</table>\n",
              "</div>\n",
              "      <button class=\"colab-df-convert\" onclick=\"convertToInteractive('df-94c6930c-6744-46d4-8f7d-c87042b93e5a')\"\n",
              "              title=\"Convert this dataframe to an interactive table.\"\n",
              "              style=\"display:none;\">\n",
              "        \n",
              "  <svg xmlns=\"http://www.w3.org/2000/svg\" height=\"24px\"viewBox=\"0 0 24 24\"\n",
              "       width=\"24px\">\n",
              "    <path d=\"M0 0h24v24H0V0z\" fill=\"none\"/>\n",
              "    <path d=\"M18.56 5.44l.94 2.06.94-2.06 2.06-.94-2.06-.94-.94-2.06-.94 2.06-2.06.94zm-11 1L8.5 8.5l.94-2.06 2.06-.94-2.06-.94L8.5 2.5l-.94 2.06-2.06.94zm10 10l.94 2.06.94-2.06 2.06-.94-2.06-.94-.94-2.06-.94 2.06-2.06.94z\"/><path d=\"M17.41 7.96l-1.37-1.37c-.4-.4-.92-.59-1.43-.59-.52 0-1.04.2-1.43.59L10.3 9.45l-7.72 7.72c-.78.78-.78 2.05 0 2.83L4 21.41c.39.39.9.59 1.41.59.51 0 1.02-.2 1.41-.59l7.78-7.78 2.81-2.81c.8-.78.8-2.07 0-2.86zM5.41 20L4 18.59l7.72-7.72 1.47 1.35L5.41 20z\"/>\n",
              "  </svg>\n",
              "      </button>\n",
              "      \n",
              "  <style>\n",
              "    .colab-df-container {\n",
              "      display:flex;\n",
              "      flex-wrap:wrap;\n",
              "      gap: 12px;\n",
              "    }\n",
              "\n",
              "    .colab-df-convert {\n",
              "      background-color: #E8F0FE;\n",
              "      border: none;\n",
              "      border-radius: 50%;\n",
              "      cursor: pointer;\n",
              "      display: none;\n",
              "      fill: #1967D2;\n",
              "      height: 32px;\n",
              "      padding: 0 0 0 0;\n",
              "      width: 32px;\n",
              "    }\n",
              "\n",
              "    .colab-df-convert:hover {\n",
              "      background-color: #E2EBFA;\n",
              "      box-shadow: 0px 1px 2px rgba(60, 64, 67, 0.3), 0px 1px 3px 1px rgba(60, 64, 67, 0.15);\n",
              "      fill: #174EA6;\n",
              "    }\n",
              "\n",
              "    [theme=dark] .colab-df-convert {\n",
              "      background-color: #3B4455;\n",
              "      fill: #D2E3FC;\n",
              "    }\n",
              "\n",
              "    [theme=dark] .colab-df-convert:hover {\n",
              "      background-color: #434B5C;\n",
              "      box-shadow: 0px 1px 3px 1px rgba(0, 0, 0, 0.15);\n",
              "      filter: drop-shadow(0px 1px 2px rgba(0, 0, 0, 0.3));\n",
              "      fill: #FFFFFF;\n",
              "    }\n",
              "  </style>\n",
              "\n",
              "      <script>\n",
              "        const buttonEl =\n",
              "          document.querySelector('#df-94c6930c-6744-46d4-8f7d-c87042b93e5a button.colab-df-convert');\n",
              "        buttonEl.style.display =\n",
              "          google.colab.kernel.accessAllowed ? 'block' : 'none';\n",
              "\n",
              "        async function convertToInteractive(key) {\n",
              "          const element = document.querySelector('#df-94c6930c-6744-46d4-8f7d-c87042b93e5a');\n",
              "          const dataTable =\n",
              "            await google.colab.kernel.invokeFunction('convertToInteractive',\n",
              "                                                     [key], {});\n",
              "          if (!dataTable) return;\n",
              "\n",
              "          const docLinkHtml = 'Like what you see? Visit the ' +\n",
              "            '<a target=\"_blank\" href=https://colab.research.google.com/notebooks/data_table.ipynb>data table notebook</a>'\n",
              "            + ' to learn more about interactive tables.';\n",
              "          element.innerHTML = '';\n",
              "          dataTable['output_type'] = 'display_data';\n",
              "          await google.colab.output.renderOutput(dataTable, element);\n",
              "          const docLink = document.createElement('div');\n",
              "          docLink.innerHTML = docLinkHtml;\n",
              "          element.appendChild(docLink);\n",
              "        }\n",
              "      </script>\n",
              "    </div>\n",
              "  </div>\n",
              "  "
            ]
          },
          "metadata": {},
          "execution_count": 751
        }
      ]
    },
    {
      "cell_type": "code",
      "source": [
        "test_final.head()"
      ],
      "metadata": {
        "colab": {
          "base_uri": "https://localhost:8080/",
          "height": 206
        },
        "id": "1u6IVSIpAcKA",
        "outputId": "f0ac9dfc-8bf8-4602-d156-a8d298c5c29d"
      },
      "execution_count": 752,
      "outputs": [
        {
          "output_type": "execute_result",
          "data": {
            "text/plain": [
              "   id                title  odometer location    isimported          engine  \\\n",
              "0   0  Mercedes-Benz C 300      1234    Abuja          New   4-cylinder(I4)   \n",
              "1   1         Honda Accord     29938    Abuja  Foreign Used  4-cylinder(I4)   \n",
              "2   2  Mercedes-Benz S 550     87501    Lagos  Foreign Used  4-cylinder(I4)   \n",
              "3   3        Toyota Sienna    180894    Lagos  Locally used  6-cylinder(V6)   \n",
              "4   4         Toyota Hiace    104814    Lagos  Foreign Used  4-cylinder(I4)   \n",
              "\n",
              "       paint  year  diesel  petrol  automatic  manual  \n",
              "0      White  2017       0       1          1       0  \n",
              "1      White  2013       0       1          1       0  \n",
              "2      Black  2012       0       1          1       0  \n",
              "3  Dark Grey  2001       0       1          1       0  \n",
              "4      White  2000       0       1          1       0  "
            ],
            "text/html": [
              "\n",
              "  <div id=\"df-3af27e77-5c01-4cd6-8357-49ad4af9c353\">\n",
              "    <div class=\"colab-df-container\">\n",
              "      <div>\n",
              "<style scoped>\n",
              "    .dataframe tbody tr th:only-of-type {\n",
              "        vertical-align: middle;\n",
              "    }\n",
              "\n",
              "    .dataframe tbody tr th {\n",
              "        vertical-align: top;\n",
              "    }\n",
              "\n",
              "    .dataframe thead th {\n",
              "        text-align: right;\n",
              "    }\n",
              "</style>\n",
              "<table border=\"1\" class=\"dataframe\">\n",
              "  <thead>\n",
              "    <tr style=\"text-align: right;\">\n",
              "      <th></th>\n",
              "      <th>id</th>\n",
              "      <th>title</th>\n",
              "      <th>odometer</th>\n",
              "      <th>location</th>\n",
              "      <th>isimported</th>\n",
              "      <th>engine</th>\n",
              "      <th>paint</th>\n",
              "      <th>year</th>\n",
              "      <th>diesel</th>\n",
              "      <th>petrol</th>\n",
              "      <th>automatic</th>\n",
              "      <th>manual</th>\n",
              "    </tr>\n",
              "  </thead>\n",
              "  <tbody>\n",
              "    <tr>\n",
              "      <th>0</th>\n",
              "      <td>0</td>\n",
              "      <td>Mercedes-Benz C 300</td>\n",
              "      <td>1234</td>\n",
              "      <td>Abuja</td>\n",
              "      <td>New</td>\n",
              "      <td>4-cylinder(I4)</td>\n",
              "      <td>White</td>\n",
              "      <td>2017</td>\n",
              "      <td>0</td>\n",
              "      <td>1</td>\n",
              "      <td>1</td>\n",
              "      <td>0</td>\n",
              "    </tr>\n",
              "    <tr>\n",
              "      <th>1</th>\n",
              "      <td>1</td>\n",
              "      <td>Honda Accord</td>\n",
              "      <td>29938</td>\n",
              "      <td>Abuja</td>\n",
              "      <td>Foreign Used</td>\n",
              "      <td>4-cylinder(I4)</td>\n",
              "      <td>White</td>\n",
              "      <td>2013</td>\n",
              "      <td>0</td>\n",
              "      <td>1</td>\n",
              "      <td>1</td>\n",
              "      <td>0</td>\n",
              "    </tr>\n",
              "    <tr>\n",
              "      <th>2</th>\n",
              "      <td>2</td>\n",
              "      <td>Mercedes-Benz S 550</td>\n",
              "      <td>87501</td>\n",
              "      <td>Lagos</td>\n",
              "      <td>Foreign Used</td>\n",
              "      <td>4-cylinder(I4)</td>\n",
              "      <td>Black</td>\n",
              "      <td>2012</td>\n",
              "      <td>0</td>\n",
              "      <td>1</td>\n",
              "      <td>1</td>\n",
              "      <td>0</td>\n",
              "    </tr>\n",
              "    <tr>\n",
              "      <th>3</th>\n",
              "      <td>3</td>\n",
              "      <td>Toyota Sienna</td>\n",
              "      <td>180894</td>\n",
              "      <td>Lagos</td>\n",
              "      <td>Locally used</td>\n",
              "      <td>6-cylinder(V6)</td>\n",
              "      <td>Dark Grey</td>\n",
              "      <td>2001</td>\n",
              "      <td>0</td>\n",
              "      <td>1</td>\n",
              "      <td>1</td>\n",
              "      <td>0</td>\n",
              "    </tr>\n",
              "    <tr>\n",
              "      <th>4</th>\n",
              "      <td>4</td>\n",
              "      <td>Toyota Hiace</td>\n",
              "      <td>104814</td>\n",
              "      <td>Lagos</td>\n",
              "      <td>Foreign Used</td>\n",
              "      <td>4-cylinder(I4)</td>\n",
              "      <td>White</td>\n",
              "      <td>2000</td>\n",
              "      <td>0</td>\n",
              "      <td>1</td>\n",
              "      <td>1</td>\n",
              "      <td>0</td>\n",
              "    </tr>\n",
              "  </tbody>\n",
              "</table>\n",
              "</div>\n",
              "      <button class=\"colab-df-convert\" onclick=\"convertToInteractive('df-3af27e77-5c01-4cd6-8357-49ad4af9c353')\"\n",
              "              title=\"Convert this dataframe to an interactive table.\"\n",
              "              style=\"display:none;\">\n",
              "        \n",
              "  <svg xmlns=\"http://www.w3.org/2000/svg\" height=\"24px\"viewBox=\"0 0 24 24\"\n",
              "       width=\"24px\">\n",
              "    <path d=\"M0 0h24v24H0V0z\" fill=\"none\"/>\n",
              "    <path d=\"M18.56 5.44l.94 2.06.94-2.06 2.06-.94-2.06-.94-.94-2.06-.94 2.06-2.06.94zm-11 1L8.5 8.5l.94-2.06 2.06-.94-2.06-.94L8.5 2.5l-.94 2.06-2.06.94zm10 10l.94 2.06.94-2.06 2.06-.94-2.06-.94-.94-2.06-.94 2.06-2.06.94z\"/><path d=\"M17.41 7.96l-1.37-1.37c-.4-.4-.92-.59-1.43-.59-.52 0-1.04.2-1.43.59L10.3 9.45l-7.72 7.72c-.78.78-.78 2.05 0 2.83L4 21.41c.39.39.9.59 1.41.59.51 0 1.02-.2 1.41-.59l7.78-7.78 2.81-2.81c.8-.78.8-2.07 0-2.86zM5.41 20L4 18.59l7.72-7.72 1.47 1.35L5.41 20z\"/>\n",
              "  </svg>\n",
              "      </button>\n",
              "      \n",
              "  <style>\n",
              "    .colab-df-container {\n",
              "      display:flex;\n",
              "      flex-wrap:wrap;\n",
              "      gap: 12px;\n",
              "    }\n",
              "\n",
              "    .colab-df-convert {\n",
              "      background-color: #E8F0FE;\n",
              "      border: none;\n",
              "      border-radius: 50%;\n",
              "      cursor: pointer;\n",
              "      display: none;\n",
              "      fill: #1967D2;\n",
              "      height: 32px;\n",
              "      padding: 0 0 0 0;\n",
              "      width: 32px;\n",
              "    }\n",
              "\n",
              "    .colab-df-convert:hover {\n",
              "      background-color: #E2EBFA;\n",
              "      box-shadow: 0px 1px 2px rgba(60, 64, 67, 0.3), 0px 1px 3px 1px rgba(60, 64, 67, 0.15);\n",
              "      fill: #174EA6;\n",
              "    }\n",
              "\n",
              "    [theme=dark] .colab-df-convert {\n",
              "      background-color: #3B4455;\n",
              "      fill: #D2E3FC;\n",
              "    }\n",
              "\n",
              "    [theme=dark] .colab-df-convert:hover {\n",
              "      background-color: #434B5C;\n",
              "      box-shadow: 0px 1px 3px 1px rgba(0, 0, 0, 0.15);\n",
              "      filter: drop-shadow(0px 1px 2px rgba(0, 0, 0, 0.3));\n",
              "      fill: #FFFFFF;\n",
              "    }\n",
              "  </style>\n",
              "\n",
              "      <script>\n",
              "        const buttonEl =\n",
              "          document.querySelector('#df-3af27e77-5c01-4cd6-8357-49ad4af9c353 button.colab-df-convert');\n",
              "        buttonEl.style.display =\n",
              "          google.colab.kernel.accessAllowed ? 'block' : 'none';\n",
              "\n",
              "        async function convertToInteractive(key) {\n",
              "          const element = document.querySelector('#df-3af27e77-5c01-4cd6-8357-49ad4af9c353');\n",
              "          const dataTable =\n",
              "            await google.colab.kernel.invokeFunction('convertToInteractive',\n",
              "                                                     [key], {});\n",
              "          if (!dataTable) return;\n",
              "\n",
              "          const docLinkHtml = 'Like what you see? Visit the ' +\n",
              "            '<a target=\"_blank\" href=https://colab.research.google.com/notebooks/data_table.ipynb>data table notebook</a>'\n",
              "            + ' to learn more about interactive tables.';\n",
              "          element.innerHTML = '';\n",
              "          dataTable['output_type'] = 'display_data';\n",
              "          await google.colab.output.renderOutput(dataTable, element);\n",
              "          const docLink = document.createElement('div');\n",
              "          docLink.innerHTML = docLinkHtml;\n",
              "          element.appendChild(docLink);\n",
              "        }\n",
              "      </script>\n",
              "    </div>\n",
              "  </div>\n",
              "  "
            ]
          },
          "metadata": {},
          "execution_count": 752
        }
      ]
    },
    {
      "cell_type": "markdown",
      "source": [
        "isimported 컬럼과 engine 컬럼도 데이터 분포상으로 별도의 처리가 필요한 것처럼 보이진 않았습니다.\n",
        "\n",
        "테스트 데이터도 확인해보겠습니다."
      ],
      "metadata": {
        "id": "P4W-heKtfs7j"
      }
    },
    {
      "cell_type": "code",
      "source": [
        "X['isimported'].unique()"
      ],
      "metadata": {
        "colab": {
          "base_uri": "https://localhost:8080/"
        },
        "id": "cZI8A5r_AurS",
        "outputId": "7f564925-3c7b-4ae2-c8bb-c56fbd389e04"
      },
      "execution_count": 753,
      "outputs": [
        {
          "output_type": "execute_result",
          "data": {
            "text/plain": [
              "array(['foreign used', 'new', 'locally used'], dtype=object)"
            ]
          },
          "metadata": {},
          "execution_count": 753
        }
      ]
    },
    {
      "cell_type": "code",
      "source": [
        "test_final['isimported'] = clean_text(test_final['isimported'])"
      ],
      "metadata": {
        "id": "Us9hBOdXAuKv"
      },
      "execution_count": 754,
      "outputs": []
    },
    {
      "cell_type": "code",
      "source": [
        "test_final['isimported'].unique()"
      ],
      "metadata": {
        "colab": {
          "base_uri": "https://localhost:8080/"
        },
        "id": "eUg0XGVYAqSX",
        "outputId": "97fd31c8-1b1a-40d4-d1ce-a3609cddc1ea"
      },
      "execution_count": 755,
      "outputs": [
        {
          "output_type": "execute_result",
          "data": {
            "text/plain": [
              "array(['new', 'foreign used', 'locally used'], dtype=object)"
            ]
          },
          "metadata": {},
          "execution_count": 755
        }
      ]
    },
    {
      "cell_type": "code",
      "source": [
        "# X_isimported\n",
        "X_isimported_dummies = pd.get_dummies(X['isimported'])\n",
        "X = pd.concat([X, X_isimported_dummies], axis=1)\n",
        "X.drop(['isimported'], axis=1, inplace=True)\n",
        "\n",
        "# test_isimported\n",
        "test_isimported_dummies = pd.get_dummies(test_final['isimported'])\n",
        "test_final = pd.concat([test_final, test_isimported_dummies], axis=1)\n",
        "test_final.drop(['isimported'], axis=1, inplace=True)"
      ],
      "metadata": {
        "id": "TxQzvpi-JEMa"
      },
      "execution_count": 756,
      "outputs": []
    },
    {
      "cell_type": "code",
      "source": [
        "test_final.head()"
      ],
      "metadata": {
        "colab": {
          "base_uri": "https://localhost:8080/",
          "height": 206
        },
        "id": "7Xzf9elWJj0v",
        "outputId": "b7f73a52-0417-41a0-fe08-4e0b15a89358"
      },
      "execution_count": 757,
      "outputs": [
        {
          "output_type": "execute_result",
          "data": {
            "text/plain": [
              "   id                title  odometer location          engine      paint  \\\n",
              "0   0  Mercedes-Benz C 300      1234    Abuja  4-cylinder(I4)      White   \n",
              "1   1         Honda Accord     29938    Abuja  4-cylinder(I4)      White   \n",
              "2   2  Mercedes-Benz S 550     87501    Lagos  4-cylinder(I4)      Black   \n",
              "3   3        Toyota Sienna    180894    Lagos  6-cylinder(V6)  Dark Grey   \n",
              "4   4         Toyota Hiace    104814    Lagos  4-cylinder(I4)      White   \n",
              "\n",
              "   year  diesel  petrol  automatic  manual  foreign used  locally used  new  \n",
              "0  2017       0       1          1       0             0             0    1  \n",
              "1  2013       0       1          1       0             1             0    0  \n",
              "2  2012       0       1          1       0             1             0    0  \n",
              "3  2001       0       1          1       0             0             1    0  \n",
              "4  2000       0       1          1       0             1             0    0  "
            ],
            "text/html": [
              "\n",
              "  <div id=\"df-04115b68-b1de-41e9-8162-c73202d159ef\">\n",
              "    <div class=\"colab-df-container\">\n",
              "      <div>\n",
              "<style scoped>\n",
              "    .dataframe tbody tr th:only-of-type {\n",
              "        vertical-align: middle;\n",
              "    }\n",
              "\n",
              "    .dataframe tbody tr th {\n",
              "        vertical-align: top;\n",
              "    }\n",
              "\n",
              "    .dataframe thead th {\n",
              "        text-align: right;\n",
              "    }\n",
              "</style>\n",
              "<table border=\"1\" class=\"dataframe\">\n",
              "  <thead>\n",
              "    <tr style=\"text-align: right;\">\n",
              "      <th></th>\n",
              "      <th>id</th>\n",
              "      <th>title</th>\n",
              "      <th>odometer</th>\n",
              "      <th>location</th>\n",
              "      <th>engine</th>\n",
              "      <th>paint</th>\n",
              "      <th>year</th>\n",
              "      <th>diesel</th>\n",
              "      <th>petrol</th>\n",
              "      <th>automatic</th>\n",
              "      <th>manual</th>\n",
              "      <th>foreign used</th>\n",
              "      <th>locally used</th>\n",
              "      <th>new</th>\n",
              "    </tr>\n",
              "  </thead>\n",
              "  <tbody>\n",
              "    <tr>\n",
              "      <th>0</th>\n",
              "      <td>0</td>\n",
              "      <td>Mercedes-Benz C 300</td>\n",
              "      <td>1234</td>\n",
              "      <td>Abuja</td>\n",
              "      <td>4-cylinder(I4)</td>\n",
              "      <td>White</td>\n",
              "      <td>2017</td>\n",
              "      <td>0</td>\n",
              "      <td>1</td>\n",
              "      <td>1</td>\n",
              "      <td>0</td>\n",
              "      <td>0</td>\n",
              "      <td>0</td>\n",
              "      <td>1</td>\n",
              "    </tr>\n",
              "    <tr>\n",
              "      <th>1</th>\n",
              "      <td>1</td>\n",
              "      <td>Honda Accord</td>\n",
              "      <td>29938</td>\n",
              "      <td>Abuja</td>\n",
              "      <td>4-cylinder(I4)</td>\n",
              "      <td>White</td>\n",
              "      <td>2013</td>\n",
              "      <td>0</td>\n",
              "      <td>1</td>\n",
              "      <td>1</td>\n",
              "      <td>0</td>\n",
              "      <td>1</td>\n",
              "      <td>0</td>\n",
              "      <td>0</td>\n",
              "    </tr>\n",
              "    <tr>\n",
              "      <th>2</th>\n",
              "      <td>2</td>\n",
              "      <td>Mercedes-Benz S 550</td>\n",
              "      <td>87501</td>\n",
              "      <td>Lagos</td>\n",
              "      <td>4-cylinder(I4)</td>\n",
              "      <td>Black</td>\n",
              "      <td>2012</td>\n",
              "      <td>0</td>\n",
              "      <td>1</td>\n",
              "      <td>1</td>\n",
              "      <td>0</td>\n",
              "      <td>1</td>\n",
              "      <td>0</td>\n",
              "      <td>0</td>\n",
              "    </tr>\n",
              "    <tr>\n",
              "      <th>3</th>\n",
              "      <td>3</td>\n",
              "      <td>Toyota Sienna</td>\n",
              "      <td>180894</td>\n",
              "      <td>Lagos</td>\n",
              "      <td>6-cylinder(V6)</td>\n",
              "      <td>Dark Grey</td>\n",
              "      <td>2001</td>\n",
              "      <td>0</td>\n",
              "      <td>1</td>\n",
              "      <td>1</td>\n",
              "      <td>0</td>\n",
              "      <td>0</td>\n",
              "      <td>1</td>\n",
              "      <td>0</td>\n",
              "    </tr>\n",
              "    <tr>\n",
              "      <th>4</th>\n",
              "      <td>4</td>\n",
              "      <td>Toyota Hiace</td>\n",
              "      <td>104814</td>\n",
              "      <td>Lagos</td>\n",
              "      <td>4-cylinder(I4)</td>\n",
              "      <td>White</td>\n",
              "      <td>2000</td>\n",
              "      <td>0</td>\n",
              "      <td>1</td>\n",
              "      <td>1</td>\n",
              "      <td>0</td>\n",
              "      <td>1</td>\n",
              "      <td>0</td>\n",
              "      <td>0</td>\n",
              "    </tr>\n",
              "  </tbody>\n",
              "</table>\n",
              "</div>\n",
              "      <button class=\"colab-df-convert\" onclick=\"convertToInteractive('df-04115b68-b1de-41e9-8162-c73202d159ef')\"\n",
              "              title=\"Convert this dataframe to an interactive table.\"\n",
              "              style=\"display:none;\">\n",
              "        \n",
              "  <svg xmlns=\"http://www.w3.org/2000/svg\" height=\"24px\"viewBox=\"0 0 24 24\"\n",
              "       width=\"24px\">\n",
              "    <path d=\"M0 0h24v24H0V0z\" fill=\"none\"/>\n",
              "    <path d=\"M18.56 5.44l.94 2.06.94-2.06 2.06-.94-2.06-.94-.94-2.06-.94 2.06-2.06.94zm-11 1L8.5 8.5l.94-2.06 2.06-.94-2.06-.94L8.5 2.5l-.94 2.06-2.06.94zm10 10l.94 2.06.94-2.06 2.06-.94-2.06-.94-.94-2.06-.94 2.06-2.06.94z\"/><path d=\"M17.41 7.96l-1.37-1.37c-.4-.4-.92-.59-1.43-.59-.52 0-1.04.2-1.43.59L10.3 9.45l-7.72 7.72c-.78.78-.78 2.05 0 2.83L4 21.41c.39.39.9.59 1.41.59.51 0 1.02-.2 1.41-.59l7.78-7.78 2.81-2.81c.8-.78.8-2.07 0-2.86zM5.41 20L4 18.59l7.72-7.72 1.47 1.35L5.41 20z\"/>\n",
              "  </svg>\n",
              "      </button>\n",
              "      \n",
              "  <style>\n",
              "    .colab-df-container {\n",
              "      display:flex;\n",
              "      flex-wrap:wrap;\n",
              "      gap: 12px;\n",
              "    }\n",
              "\n",
              "    .colab-df-convert {\n",
              "      background-color: #E8F0FE;\n",
              "      border: none;\n",
              "      border-radius: 50%;\n",
              "      cursor: pointer;\n",
              "      display: none;\n",
              "      fill: #1967D2;\n",
              "      height: 32px;\n",
              "      padding: 0 0 0 0;\n",
              "      width: 32px;\n",
              "    }\n",
              "\n",
              "    .colab-df-convert:hover {\n",
              "      background-color: #E2EBFA;\n",
              "      box-shadow: 0px 1px 2px rgba(60, 64, 67, 0.3), 0px 1px 3px 1px rgba(60, 64, 67, 0.15);\n",
              "      fill: #174EA6;\n",
              "    }\n",
              "\n",
              "    [theme=dark] .colab-df-convert {\n",
              "      background-color: #3B4455;\n",
              "      fill: #D2E3FC;\n",
              "    }\n",
              "\n",
              "    [theme=dark] .colab-df-convert:hover {\n",
              "      background-color: #434B5C;\n",
              "      box-shadow: 0px 1px 3px 1px rgba(0, 0, 0, 0.15);\n",
              "      filter: drop-shadow(0px 1px 2px rgba(0, 0, 0, 0.3));\n",
              "      fill: #FFFFFF;\n",
              "    }\n",
              "  </style>\n",
              "\n",
              "      <script>\n",
              "        const buttonEl =\n",
              "          document.querySelector('#df-04115b68-b1de-41e9-8162-c73202d159ef button.colab-df-convert');\n",
              "        buttonEl.style.display =\n",
              "          google.colab.kernel.accessAllowed ? 'block' : 'none';\n",
              "\n",
              "        async function convertToInteractive(key) {\n",
              "          const element = document.querySelector('#df-04115b68-b1de-41e9-8162-c73202d159ef');\n",
              "          const dataTable =\n",
              "            await google.colab.kernel.invokeFunction('convertToInteractive',\n",
              "                                                     [key], {});\n",
              "          if (!dataTable) return;\n",
              "\n",
              "          const docLinkHtml = 'Like what you see? Visit the ' +\n",
              "            '<a target=\"_blank\" href=https://colab.research.google.com/notebooks/data_table.ipynb>data table notebook</a>'\n",
              "            + ' to learn more about interactive tables.';\n",
              "          element.innerHTML = '';\n",
              "          dataTable['output_type'] = 'display_data';\n",
              "          await google.colab.output.renderOutput(dataTable, element);\n",
              "          const docLink = document.createElement('div');\n",
              "          docLink.innerHTML = docLinkHtml;\n",
              "          element.appendChild(docLink);\n",
              "        }\n",
              "      </script>\n",
              "    </div>\n",
              "  </div>\n",
              "  "
            ]
          },
          "metadata": {},
          "execution_count": 757
        }
      ]
    },
    {
      "cell_type": "code",
      "source": [
        "X.head()"
      ],
      "metadata": {
        "colab": {
          "base_uri": "https://localhost:8080/",
          "height": 206
        },
        "id": "jLUIcShqJj__",
        "outputId": "798d1bc1-1c88-41ae-8003-c40aa72049b3"
      },
      "execution_count": 758,
      "outputs": [
        {
          "output_type": "execute_result",
          "data": {
            "text/plain": [
              "   id                          title  odometer location engine  paint  year  \\\n",
              "0   0                   Toyota RAV 4     18277    lagos     I4    Red  2016   \n",
              "1   1            Toyota Land Cruiser        10    lagos     I4  Black  2019   \n",
              "2   2  Land Rover Range Rover Evoque     83091    lagos     V6    Red  2012   \n",
              "3   3                   Lexus ES 350     91524    lagos     I4   Gray  2007   \n",
              "4   4                   Toyota Venza     94177    lagos     V6    Red  2010   \n",
              "\n",
              "     target  diesel  petrol  automatic  manual  foreign used  locally used  \\\n",
              "0  13665000       0       1          1       0             1             0   \n",
              "1  33015000       0       1          1       0             0             0   \n",
              "2   9915000       0       1          1       0             1             0   \n",
              "3   3815000       0       1          1       0             1             0   \n",
              "4   7385000       0       1          1       0             1             0   \n",
              "\n",
              "   new  \n",
              "0    0  \n",
              "1    1  \n",
              "2    0  \n",
              "3    0  \n",
              "4    0  "
            ],
            "text/html": [
              "\n",
              "  <div id=\"df-a47a8a0e-8223-4570-9103-184a2f1bc468\">\n",
              "    <div class=\"colab-df-container\">\n",
              "      <div>\n",
              "<style scoped>\n",
              "    .dataframe tbody tr th:only-of-type {\n",
              "        vertical-align: middle;\n",
              "    }\n",
              "\n",
              "    .dataframe tbody tr th {\n",
              "        vertical-align: top;\n",
              "    }\n",
              "\n",
              "    .dataframe thead th {\n",
              "        text-align: right;\n",
              "    }\n",
              "</style>\n",
              "<table border=\"1\" class=\"dataframe\">\n",
              "  <thead>\n",
              "    <tr style=\"text-align: right;\">\n",
              "      <th></th>\n",
              "      <th>id</th>\n",
              "      <th>title</th>\n",
              "      <th>odometer</th>\n",
              "      <th>location</th>\n",
              "      <th>engine</th>\n",
              "      <th>paint</th>\n",
              "      <th>year</th>\n",
              "      <th>target</th>\n",
              "      <th>diesel</th>\n",
              "      <th>petrol</th>\n",
              "      <th>automatic</th>\n",
              "      <th>manual</th>\n",
              "      <th>foreign used</th>\n",
              "      <th>locally used</th>\n",
              "      <th>new</th>\n",
              "    </tr>\n",
              "  </thead>\n",
              "  <tbody>\n",
              "    <tr>\n",
              "      <th>0</th>\n",
              "      <td>0</td>\n",
              "      <td>Toyota RAV 4</td>\n",
              "      <td>18277</td>\n",
              "      <td>lagos</td>\n",
              "      <td>I4</td>\n",
              "      <td>Red</td>\n",
              "      <td>2016</td>\n",
              "      <td>13665000</td>\n",
              "      <td>0</td>\n",
              "      <td>1</td>\n",
              "      <td>1</td>\n",
              "      <td>0</td>\n",
              "      <td>1</td>\n",
              "      <td>0</td>\n",
              "      <td>0</td>\n",
              "    </tr>\n",
              "    <tr>\n",
              "      <th>1</th>\n",
              "      <td>1</td>\n",
              "      <td>Toyota Land Cruiser</td>\n",
              "      <td>10</td>\n",
              "      <td>lagos</td>\n",
              "      <td>I4</td>\n",
              "      <td>Black</td>\n",
              "      <td>2019</td>\n",
              "      <td>33015000</td>\n",
              "      <td>0</td>\n",
              "      <td>1</td>\n",
              "      <td>1</td>\n",
              "      <td>0</td>\n",
              "      <td>0</td>\n",
              "      <td>0</td>\n",
              "      <td>1</td>\n",
              "    </tr>\n",
              "    <tr>\n",
              "      <th>2</th>\n",
              "      <td>2</td>\n",
              "      <td>Land Rover Range Rover Evoque</td>\n",
              "      <td>83091</td>\n",
              "      <td>lagos</td>\n",
              "      <td>V6</td>\n",
              "      <td>Red</td>\n",
              "      <td>2012</td>\n",
              "      <td>9915000</td>\n",
              "      <td>0</td>\n",
              "      <td>1</td>\n",
              "      <td>1</td>\n",
              "      <td>0</td>\n",
              "      <td>1</td>\n",
              "      <td>0</td>\n",
              "      <td>0</td>\n",
              "    </tr>\n",
              "    <tr>\n",
              "      <th>3</th>\n",
              "      <td>3</td>\n",
              "      <td>Lexus ES 350</td>\n",
              "      <td>91524</td>\n",
              "      <td>lagos</td>\n",
              "      <td>I4</td>\n",
              "      <td>Gray</td>\n",
              "      <td>2007</td>\n",
              "      <td>3815000</td>\n",
              "      <td>0</td>\n",
              "      <td>1</td>\n",
              "      <td>1</td>\n",
              "      <td>0</td>\n",
              "      <td>1</td>\n",
              "      <td>0</td>\n",
              "      <td>0</td>\n",
              "    </tr>\n",
              "    <tr>\n",
              "      <th>4</th>\n",
              "      <td>4</td>\n",
              "      <td>Toyota Venza</td>\n",
              "      <td>94177</td>\n",
              "      <td>lagos</td>\n",
              "      <td>V6</td>\n",
              "      <td>Red</td>\n",
              "      <td>2010</td>\n",
              "      <td>7385000</td>\n",
              "      <td>0</td>\n",
              "      <td>1</td>\n",
              "      <td>1</td>\n",
              "      <td>0</td>\n",
              "      <td>1</td>\n",
              "      <td>0</td>\n",
              "      <td>0</td>\n",
              "    </tr>\n",
              "  </tbody>\n",
              "</table>\n",
              "</div>\n",
              "      <button class=\"colab-df-convert\" onclick=\"convertToInteractive('df-a47a8a0e-8223-4570-9103-184a2f1bc468')\"\n",
              "              title=\"Convert this dataframe to an interactive table.\"\n",
              "              style=\"display:none;\">\n",
              "        \n",
              "  <svg xmlns=\"http://www.w3.org/2000/svg\" height=\"24px\"viewBox=\"0 0 24 24\"\n",
              "       width=\"24px\">\n",
              "    <path d=\"M0 0h24v24H0V0z\" fill=\"none\"/>\n",
              "    <path d=\"M18.56 5.44l.94 2.06.94-2.06 2.06-.94-2.06-.94-.94-2.06-.94 2.06-2.06.94zm-11 1L8.5 8.5l.94-2.06 2.06-.94-2.06-.94L8.5 2.5l-.94 2.06-2.06.94zm10 10l.94 2.06.94-2.06 2.06-.94-2.06-.94-.94-2.06-.94 2.06-2.06.94z\"/><path d=\"M17.41 7.96l-1.37-1.37c-.4-.4-.92-.59-1.43-.59-.52 0-1.04.2-1.43.59L10.3 9.45l-7.72 7.72c-.78.78-.78 2.05 0 2.83L4 21.41c.39.39.9.59 1.41.59.51 0 1.02-.2 1.41-.59l7.78-7.78 2.81-2.81c.8-.78.8-2.07 0-2.86zM5.41 20L4 18.59l7.72-7.72 1.47 1.35L5.41 20z\"/>\n",
              "  </svg>\n",
              "      </button>\n",
              "      \n",
              "  <style>\n",
              "    .colab-df-container {\n",
              "      display:flex;\n",
              "      flex-wrap:wrap;\n",
              "      gap: 12px;\n",
              "    }\n",
              "\n",
              "    .colab-df-convert {\n",
              "      background-color: #E8F0FE;\n",
              "      border: none;\n",
              "      border-radius: 50%;\n",
              "      cursor: pointer;\n",
              "      display: none;\n",
              "      fill: #1967D2;\n",
              "      height: 32px;\n",
              "      padding: 0 0 0 0;\n",
              "      width: 32px;\n",
              "    }\n",
              "\n",
              "    .colab-df-convert:hover {\n",
              "      background-color: #E2EBFA;\n",
              "      box-shadow: 0px 1px 2px rgba(60, 64, 67, 0.3), 0px 1px 3px 1px rgba(60, 64, 67, 0.15);\n",
              "      fill: #174EA6;\n",
              "    }\n",
              "\n",
              "    [theme=dark] .colab-df-convert {\n",
              "      background-color: #3B4455;\n",
              "      fill: #D2E3FC;\n",
              "    }\n",
              "\n",
              "    [theme=dark] .colab-df-convert:hover {\n",
              "      background-color: #434B5C;\n",
              "      box-shadow: 0px 1px 3px 1px rgba(0, 0, 0, 0.15);\n",
              "      filter: drop-shadow(0px 1px 2px rgba(0, 0, 0, 0.3));\n",
              "      fill: #FFFFFF;\n",
              "    }\n",
              "  </style>\n",
              "\n",
              "      <script>\n",
              "        const buttonEl =\n",
              "          document.querySelector('#df-a47a8a0e-8223-4570-9103-184a2f1bc468 button.colab-df-convert');\n",
              "        buttonEl.style.display =\n",
              "          google.colab.kernel.accessAllowed ? 'block' : 'none';\n",
              "\n",
              "        async function convertToInteractive(key) {\n",
              "          const element = document.querySelector('#df-a47a8a0e-8223-4570-9103-184a2f1bc468');\n",
              "          const dataTable =\n",
              "            await google.colab.kernel.invokeFunction('convertToInteractive',\n",
              "                                                     [key], {});\n",
              "          if (!dataTable) return;\n",
              "\n",
              "          const docLinkHtml = 'Like what you see? Visit the ' +\n",
              "            '<a target=\"_blank\" href=https://colab.research.google.com/notebooks/data_table.ipynb>data table notebook</a>'\n",
              "            + ' to learn more about interactive tables.';\n",
              "          element.innerHTML = '';\n",
              "          dataTable['output_type'] = 'display_data';\n",
              "          await google.colab.output.renderOutput(dataTable, element);\n",
              "          const docLink = document.createElement('div');\n",
              "          docLink.innerHTML = docLinkHtml;\n",
              "          element.appendChild(docLink);\n",
              "        }\n",
              "      </script>\n",
              "    </div>\n",
              "  </div>\n",
              "  "
            ]
          },
          "metadata": {},
          "execution_count": 758
        }
      ]
    },
    {
      "cell_type": "code",
      "source": [
        "X['engine'].unique()"
      ],
      "metadata": {
        "colab": {
          "base_uri": "https://localhost:8080/"
        },
        "id": "fKVsziF-BB9z",
        "outputId": "b0222637-5a1c-41db-d70e-fade90823507"
      },
      "execution_count": 759,
      "outputs": [
        {
          "output_type": "execute_result",
          "data": {
            "text/plain": [
              "array(['I4', 'V6', 'V8', 'I6', 'H4', 'I5', 'I3', 'I2'], dtype=object)"
            ]
          },
          "metadata": {},
          "execution_count": 759
        }
      ]
    },
    {
      "cell_type": "code",
      "source": [
        "test_final['engine'].unique()"
      ],
      "metadata": {
        "colab": {
          "base_uri": "https://localhost:8080/"
        },
        "id": "BrpwXNhdBWD4",
        "outputId": "4778cdd3-6267-4cc4-a646-c2dd0efad4d5"
      },
      "execution_count": 760,
      "outputs": [
        {
          "output_type": "execute_result",
          "data": {
            "text/plain": [
              "array(['4-cylinder(I4)', '6-cylinder(V6)', '6-cylinder(I6)',\n",
              "       '8-cylinder(V8)', '5-cylinder(I5)', '2-cylinder(I2)',\n",
              "       '12-cylinder(V12)', '3-cylinder(I3)'], dtype=object)"
            ]
          },
          "metadata": {},
          "execution_count": 760
        }
      ]
    },
    {
      "cell_type": "markdown",
      "source": [
        "test 데이터에는 12기통 엔진까지 포함돼 있군요.\n",
        "\n",
        "트레인셋에 12기통 엔진 데이터가 없기 때문에 일단 지금은 원핫인코딩을 하지 않고 변환만 해주겠습니다.\n",
        "\n",
        "\n",
        "이런 경우엔 컬럼 정리 후 sklearn의 onehotencoder가 제공하는 ignore 기능을 쓰면 됩니다."
      ],
      "metadata": {
        "id": "6ujgHXt2Bjkl"
      }
    },
    {
      "cell_type": "code",
      "source": [
        "test_engine = test_final['engine']\n",
        "pattern = re.compile('\\S\\d+')\n",
        "\n",
        "test_engine_list = []\n",
        "for i in range(1, len(test_engine)):\n",
        "    test_engine_list = test_engine_list + pattern.findall(test_engine[i])\n",
        "\n",
        "test_final['engine'] = test_engine_list\n",
        "test_final.head()"
      ],
      "metadata": {
        "colab": {
          "base_uri": "https://localhost:8080/",
          "height": 206
        },
        "id": "1uYvSTn6BnXy",
        "outputId": "998985de-f55e-4449-a51b-1282c6752ab9"
      },
      "execution_count": 761,
      "outputs": [
        {
          "output_type": "execute_result",
          "data": {
            "text/plain": [
              "   id                title  odometer location engine      paint  year  diesel  \\\n",
              "0   0  Mercedes-Benz C 300      1234    Abuja     I4      White  2017       0   \n",
              "1   1         Honda Accord     29938    Abuja     I4      White  2013       0   \n",
              "2   2  Mercedes-Benz S 550     87501    Lagos     V6      Black  2012       0   \n",
              "3   3        Toyota Sienna    180894    Lagos     I4  Dark Grey  2001       0   \n",
              "4   4         Toyota Hiace    104814    Lagos     I4      White  2000       0   \n",
              "\n",
              "   petrol  automatic  manual  foreign used  locally used  new  \n",
              "0       1          1       0             0             0    1  \n",
              "1       1          1       0             1             0    0  \n",
              "2       1          1       0             1             0    0  \n",
              "3       1          1       0             0             1    0  \n",
              "4       1          1       0             1             0    0  "
            ],
            "text/html": [
              "\n",
              "  <div id=\"df-72442905-913d-4b1f-b251-98e3e3b0c525\">\n",
              "    <div class=\"colab-df-container\">\n",
              "      <div>\n",
              "<style scoped>\n",
              "    .dataframe tbody tr th:only-of-type {\n",
              "        vertical-align: middle;\n",
              "    }\n",
              "\n",
              "    .dataframe tbody tr th {\n",
              "        vertical-align: top;\n",
              "    }\n",
              "\n",
              "    .dataframe thead th {\n",
              "        text-align: right;\n",
              "    }\n",
              "</style>\n",
              "<table border=\"1\" class=\"dataframe\">\n",
              "  <thead>\n",
              "    <tr style=\"text-align: right;\">\n",
              "      <th></th>\n",
              "      <th>id</th>\n",
              "      <th>title</th>\n",
              "      <th>odometer</th>\n",
              "      <th>location</th>\n",
              "      <th>engine</th>\n",
              "      <th>paint</th>\n",
              "      <th>year</th>\n",
              "      <th>diesel</th>\n",
              "      <th>petrol</th>\n",
              "      <th>automatic</th>\n",
              "      <th>manual</th>\n",
              "      <th>foreign used</th>\n",
              "      <th>locally used</th>\n",
              "      <th>new</th>\n",
              "    </tr>\n",
              "  </thead>\n",
              "  <tbody>\n",
              "    <tr>\n",
              "      <th>0</th>\n",
              "      <td>0</td>\n",
              "      <td>Mercedes-Benz C 300</td>\n",
              "      <td>1234</td>\n",
              "      <td>Abuja</td>\n",
              "      <td>I4</td>\n",
              "      <td>White</td>\n",
              "      <td>2017</td>\n",
              "      <td>0</td>\n",
              "      <td>1</td>\n",
              "      <td>1</td>\n",
              "      <td>0</td>\n",
              "      <td>0</td>\n",
              "      <td>0</td>\n",
              "      <td>1</td>\n",
              "    </tr>\n",
              "    <tr>\n",
              "      <th>1</th>\n",
              "      <td>1</td>\n",
              "      <td>Honda Accord</td>\n",
              "      <td>29938</td>\n",
              "      <td>Abuja</td>\n",
              "      <td>I4</td>\n",
              "      <td>White</td>\n",
              "      <td>2013</td>\n",
              "      <td>0</td>\n",
              "      <td>1</td>\n",
              "      <td>1</td>\n",
              "      <td>0</td>\n",
              "      <td>1</td>\n",
              "      <td>0</td>\n",
              "      <td>0</td>\n",
              "    </tr>\n",
              "    <tr>\n",
              "      <th>2</th>\n",
              "      <td>2</td>\n",
              "      <td>Mercedes-Benz S 550</td>\n",
              "      <td>87501</td>\n",
              "      <td>Lagos</td>\n",
              "      <td>V6</td>\n",
              "      <td>Black</td>\n",
              "      <td>2012</td>\n",
              "      <td>0</td>\n",
              "      <td>1</td>\n",
              "      <td>1</td>\n",
              "      <td>0</td>\n",
              "      <td>1</td>\n",
              "      <td>0</td>\n",
              "      <td>0</td>\n",
              "    </tr>\n",
              "    <tr>\n",
              "      <th>3</th>\n",
              "      <td>3</td>\n",
              "      <td>Toyota Sienna</td>\n",
              "      <td>180894</td>\n",
              "      <td>Lagos</td>\n",
              "      <td>I4</td>\n",
              "      <td>Dark Grey</td>\n",
              "      <td>2001</td>\n",
              "      <td>0</td>\n",
              "      <td>1</td>\n",
              "      <td>1</td>\n",
              "      <td>0</td>\n",
              "      <td>0</td>\n",
              "      <td>1</td>\n",
              "      <td>0</td>\n",
              "    </tr>\n",
              "    <tr>\n",
              "      <th>4</th>\n",
              "      <td>4</td>\n",
              "      <td>Toyota Hiace</td>\n",
              "      <td>104814</td>\n",
              "      <td>Lagos</td>\n",
              "      <td>I4</td>\n",
              "      <td>White</td>\n",
              "      <td>2000</td>\n",
              "      <td>0</td>\n",
              "      <td>1</td>\n",
              "      <td>1</td>\n",
              "      <td>0</td>\n",
              "      <td>1</td>\n",
              "      <td>0</td>\n",
              "      <td>0</td>\n",
              "    </tr>\n",
              "  </tbody>\n",
              "</table>\n",
              "</div>\n",
              "      <button class=\"colab-df-convert\" onclick=\"convertToInteractive('df-72442905-913d-4b1f-b251-98e3e3b0c525')\"\n",
              "              title=\"Convert this dataframe to an interactive table.\"\n",
              "              style=\"display:none;\">\n",
              "        \n",
              "  <svg xmlns=\"http://www.w3.org/2000/svg\" height=\"24px\"viewBox=\"0 0 24 24\"\n",
              "       width=\"24px\">\n",
              "    <path d=\"M0 0h24v24H0V0z\" fill=\"none\"/>\n",
              "    <path d=\"M18.56 5.44l.94 2.06.94-2.06 2.06-.94-2.06-.94-.94-2.06-.94 2.06-2.06.94zm-11 1L8.5 8.5l.94-2.06 2.06-.94-2.06-.94L8.5 2.5l-.94 2.06-2.06.94zm10 10l.94 2.06.94-2.06 2.06-.94-2.06-.94-.94-2.06-.94 2.06-2.06.94z\"/><path d=\"M17.41 7.96l-1.37-1.37c-.4-.4-.92-.59-1.43-.59-.52 0-1.04.2-1.43.59L10.3 9.45l-7.72 7.72c-.78.78-.78 2.05 0 2.83L4 21.41c.39.39.9.59 1.41.59.51 0 1.02-.2 1.41-.59l7.78-7.78 2.81-2.81c.8-.78.8-2.07 0-2.86zM5.41 20L4 18.59l7.72-7.72 1.47 1.35L5.41 20z\"/>\n",
              "  </svg>\n",
              "      </button>\n",
              "      \n",
              "  <style>\n",
              "    .colab-df-container {\n",
              "      display:flex;\n",
              "      flex-wrap:wrap;\n",
              "      gap: 12px;\n",
              "    }\n",
              "\n",
              "    .colab-df-convert {\n",
              "      background-color: #E8F0FE;\n",
              "      border: none;\n",
              "      border-radius: 50%;\n",
              "      cursor: pointer;\n",
              "      display: none;\n",
              "      fill: #1967D2;\n",
              "      height: 32px;\n",
              "      padding: 0 0 0 0;\n",
              "      width: 32px;\n",
              "    }\n",
              "\n",
              "    .colab-df-convert:hover {\n",
              "      background-color: #E2EBFA;\n",
              "      box-shadow: 0px 1px 2px rgba(60, 64, 67, 0.3), 0px 1px 3px 1px rgba(60, 64, 67, 0.15);\n",
              "      fill: #174EA6;\n",
              "    }\n",
              "\n",
              "    [theme=dark] .colab-df-convert {\n",
              "      background-color: #3B4455;\n",
              "      fill: #D2E3FC;\n",
              "    }\n",
              "\n",
              "    [theme=dark] .colab-df-convert:hover {\n",
              "      background-color: #434B5C;\n",
              "      box-shadow: 0px 1px 3px 1px rgba(0, 0, 0, 0.15);\n",
              "      filter: drop-shadow(0px 1px 2px rgba(0, 0, 0, 0.3));\n",
              "      fill: #FFFFFF;\n",
              "    }\n",
              "  </style>\n",
              "\n",
              "      <script>\n",
              "        const buttonEl =\n",
              "          document.querySelector('#df-72442905-913d-4b1f-b251-98e3e3b0c525 button.colab-df-convert');\n",
              "        buttonEl.style.display =\n",
              "          google.colab.kernel.accessAllowed ? 'block' : 'none';\n",
              "\n",
              "        async function convertToInteractive(key) {\n",
              "          const element = document.querySelector('#df-72442905-913d-4b1f-b251-98e3e3b0c525');\n",
              "          const dataTable =\n",
              "            await google.colab.kernel.invokeFunction('convertToInteractive',\n",
              "                                                     [key], {});\n",
              "          if (!dataTable) return;\n",
              "\n",
              "          const docLinkHtml = 'Like what you see? Visit the ' +\n",
              "            '<a target=\"_blank\" href=https://colab.research.google.com/notebooks/data_table.ipynb>data table notebook</a>'\n",
              "            + ' to learn more about interactive tables.';\n",
              "          element.innerHTML = '';\n",
              "          dataTable['output_type'] = 'display_data';\n",
              "          await google.colab.output.renderOutput(dataTable, element);\n",
              "          const docLink = document.createElement('div');\n",
              "          docLink.innerHTML = docLinkHtml;\n",
              "          element.appendChild(docLink);\n",
              "        }\n",
              "      </script>\n",
              "    </div>\n",
              "  </div>\n",
              "  "
            ]
          },
          "metadata": {},
          "execution_count": 761
        }
      ]
    },
    {
      "cell_type": "markdown",
      "source": [
        "잘 변환됐습니다."
      ],
      "metadata": {
        "id": "g3j1T1-6CRnA"
      }
    },
    {
      "cell_type": "markdown",
      "source": [
        "---"
      ],
      "metadata": {
        "id": "DzU1J31fSI7o"
      }
    },
    {
      "cell_type": "markdown",
      "source": [
        "### **원핫인코딩 2**"
      ],
      "metadata": {
        "id": "rJSNvqZCETQt"
      }
    },
    {
      "cell_type": "markdown",
      "source": [
        "paint 컬럼과 title 컬럼은 조금 생각이 필요합니다.\n",
        "\n",
        "paint 컬럼부터 살펴보겠습니다."
      ],
      "metadata": {
        "id": "tVcaHltWgwoJ"
      }
    },
    {
      "cell_type": "code",
      "source": [
        "X['paint'] = clean_text(X['paint'])\n",
        "X['paint'].nunique()"
      ],
      "metadata": {
        "colab": {
          "base_uri": "https://localhost:8080/"
        },
        "id": "55ESEKhHk7EQ",
        "outputId": "6fbff6da-2a31-4e56-9af6-2bc0760d7910"
      },
      "execution_count": 762,
      "outputs": [
        {
          "output_type": "execute_result",
          "data": {
            "text/plain": [
              "51"
            ]
          },
          "metadata": {},
          "execution_count": 762
        }
      ]
    },
    {
      "cell_type": "code",
      "source": [
        "test_final['paint'] = clean_text(test_final['paint'])\n",
        "test_final['paint'].nunique()"
      ],
      "metadata": {
        "colab": {
          "base_uri": "https://localhost:8080/"
        },
        "id": "DjHrMVN5MH0C",
        "outputId": "388941b4-214f-4c0c-bbf4-bf8feebbdea5"
      },
      "execution_count": 763,
      "outputs": [
        {
          "output_type": "execute_result",
          "data": {
            "text/plain": [
              "30"
            ]
          },
          "metadata": {},
          "execution_count": 763
        }
      ]
    },
    {
      "cell_type": "markdown",
      "source": [
        "일단 기본적인 clean_text 처리를 해준 뒤에도 색상 종류가 51종입니다.\n",
        "\n",
        "이걸 모두 원핫인코딩하면 훈련 데이터의 컬럼 개수가 80개가 됩니다. 연산량도 늘어나겠죠.\n",
        "\n",
        "컬럼 개수를 그렇게까지 늘리지 않고 해결할 방법은 없을까요?"
      ],
      "metadata": {
        "id": "CK9CmveyiNWX"
      }
    },
    {
      "cell_type": "code",
      "source": [
        "X['paint'].unique()"
      ],
      "metadata": {
        "colab": {
          "base_uri": "https://localhost:8080/"
        },
        "id": "1sroBu7KoDVp",
        "outputId": "4de1297c-0c2f-4cb7-e9f3-2517cefd9f2a"
      },
      "execution_count": 764,
      "outputs": [
        {
          "output_type": "execute_result",
          "data": {
            "text/plain": [
              "array(['red', 'black', 'gray', 'white', 'blue', 'redl', 'silver',\n",
              "       'blackred', 'deep blue', 'dark grey', 'brown', 'grey', 'green',\n",
              "       'purple', 'gold', 'dark blue', 'milk', 'midnight black metal',\n",
              "       'beige', 'dark ash', 'orange', 'cream', 'dark gray', 'sliver',\n",
              "       'white orchild pearl', 'dark green', 'yellow', 'light gold',\n",
              "       'wine', 'whiteblue', 'magnetic gray', 'dark silver', 'silvergrey',\n",
              "       'ink blue', 'light blue', 'sky blue', 'gery', 'pale brown',\n",
              "       'whine', 'black and silver', 'light silver', 'black sand pearl',\n",
              "       'off white', 'ash', 'maroon', 'navy blue', 'super white',\n",
              "       'ash and black', 'magnetic gray metallic', 'skye blue',\n",
              "       'off white l'], dtype=object)"
            ]
          },
          "metadata": {},
          "execution_count": 764
        }
      ]
    },
    {
      "cell_type": "code",
      "source": [
        "test_final['paint'].unique()"
      ],
      "metadata": {
        "colab": {
          "base_uri": "https://localhost:8080/"
        },
        "id": "8SM8TIenMVzS",
        "outputId": "47bd2120-8edd-4c1d-a27e-1d20d4261525"
      },
      "execution_count": 765,
      "outputs": [
        {
          "output_type": "execute_result",
          "data": {
            "text/plain": [
              "array(['white', 'black', 'dark grey', 'red', 'silver', 'blue', 'gray',\n",
              "       'grey', 'gold', 'green', 'sliver', 'cream', 'brown', 'yellow',\n",
              "       'dark green', 'white and green', 'light grey', 'maroon', 'wine',\n",
              "       'ash', 'blac', 'dark blue', 'dark ash', 'golf', 'navy blue',\n",
              "       'indigo ink pearl', 'grey and black', 'classic silver metf',\n",
              "       'beige', 'mint green'], dtype=object)"
            ]
          },
          "metadata": {},
          "execution_count": 765
        }
      ]
    },
    {
      "cell_type": "markdown",
      "source": [
        "redl, gray, off white l, skye blue 등의 오타도 보이고 비슷한 색상끼리 그룹핑도 가능할 것 같습니다.\n",
        "\n",
        "마침 [코드 공유란](https://dacon.io/competitions/official/235901/codeshare/5097?page=1&dtype=recent)에 올라와 있는 코드를 활용하면 되겠습니다."
      ],
      "metadata": {
        "id": "QaDvU4waka2E"
      }
    },
    {
      "cell_type": "code",
      "source": [
        "tmp = X['paint']\n",
        "\n",
        "map_list = {i : i for i in np.unique(tmp)}\n",
        "\n",
        "tmp_map = {'off white l':'off white',\n",
        "            'redl': 'red',\n",
        "            'gray': 'grey',\n",
        "            'gery': 'grey',\n",
        "            'skye blue':'sky blue',\n",
        "            'sliver':'silver',\n",
        "            'whine':'white'}\n",
        "\n",
        "for k in tmp_map.keys():\n",
        "  v = tmp_map[k]\n",
        "  map_list[k] = v\n",
        "\n",
        "X['paint'] = X['paint'].map(map_list)"
      ],
      "metadata": {
        "id": "_qx_nc__mMHo"
      },
      "execution_count": 766,
      "outputs": []
    },
    {
      "cell_type": "code",
      "source": [
        "X['paint'].unique()"
      ],
      "metadata": {
        "colab": {
          "base_uri": "https://localhost:8080/"
        },
        "id": "GsMbPB7wFybR",
        "outputId": "af61e4f7-461b-4503-b962-2d1d04d41505"
      },
      "execution_count": 767,
      "outputs": [
        {
          "output_type": "execute_result",
          "data": {
            "text/plain": [
              "array(['red', 'black', 'grey', 'white', 'blue', 'silver', 'blackred',\n",
              "       'deep blue', 'dark grey', 'brown', 'green', 'purple', 'gold',\n",
              "       'dark blue', 'milk', 'midnight black metal', 'beige', 'dark ash',\n",
              "       'orange', 'cream', 'dark gray', 'white orchild pearl',\n",
              "       'dark green', 'yellow', 'light gold', 'wine', 'whiteblue',\n",
              "       'magnetic gray', 'dark silver', 'silvergrey', 'ink blue',\n",
              "       'light blue', 'sky blue', 'pale brown', 'black and silver',\n",
              "       'light silver', 'black sand pearl', 'off white', 'ash', 'maroon',\n",
              "       'navy blue', 'super white', 'ash and black',\n",
              "       'magnetic gray metallic'], dtype=object)"
            ]
          },
          "metadata": {},
          "execution_count": 767
        }
      ]
    },
    {
      "cell_type": "code",
      "source": [
        "# dark, deep, ink, light, magnetic, metallic, midnight, metal, navy, off, pale, sky, super\n",
        "def clean_text_add(texts): \n",
        "    corpus = [] \n",
        "    for i in range(0, len(texts)): \n",
        "        review = re.sub(r'\\s+', ' ', texts[i]) #extra space 제거\n",
        "        review = re.sub(r'<[^>]+>','',review) #Html tags 제거\n",
        "        review = re.sub('dark|deep|ink|light|magnetic|metallic|midnight|metal|navy|off|pale|sky|super','',review)\n",
        "        review = re.sub(r'\\s+', ' ', review) #spaces 제거\n",
        "        review = re.sub(r\"^\\s+\", '', review) #space from start 제거\n",
        "        review = re.sub(r'\\s+$', '', review) #space from the end 제거\n",
        "        review = re.sub(r'_', ' ', review) #space from the end 제거\n",
        "        #review = re.sub(r'l', '', review)\n",
        "        corpus.append(review) \n",
        "        \n",
        "    return corpus"
      ],
      "metadata": {
        "id": "vlhjhD3XHkD3"
      },
      "execution_count": 768,
      "outputs": []
    },
    {
      "cell_type": "code",
      "source": [
        "tmp = X['paint']\n",
        "tmp = clean_text_add(tmp) #메소드 적용\n",
        "X['paint'] = tmp\n",
        "np.unique(tmp)"
      ],
      "metadata": {
        "colab": {
          "base_uri": "https://localhost:8080/"
        },
        "id": "a1AaMGRVHq2H",
        "outputId": "39a6718a-f1ba-4985-d7cf-7cbbb42e4a30"
      },
      "execution_count": 769,
      "outputs": [
        {
          "output_type": "execute_result",
          "data": {
            "text/plain": [
              "array(['ash', 'ash and black', 'beige', 'black', 'black and silver',\n",
              "       'black sand pearl', 'blackred', 'blue', 'brown', 'cream', 'gold',\n",
              "       'gray', 'green', 'grey', 'maroon', 'milk', 'orange', 'purple',\n",
              "       'red', 'silver', 'silvergrey', 'white', 'white orchild pearl',\n",
              "       'whiteblue', 'wine', 'yellow'], dtype='<U19')"
            ]
          },
          "metadata": {},
          "execution_count": 769
        }
      ]
    },
    {
      "cell_type": "code",
      "source": [
        "tmp_test = test_final['paint']\n",
        "tmp_test = clean_text_add(tmp_test) #메소드 적용\n",
        "test_final['paint'] = tmp_test\n",
        "np.unique(tmp_test)"
      ],
      "metadata": {
        "colab": {
          "base_uri": "https://localhost:8080/"
        },
        "id": "SZFo_BQ4Mthr",
        "outputId": "e06ef979-6136-4300-b01e-c012f7abb5b1"
      },
      "execution_count": 770,
      "outputs": [
        {
          "output_type": "execute_result",
          "data": {
            "text/plain": [
              "array(['ash', 'beige', 'blac', 'black', 'blue', 'brown',\n",
              "       'classic silver metf', 'cream', 'gold', 'golf', 'gray', 'green',\n",
              "       'grey', 'grey and black', 'indigo pearl', 'maroon', 'mint green',\n",
              "       'red', 'silver', 'sliver', 'white', 'white and green', 'wine',\n",
              "       'yellow'], dtype='<U19')"
            ]
          },
          "metadata": {},
          "execution_count": 770
        }
      ]
    },
    {
      "cell_type": "code",
      "source": [
        "map_list = {i : i for i in np.unique(tmp)}\n",
        "\n",
        "tmp_map = {'ash':'black',\n",
        "            'ash and black': 'black',\n",
        "           'beige': 'white',\n",
        "           'black and silver':'black',\n",
        "           'black sand pearl': 'black',\n",
        "           'blackred': 'black',\n",
        "           'cream': 'white',\n",
        "           'maroon': 'brown',\n",
        "           'milk':'white',\n",
        "           'purple':'red',\n",
        "           'silver':'grey',\n",
        "           'silvergrey':'grey',\n",
        "           'white orchild pearl':'white',\n",
        "           'whiteblue': 'blue',\n",
        "           'wine':'red',\n",
        "           'orange':'yellow',\n",
        "           'gray':'grey',\n",
        "           'white and green':'white',\n",
        "           'blac':'black',\n",
        "           'classic silver metf':'grey',\n",
        "           'cream':'white',\n",
        "           'golf':'gold',\n",
        "           'grey and black':'grey',\n",
        "           'indigo pearl':'blue',\n",
        "           'mint green':'green',\n",
        "           'sliver':'silver'\n",
        "}\n",
        "\n",
        "for k in tmp_map.keys():\n",
        "  v = tmp_map[k]\n",
        "  map_list[k] = v\n",
        "\n",
        "X['paint'] = X['paint'].map(map_list)"
      ],
      "metadata": {
        "id": "cv3WxvpQHuXI"
      },
      "execution_count": 771,
      "outputs": []
    },
    {
      "cell_type": "code",
      "source": [
        "map_list = {i : i for i in np.unique(tmp_test)}\n",
        "for k in tmp_map.keys():\n",
        "  v = tmp_map[k]\n",
        "  map_list[k] = v\n",
        "\n",
        "test_final['paint'] = test_final['paint'].map(map_list)"
      ],
      "metadata": {
        "id": "P6dOxdViN6EK"
      },
      "execution_count": 772,
      "outputs": []
    },
    {
      "cell_type": "code",
      "source": [
        "X['paint'].unique()"
      ],
      "metadata": {
        "colab": {
          "base_uri": "https://localhost:8080/"
        },
        "id": "CxwipwkHHzq4",
        "outputId": "11a5a21a-5e59-4664-eaf8-889013d55b32"
      },
      "execution_count": 773,
      "outputs": [
        {
          "output_type": "execute_result",
          "data": {
            "text/plain": [
              "array(['red', 'black', 'grey', 'white', 'blue', 'brown', 'green', 'gold',\n",
              "       'yellow'], dtype=object)"
            ]
          },
          "metadata": {},
          "execution_count": 773
        }
      ]
    },
    {
      "cell_type": "code",
      "source": [
        "test_final['paint'].unique()"
      ],
      "metadata": {
        "colab": {
          "base_uri": "https://localhost:8080/"
        },
        "id": "mb38kFxZOSTw",
        "outputId": "f2eb5dcb-0fb5-4ec0-d94e-1630d78e8530"
      },
      "execution_count": 774,
      "outputs": [
        {
          "output_type": "execute_result",
          "data": {
            "text/plain": [
              "array(['white', 'black', 'grey', 'red', 'blue', 'gold', 'green', 'silver',\n",
              "       'brown', 'yellow'], dtype=object)"
            ]
          },
          "metadata": {},
          "execution_count": 774
        }
      ]
    },
    {
      "cell_type": "markdown",
      "source": [
        "잘 정리되었습니다."
      ],
      "metadata": {
        "id": "6lcb6HxrH07n"
      }
    },
    {
      "cell_type": "markdown",
      "source": [
        "location 컬럼도 같은 요령으로 처리해 주겠습니다."
      ],
      "metadata": {
        "id": "RGOKwL_YEVjg"
      }
    },
    {
      "cell_type": "code",
      "source": [
        "X['location'].unique()"
      ],
      "metadata": {
        "colab": {
          "base_uri": "https://localhost:8080/"
        },
        "id": "PSWiyT9KEX_c",
        "outputId": "734931f8-1c47-40d9-a1c4-22cadb57b4c8"
      },
      "execution_count": 775,
      "outputs": [
        {
          "output_type": "execute_result",
          "data": {
            "text/plain": [
              "array(['lagos', 'abuja', 'ogun', 'fct', 'accra', 'other', 'abia',\n",
              "       'adamawa'], dtype=object)"
            ]
          },
          "metadata": {},
          "execution_count": 775
        }
      ]
    },
    {
      "cell_type": "code",
      "source": [
        "test_final['location'] = clean_text(test_final['location'])\n",
        "test_final['location'].unique()"
      ],
      "metadata": {
        "colab": {
          "base_uri": "https://localhost:8080/"
        },
        "id": "RfHo6KETEaHN",
        "outputId": "b75c9e04-62d2-436c-894a-000abfb3bccd"
      },
      "execution_count": 776,
      "outputs": [
        {
          "output_type": "execute_result",
          "data": {
            "text/plain": [
              "array(['abuja', 'lagos', 'ogun', 'mushin', 'other', 'arepo ogun', 'abia'],\n",
              "      dtype=object)"
            ]
          },
          "metadata": {},
          "execution_count": 776
        }
      ]
    },
    {
      "cell_type": "markdown",
      "source": [
        "test set에서 처음보는 도시가 등장합니다."
      ],
      "metadata": {
        "id": "60JNUI3RE8Wh"
      }
    },
    {
      "cell_type": "markdown",
      "source": [
        "---"
      ],
      "metadata": {
        "id": "03n-qJ83IETn"
      }
    },
    {
      "cell_type": "markdown",
      "source": [
        "### **title = brand + vehicle_type**"
      ],
      "metadata": {
        "id": "xONrLoB4Z-NN"
      }
    },
    {
      "cell_type": "markdown",
      "source": [
        "title 컬럼은 브랜드와 세부 차종으로 나눠서 진행합니다.\n",
        "\n",
        "브랜드에 따라 차량 가격이 바뀌기도 하고, 같은 브랜드 내에서도 세부 차종에 따라 가격이 또 바뀌기 때문입니다."
      ],
      "metadata": {
        "id": "a5_7qb4QIMe_"
      }
    },
    {
      "cell_type": "code",
      "source": [
        "low_20 = vehicle_popularity[181:201]\n",
        "low_20"
      ],
      "metadata": {
        "colab": {
          "base_uri": "https://localhost:8080/"
        },
        "id": "TUYR-QuXJO6d",
        "outputId": "4666c203-477f-4a06-ce4a-d6686bc20ee0"
      },
      "execution_count": 777,
      "outputs": [
        {
          "output_type": "execute_result",
          "data": {
            "text/plain": [
              "Man Truck 18.44            1\n",
              "Mercedes-Benz 220          1\n",
              "Ford Focus                 1\n",
              "Mercedes-Benz ATEGO        1\n",
              "Mercedes-Benz ML 320       1\n",
              "Nissan Xterra              1\n",
              "DAF FA 55. 180             1\n",
              "IVECO EUROTECH 7.50E-16    1\n",
              "Toyota Coaster             1\n",
              "Volvo FL6                  1\n",
              "Toyota Dyna                1\n",
              "BMW 740                    1\n",
              "Mercedes-Benz S 450        1\n",
              "Honda Ridgeline            1\n",
              "Mercedes-Benz 320          1\n",
              "Volkswagen Golf            1\n",
              "Nissan Versa               1\n",
              "Scania P94 FLATBED         1\n",
              "Mercedes-Benz GLA 250      1\n",
              "Acura ZDX                  1\n",
              "Name: title, dtype: int64"
            ]
          },
          "metadata": {},
          "execution_count": 777
        }
      ]
    },
    {
      "cell_type": "code",
      "source": [
        "top_10"
      ],
      "metadata": {
        "colab": {
          "base_uri": "https://localhost:8080/"
        },
        "id": "ub4JgXonJsBB",
        "outputId": "6355f4e4-ef99-43a9-ba01-b243b5b16256"
      },
      "execution_count": 778,
      "outputs": [
        {
          "output_type": "execute_result",
          "data": {
            "text/plain": [
              "Toyota Camry         129\n",
              "Toyota Corolla       108\n",
              "Toyota Highlander     50\n",
              "Toyota Sienna         49\n",
              "Toyota RAV 4          40\n",
              "Honda Accord          38\n",
              "Lexus RX 350          33\n",
              "Lexus ES 350          24\n",
              "Toyota Venza          16\n",
              "Lexus GX 460          16\n",
              "Name: title, dtype: int64"
            ]
          },
          "metadata": {},
          "execution_count": 778
        }
      ]
    },
    {
      "cell_type": "code",
      "source": [
        "X['title'].nunique()"
      ],
      "metadata": {
        "colab": {
          "base_uri": "https://localhost:8080/"
        },
        "id": "FTv_i_V9PT70",
        "outputId": "4d04b4df-24e2-468d-e2b2-1aa92b16b9fd"
      },
      "execution_count": 779,
      "outputs": [
        {
          "output_type": "execute_result",
          "data": {
            "text/plain": [
              "201"
            ]
          },
          "metadata": {},
          "execution_count": 779
        }
      ]
    },
    {
      "cell_type": "code",
      "source": [
        "test_final['title'].nunique()"
      ],
      "metadata": {
        "colab": {
          "base_uri": "https://localhost:8080/"
        },
        "id": "EBv0TQgePT0t",
        "outputId": "e3e58a00-5a88-4b21-f45f-dcf4922a7d53"
      },
      "execution_count": 780,
      "outputs": [
        {
          "output_type": "execute_result",
          "data": {
            "text/plain": [
              "124"
            ]
          },
          "metadata": {},
          "execution_count": 780
        }
      ]
    },
    {
      "cell_type": "code",
      "source": [
        "X['title'].unique()"
      ],
      "metadata": {
        "colab": {
          "base_uri": "https://localhost:8080/"
        },
        "id": "6ji4R3BlNzkh",
        "outputId": "27daa11b-de4c-4b9a-dc5a-a071c8b9538d"
      },
      "execution_count": 781,
      "outputs": [
        {
          "output_type": "execute_result",
          "data": {
            "text/plain": [
              "array(['Toyota RAV 4', 'Toyota Land Cruiser',\n",
              "       'Land Rover Range Rover Evoque', 'Lexus ES 350', 'Toyota Venza',\n",
              "       'Toyota Corolla', 'Land Rover Range Rover Sport', 'Pontiac Vibe',\n",
              "       'Toyota Tacoma', 'Lexus RX 350', 'Ford Escape', 'Honda Civic',\n",
              "       'Volvo XC90', 'BMW 750', 'Infiniti JX', 'Honda Accord',\n",
              "       'Mercedes-Benz ML 350', 'Toyota Camry', 'Hyundai Azera',\n",
              "       'Lexus GX 460', 'BMW 325', 'Toyota Sienna', 'Honda Fit',\n",
              "       'Honda CR-V', 'Hyundai Tucson', 'Ford Transit', 'Jaguar XJ8',\n",
              "       'BMW X6', 'Mercedes-Benz C 300', 'Mitsubishi Galant',\n",
              "       'Mercedes-Benz GL 450', 'Lexus RX 300', 'Toyota Highlander',\n",
              "       'Mitsubishi CANTER PICK UP', 'Nissan Titan', 'Lexus IS 250',\n",
              "       'Mercedes-Benz 200', 'Toyota Sequoia', 'Ford Explorer',\n",
              "       'Hyundai ix35', 'Mack CH613 CONVENTIONAL CAB', 'Lexus CT 200h',\n",
              "       'Lexus LX 570', 'Toyota Avensis', 'Toyota 4-Runner',\n",
              "       'Mercedes-Benz GLE 350', 'Mercedes-Benz E 300', 'Toyota Avalon',\n",
              "       'Chevrolet Camaro', 'Mack CXN613 CAB BEHIND ENGINE',\n",
              "       'Land Rover Range Rover', 'Mazda CX-9', 'Lexus RX 330',\n",
              "       'Lincoln Mark', 'Kia Optima', 'Volkswagen LT', 'Lexus GS 300',\n",
              "       'Jaguar X-Type', 'Mercedes-Benz 709 DB', 'Nissan Altima',\n",
              "       'Acura MDX', 'DAF 95XF TRACTOR HEAD', 'Man TGA 18.360',\n",
              "       'Nissan Pathfinder', 'Mercedes-Benz E 350', 'Honda Crosstour',\n",
              "       'Honda Pilot', 'Lexus LS 460', 'Nissan Cabstar', 'Kia Sorento',\n",
              "       'Mercedes-Benz CLA 250', 'Mitsubishi Pajero',\n",
              "       'Mercedes-Benz C 350', 'Lexus GS 350', 'Mercedes-Benz E 320',\n",
              "       'Toyota Yaris', 'Toyota Matrix', 'Isuzu NQR', 'IVM LT35',\n",
              "       'Hyundai Elantra', 'Porsche Cayenne', 'Toyota Prado',\n",
              "       'Hyundai Sonata', 'MINI Cooper', 'Toyota Hiace',\n",
              "       'Mercedes-Benz 350', 'Honda Odyssey', 'Mercedes-Benz E 550',\n",
              "       'Dodge Charger', 'GMC Terrain', 'Mercedes-Benz GLK 350',\n",
              "       'Mercedes-Benz C 250', 'Mercedes-Benz ML 430', 'Mack CH613',\n",
              "       'Honda Element', 'Mercedes-Benz GLC 300', 'Hyundai Santa Fe',\n",
              "       'Kia Cerato', 'Chevrolet Evanda', 'Iveco TRUCK', 'Acura ZDX',\n",
              "       'Mercedes-Benz 450', 'Mercedes-Benz GLA 250',\n",
              "       'Mercedes-Benz CLS 500', 'Scania P94 FLATBED', 'Nissan Versa',\n",
              "       'Ford F 150', 'Mercedes-Benz GLE 43 AMG', 'Volkswagen Golf',\n",
              "       'Mercedes-Benz 320', 'Honda Ridgeline', 'Mercedes-Benz S 450',\n",
              "       'Mercedes-Benz 300', 'Kia Rio', 'BMW 740', 'Ford Edge',\n",
              "       'Toyota Dyna', 'Volvo FL6', 'Toyota Coaster', 'GAC Gonow Other',\n",
              "       'IVECO EUROTECH 7.50E-16', 'DAF FA 55. 180', 'Scania TRACTOR HEAD',\n",
              "       'Nissan Xterra', 'Mercedes-Benz ML 320', 'Ford Focus',\n",
              "       'Mercedes-Benz 220', 'Man Truck 18.44', 'BMW 730', 'Peugeot 607',\n",
              "       'BMW 528', 'Volvo XC60', 'Mercedes-Benz E 200',\n",
              "       'Volkswagen Passat', 'Volkswagen Sharan', 'Lexus GX 470',\n",
              "       'Nissan Quest', 'Nissan Maxima', 'Lexus ES 300', 'Mazda Tribute',\n",
              "       'Ford Fusion', 'Acura RDX', 'Peugeot 206',\n",
              "       'Mercedes-Benz G 63 AMG', 'Toyota Hilux', 'Kia Stinger',\n",
              "       'Volkswagen Tiguan', 'Acura TL', 'Porsche Panamera',\n",
              "       'Rolls-Royce Ghost', 'BMW 745', 'BMW 335', 'Volkswagen Jetta',\n",
              "       'Mack R-686ST', 'Man Diesel 19.314 FILT-N', 'Toyota Solara',\n",
              "       'Kia Soul', 'Mercedes-Benz C 450 AMG', 'Mack CXN613',\n",
              "       'Nissan Murano', 'Chevrolet Traverse', 'Volkswagen T4 Caravelle',\n",
              "       'MAN-VOLKSWAGEN FLATBED', 'Nissan Frontier', 'Nissan X-Trail',\n",
              "       'Mercedes-Benz C 180', 'Infiniti M35', 'Nissan Sentra',\n",
              "       'Jeep Cherokee', 'Toyota DYNA 200', 'Nissan Rogue',\n",
              "       'Land Rover Range Rover Velar', 'ALPINA B3', 'DAF 45', 'Mazda 323',\n",
              "       'Volkswagen T6 other', 'Bentley Arnage', 'Mazda 6', 'Infiniti FX',\n",
              "       'Ford Expedition', 'Mercedes-Benz 814', 'Kia Picanto',\n",
              "       'Toyota Tundra', 'JMC Vigus', 'Infiniti QX80', 'Volvo FH12',\n",
              "       'Volkswagen Touareg', 'Porsche Macan', 'Peugeot 308',\n",
              "       'Nissan INFINITI M90.150/2', 'MINI Cooper Countryman',\n",
              "       'Lexus ES 330', 'Honda Insight', 'Toyota Vitz', 'Audi S6',\n",
              "       'Isuzu CABSTER', 'Mercedes-Benz C 63 AMG', 'Mercedes-Benz SL 400',\n",
              "       'Volkswagen 17.22', 'Man BOCKMANN', 'DAF CF'], dtype=object)"
            ]
          },
          "metadata": {},
          "execution_count": 781
        }
      ]
    },
    {
      "cell_type": "code",
      "source": [
        "test_final['title'].unique()"
      ],
      "metadata": {
        "colab": {
          "base_uri": "https://localhost:8080/"
        },
        "id": "vWQ6B0wZPae8",
        "outputId": "3b17e834-ddbc-4db8-86e9-f9ffeaea3b9f"
      },
      "execution_count": 782,
      "outputs": [
        {
          "output_type": "execute_result",
          "data": {
            "text/plain": [
              "array(['Mercedes-Benz C 300', 'Honda Accord', 'Mercedes-Benz S 550',\n",
              "       'Toyota Sienna', 'Toyota Hiace', 'Toyota Corolla',\n",
              "       'Iveco EUROCARGO 120e18', 'Mercedes-Benz GLE 350',\n",
              "       'Toyota Highlander', 'Toyota Hilux', 'Toyota Camry',\n",
              "       'Mercedes-Benz C 180', 'Lexus ES 350', 'Honda Fit',\n",
              "       'Toyota Matrix', 'Toyota Venza', 'Lexus IS 250', 'Nissan Primera',\n",
              "       'Volkswagen Sharan', 'Jeep Wrangler', 'Volkswagen Golf',\n",
              "       'Mercedes-Benz 814', 'Nissan Sentra', 'Volkswagen Passat',\n",
              "       'Mercedes-Benz GLK 350', 'Lexus RX 350', 'Ford Mondeo', 'BMW X3',\n",
              "       'Mack CXN613 CAB BEHIND ENGINE', 'Toyota RAV 4',\n",
              "       'Land Rover Discovery', 'Toyota Avalon', 'Lexus GX 460',\n",
              "       'Hyundai Santa Fe', 'Peugeot 206', 'Volvo FL7',\n",
              "       'Mercedes-Benz C 320', 'Hyundai Sonata', 'Infiniti FX',\n",
              "       'Honda Civic', 'Mercedes-Benz CLS 500', 'Mercedes-Benz GLK 300',\n",
              "       'Acura RDX', 'Mercedes-Benz G 550', 'BMW 535', 'Acura TL',\n",
              "       'Nissan Xterra', 'Land Rover Range Rover', 'Nissan A',\n",
              "       'Toyota 4-Runner', 'Honda Pilot', 'Man LE 8. 180 PLATFORM TRUCK',\n",
              "       'Toyota Yaris', 'Hyundai Elantra', 'Volvo S80',\n",
              "       'Mercedes-Benz GLA 180', 'Acura TSX', 'Lexus LX 570',\n",
              "       'Mercedes-Benz Maybach', 'Mercedes-Benz 300', 'Acura MDX',\n",
              "       'Nissan INFINITI M90.150/2', 'Land Rover Range Rover Sport',\n",
              "       'Nissan Altima', 'Peugeot 307', 'Fiat Ducato',\n",
              "       'Mercedes-Benz C 350', 'Lexus RX 330', 'Ford Edge', 'Honda CR-V',\n",
              "       'Volvo FL12', 'Ford Explorer', 'Man 26-403', 'MINI Cooper Coupé',\n",
              "       'Iveco TRUCK', 'Nissan Cabstar', 'MINI Cooper', 'Lexus RX 400',\n",
              "       'Ford TRANSIT PICKUP', 'Toyota Prius', 'Toyota Tundra',\n",
              "       'Honda Element', 'Toyota Tacoma', 'Lexus ES 300',\n",
              "       'DAF XF TRACTOR HEAD', 'Honda Odyssey', 'Nissan Pathfinder',\n",
              "       'Mazda 323', 'Mercedes-Benz E 300', 'Lexus GS 350',\n",
              "       'Mercedes-Benz ML 350', 'Mercedes-Benz E 350', 'Porsche Cayenne',\n",
              "       'BMW 525', 'Toyota Land Cruiser', 'Mack R-686ST', 'Toyota C-HR',\n",
              "       'Mitsubishi Eclipse', 'Chevrolet Camaro',\n",
              "       'Mercedes-Benz CABIN PLUS CHASSIS ONLY', 'Mercedes-Benz GLE 450',\n",
              "       'Toyota Avensis', 'Ford Mustang', 'Volvo FL6', 'Kia Optima',\n",
              "       'Mitsubishi Pajero', 'Honda Crosstour', 'Lexus RX 300',\n",
              "       'Honda Ridgeline', 'Mercedes-Benz 220', 'Mitsubishi Montero',\n",
              "       'Pontiac Vibe', 'Ford F 150', 'Rolls-Royce Ghost', 'Ford Fusion',\n",
              "       'Lexus GS 300', 'Ford Transit', 'Hyundai Azera', 'Mitsubishi L200',\n",
              "       'Mercedes-Benz DUMP TRUCK', 'Mercedes-Benz WATER TANKER',\n",
              "       'Kia Rio', 'Man BOCKMANN', 'Lexus GX 470'], dtype=object)"
            ]
          },
          "metadata": {},
          "execution_count": 782
        }
      ]
    },
    {
      "cell_type": "markdown",
      "source": [
        "맨 처음 단어가 브랜드고, 뒤에 세부 차종 정보가 옵니다.\n",
        "\n",
        "데이콘에서 제공한 함수를 활용하여 brand 컬럼을 생성해줍니다.\n",
        "\n",
        "Land Rover는 Land-Rover로 미리 변환해줍니다."
      ],
      "metadata": {
        "id": "SAkr-Z78JRb8"
      }
    },
    {
      "cell_type": "code",
      "source": [
        "brand = []\n",
        "for i in range(len(X)):\n",
        "    review = re.sub(r'Land Rover', 'Land-Rover', X['title'][i])\n",
        "    brand.append(review)\n",
        "\n",
        "X['title'] = brand\n",
        "X.head()"
      ],
      "metadata": {
        "colab": {
          "base_uri": "https://localhost:8080/",
          "height": 206
        },
        "id": "eOexvGpCW1Gr",
        "outputId": "b0e7af53-fb40-4aed-959e-aeb82ac84434"
      },
      "execution_count": 783,
      "outputs": [
        {
          "output_type": "execute_result",
          "data": {
            "text/plain": [
              "   id                          title  odometer location engine  paint  year  \\\n",
              "0   0                   Toyota RAV 4     18277    lagos     I4    red  2016   \n",
              "1   1            Toyota Land Cruiser        10    lagos     I4  black  2019   \n",
              "2   2  Land-Rover Range Rover Evoque     83091    lagos     V6    red  2012   \n",
              "3   3                   Lexus ES 350     91524    lagos     I4   grey  2007   \n",
              "4   4                   Toyota Venza     94177    lagos     V6    red  2010   \n",
              "\n",
              "     target  diesel  petrol  automatic  manual  foreign used  locally used  \\\n",
              "0  13665000       0       1          1       0             1             0   \n",
              "1  33015000       0       1          1       0             0             0   \n",
              "2   9915000       0       1          1       0             1             0   \n",
              "3   3815000       0       1          1       0             1             0   \n",
              "4   7385000       0       1          1       0             1             0   \n",
              "\n",
              "   new  \n",
              "0    0  \n",
              "1    1  \n",
              "2    0  \n",
              "3    0  \n",
              "4    0  "
            ],
            "text/html": [
              "\n",
              "  <div id=\"df-233bb01d-912a-4cc4-b04d-0e2be38a78a5\">\n",
              "    <div class=\"colab-df-container\">\n",
              "      <div>\n",
              "<style scoped>\n",
              "    .dataframe tbody tr th:only-of-type {\n",
              "        vertical-align: middle;\n",
              "    }\n",
              "\n",
              "    .dataframe tbody tr th {\n",
              "        vertical-align: top;\n",
              "    }\n",
              "\n",
              "    .dataframe thead th {\n",
              "        text-align: right;\n",
              "    }\n",
              "</style>\n",
              "<table border=\"1\" class=\"dataframe\">\n",
              "  <thead>\n",
              "    <tr style=\"text-align: right;\">\n",
              "      <th></th>\n",
              "      <th>id</th>\n",
              "      <th>title</th>\n",
              "      <th>odometer</th>\n",
              "      <th>location</th>\n",
              "      <th>engine</th>\n",
              "      <th>paint</th>\n",
              "      <th>year</th>\n",
              "      <th>target</th>\n",
              "      <th>diesel</th>\n",
              "      <th>petrol</th>\n",
              "      <th>automatic</th>\n",
              "      <th>manual</th>\n",
              "      <th>foreign used</th>\n",
              "      <th>locally used</th>\n",
              "      <th>new</th>\n",
              "    </tr>\n",
              "  </thead>\n",
              "  <tbody>\n",
              "    <tr>\n",
              "      <th>0</th>\n",
              "      <td>0</td>\n",
              "      <td>Toyota RAV 4</td>\n",
              "      <td>18277</td>\n",
              "      <td>lagos</td>\n",
              "      <td>I4</td>\n",
              "      <td>red</td>\n",
              "      <td>2016</td>\n",
              "      <td>13665000</td>\n",
              "      <td>0</td>\n",
              "      <td>1</td>\n",
              "      <td>1</td>\n",
              "      <td>0</td>\n",
              "      <td>1</td>\n",
              "      <td>0</td>\n",
              "      <td>0</td>\n",
              "    </tr>\n",
              "    <tr>\n",
              "      <th>1</th>\n",
              "      <td>1</td>\n",
              "      <td>Toyota Land Cruiser</td>\n",
              "      <td>10</td>\n",
              "      <td>lagos</td>\n",
              "      <td>I4</td>\n",
              "      <td>black</td>\n",
              "      <td>2019</td>\n",
              "      <td>33015000</td>\n",
              "      <td>0</td>\n",
              "      <td>1</td>\n",
              "      <td>1</td>\n",
              "      <td>0</td>\n",
              "      <td>0</td>\n",
              "      <td>0</td>\n",
              "      <td>1</td>\n",
              "    </tr>\n",
              "    <tr>\n",
              "      <th>2</th>\n",
              "      <td>2</td>\n",
              "      <td>Land-Rover Range Rover Evoque</td>\n",
              "      <td>83091</td>\n",
              "      <td>lagos</td>\n",
              "      <td>V6</td>\n",
              "      <td>red</td>\n",
              "      <td>2012</td>\n",
              "      <td>9915000</td>\n",
              "      <td>0</td>\n",
              "      <td>1</td>\n",
              "      <td>1</td>\n",
              "      <td>0</td>\n",
              "      <td>1</td>\n",
              "      <td>0</td>\n",
              "      <td>0</td>\n",
              "    </tr>\n",
              "    <tr>\n",
              "      <th>3</th>\n",
              "      <td>3</td>\n",
              "      <td>Lexus ES 350</td>\n",
              "      <td>91524</td>\n",
              "      <td>lagos</td>\n",
              "      <td>I4</td>\n",
              "      <td>grey</td>\n",
              "      <td>2007</td>\n",
              "      <td>3815000</td>\n",
              "      <td>0</td>\n",
              "      <td>1</td>\n",
              "      <td>1</td>\n",
              "      <td>0</td>\n",
              "      <td>1</td>\n",
              "      <td>0</td>\n",
              "      <td>0</td>\n",
              "    </tr>\n",
              "    <tr>\n",
              "      <th>4</th>\n",
              "      <td>4</td>\n",
              "      <td>Toyota Venza</td>\n",
              "      <td>94177</td>\n",
              "      <td>lagos</td>\n",
              "      <td>V6</td>\n",
              "      <td>red</td>\n",
              "      <td>2010</td>\n",
              "      <td>7385000</td>\n",
              "      <td>0</td>\n",
              "      <td>1</td>\n",
              "      <td>1</td>\n",
              "      <td>0</td>\n",
              "      <td>1</td>\n",
              "      <td>0</td>\n",
              "      <td>0</td>\n",
              "    </tr>\n",
              "  </tbody>\n",
              "</table>\n",
              "</div>\n",
              "      <button class=\"colab-df-convert\" onclick=\"convertToInteractive('df-233bb01d-912a-4cc4-b04d-0e2be38a78a5')\"\n",
              "              title=\"Convert this dataframe to an interactive table.\"\n",
              "              style=\"display:none;\">\n",
              "        \n",
              "  <svg xmlns=\"http://www.w3.org/2000/svg\" height=\"24px\"viewBox=\"0 0 24 24\"\n",
              "       width=\"24px\">\n",
              "    <path d=\"M0 0h24v24H0V0z\" fill=\"none\"/>\n",
              "    <path d=\"M18.56 5.44l.94 2.06.94-2.06 2.06-.94-2.06-.94-.94-2.06-.94 2.06-2.06.94zm-11 1L8.5 8.5l.94-2.06 2.06-.94-2.06-.94L8.5 2.5l-.94 2.06-2.06.94zm10 10l.94 2.06.94-2.06 2.06-.94-2.06-.94-.94-2.06-.94 2.06-2.06.94z\"/><path d=\"M17.41 7.96l-1.37-1.37c-.4-.4-.92-.59-1.43-.59-.52 0-1.04.2-1.43.59L10.3 9.45l-7.72 7.72c-.78.78-.78 2.05 0 2.83L4 21.41c.39.39.9.59 1.41.59.51 0 1.02-.2 1.41-.59l7.78-7.78 2.81-2.81c.8-.78.8-2.07 0-2.86zM5.41 20L4 18.59l7.72-7.72 1.47 1.35L5.41 20z\"/>\n",
              "  </svg>\n",
              "      </button>\n",
              "      \n",
              "  <style>\n",
              "    .colab-df-container {\n",
              "      display:flex;\n",
              "      flex-wrap:wrap;\n",
              "      gap: 12px;\n",
              "    }\n",
              "\n",
              "    .colab-df-convert {\n",
              "      background-color: #E8F0FE;\n",
              "      border: none;\n",
              "      border-radius: 50%;\n",
              "      cursor: pointer;\n",
              "      display: none;\n",
              "      fill: #1967D2;\n",
              "      height: 32px;\n",
              "      padding: 0 0 0 0;\n",
              "      width: 32px;\n",
              "    }\n",
              "\n",
              "    .colab-df-convert:hover {\n",
              "      background-color: #E2EBFA;\n",
              "      box-shadow: 0px 1px 2px rgba(60, 64, 67, 0.3), 0px 1px 3px 1px rgba(60, 64, 67, 0.15);\n",
              "      fill: #174EA6;\n",
              "    }\n",
              "\n",
              "    [theme=dark] .colab-df-convert {\n",
              "      background-color: #3B4455;\n",
              "      fill: #D2E3FC;\n",
              "    }\n",
              "\n",
              "    [theme=dark] .colab-df-convert:hover {\n",
              "      background-color: #434B5C;\n",
              "      box-shadow: 0px 1px 3px 1px rgba(0, 0, 0, 0.15);\n",
              "      filter: drop-shadow(0px 1px 2px rgba(0, 0, 0, 0.3));\n",
              "      fill: #FFFFFF;\n",
              "    }\n",
              "  </style>\n",
              "\n",
              "      <script>\n",
              "        const buttonEl =\n",
              "          document.querySelector('#df-233bb01d-912a-4cc4-b04d-0e2be38a78a5 button.colab-df-convert');\n",
              "        buttonEl.style.display =\n",
              "          google.colab.kernel.accessAllowed ? 'block' : 'none';\n",
              "\n",
              "        async function convertToInteractive(key) {\n",
              "          const element = document.querySelector('#df-233bb01d-912a-4cc4-b04d-0e2be38a78a5');\n",
              "          const dataTable =\n",
              "            await google.colab.kernel.invokeFunction('convertToInteractive',\n",
              "                                                     [key], {});\n",
              "          if (!dataTable) return;\n",
              "\n",
              "          const docLinkHtml = 'Like what you see? Visit the ' +\n",
              "            '<a target=\"_blank\" href=https://colab.research.google.com/notebooks/data_table.ipynb>data table notebook</a>'\n",
              "            + ' to learn more about interactive tables.';\n",
              "          element.innerHTML = '';\n",
              "          dataTable['output_type'] = 'display_data';\n",
              "          await google.colab.output.renderOutput(dataTable, element);\n",
              "          const docLink = document.createElement('div');\n",
              "          docLink.innerHTML = docLinkHtml;\n",
              "          element.appendChild(docLink);\n",
              "        }\n",
              "      </script>\n",
              "    </div>\n",
              "  </div>\n",
              "  "
            ]
          },
          "metadata": {},
          "execution_count": 783
        }
      ]
    },
    {
      "cell_type": "code",
      "source": [
        "brand_test = []\n",
        "for i in range(len(test_final)):\n",
        "    review = re.sub(r'Land Rover', 'Land-Rover', test_final['title'][i])\n",
        "    brand_test.append(review)\n",
        "\n",
        "test_final['title'] = brand_test\n",
        "test_final.head()"
      ],
      "metadata": {
        "colab": {
          "base_uri": "https://localhost:8080/",
          "height": 206
        },
        "id": "dIoSMyKdPoB3",
        "outputId": "a8db57c6-3bf5-4783-f969-7f1943e8dbb8"
      },
      "execution_count": 784,
      "outputs": [
        {
          "output_type": "execute_result",
          "data": {
            "text/plain": [
              "   id                title  odometer location engine  paint  year  diesel  \\\n",
              "0   0  Mercedes-Benz C 300      1234    abuja     I4  white  2017       0   \n",
              "1   1         Honda Accord     29938    abuja     I4  white  2013       0   \n",
              "2   2  Mercedes-Benz S 550     87501    lagos     V6  black  2012       0   \n",
              "3   3        Toyota Sienna    180894    lagos     I4   grey  2001       0   \n",
              "4   4         Toyota Hiace    104814    lagos     I4  white  2000       0   \n",
              "\n",
              "   petrol  automatic  manual  foreign used  locally used  new  \n",
              "0       1          1       0             0             0    1  \n",
              "1       1          1       0             1             0    0  \n",
              "2       1          1       0             1             0    0  \n",
              "3       1          1       0             0             1    0  \n",
              "4       1          1       0             1             0    0  "
            ],
            "text/html": [
              "\n",
              "  <div id=\"df-05c15657-e7af-4ebd-af7a-7a29eb55e4e1\">\n",
              "    <div class=\"colab-df-container\">\n",
              "      <div>\n",
              "<style scoped>\n",
              "    .dataframe tbody tr th:only-of-type {\n",
              "        vertical-align: middle;\n",
              "    }\n",
              "\n",
              "    .dataframe tbody tr th {\n",
              "        vertical-align: top;\n",
              "    }\n",
              "\n",
              "    .dataframe thead th {\n",
              "        text-align: right;\n",
              "    }\n",
              "</style>\n",
              "<table border=\"1\" class=\"dataframe\">\n",
              "  <thead>\n",
              "    <tr style=\"text-align: right;\">\n",
              "      <th></th>\n",
              "      <th>id</th>\n",
              "      <th>title</th>\n",
              "      <th>odometer</th>\n",
              "      <th>location</th>\n",
              "      <th>engine</th>\n",
              "      <th>paint</th>\n",
              "      <th>year</th>\n",
              "      <th>diesel</th>\n",
              "      <th>petrol</th>\n",
              "      <th>automatic</th>\n",
              "      <th>manual</th>\n",
              "      <th>foreign used</th>\n",
              "      <th>locally used</th>\n",
              "      <th>new</th>\n",
              "    </tr>\n",
              "  </thead>\n",
              "  <tbody>\n",
              "    <tr>\n",
              "      <th>0</th>\n",
              "      <td>0</td>\n",
              "      <td>Mercedes-Benz C 300</td>\n",
              "      <td>1234</td>\n",
              "      <td>abuja</td>\n",
              "      <td>I4</td>\n",
              "      <td>white</td>\n",
              "      <td>2017</td>\n",
              "      <td>0</td>\n",
              "      <td>1</td>\n",
              "      <td>1</td>\n",
              "      <td>0</td>\n",
              "      <td>0</td>\n",
              "      <td>0</td>\n",
              "      <td>1</td>\n",
              "    </tr>\n",
              "    <tr>\n",
              "      <th>1</th>\n",
              "      <td>1</td>\n",
              "      <td>Honda Accord</td>\n",
              "      <td>29938</td>\n",
              "      <td>abuja</td>\n",
              "      <td>I4</td>\n",
              "      <td>white</td>\n",
              "      <td>2013</td>\n",
              "      <td>0</td>\n",
              "      <td>1</td>\n",
              "      <td>1</td>\n",
              "      <td>0</td>\n",
              "      <td>1</td>\n",
              "      <td>0</td>\n",
              "      <td>0</td>\n",
              "    </tr>\n",
              "    <tr>\n",
              "      <th>2</th>\n",
              "      <td>2</td>\n",
              "      <td>Mercedes-Benz S 550</td>\n",
              "      <td>87501</td>\n",
              "      <td>lagos</td>\n",
              "      <td>V6</td>\n",
              "      <td>black</td>\n",
              "      <td>2012</td>\n",
              "      <td>0</td>\n",
              "      <td>1</td>\n",
              "      <td>1</td>\n",
              "      <td>0</td>\n",
              "      <td>1</td>\n",
              "      <td>0</td>\n",
              "      <td>0</td>\n",
              "    </tr>\n",
              "    <tr>\n",
              "      <th>3</th>\n",
              "      <td>3</td>\n",
              "      <td>Toyota Sienna</td>\n",
              "      <td>180894</td>\n",
              "      <td>lagos</td>\n",
              "      <td>I4</td>\n",
              "      <td>grey</td>\n",
              "      <td>2001</td>\n",
              "      <td>0</td>\n",
              "      <td>1</td>\n",
              "      <td>1</td>\n",
              "      <td>0</td>\n",
              "      <td>0</td>\n",
              "      <td>1</td>\n",
              "      <td>0</td>\n",
              "    </tr>\n",
              "    <tr>\n",
              "      <th>4</th>\n",
              "      <td>4</td>\n",
              "      <td>Toyota Hiace</td>\n",
              "      <td>104814</td>\n",
              "      <td>lagos</td>\n",
              "      <td>I4</td>\n",
              "      <td>white</td>\n",
              "      <td>2000</td>\n",
              "      <td>0</td>\n",
              "      <td>1</td>\n",
              "      <td>1</td>\n",
              "      <td>0</td>\n",
              "      <td>1</td>\n",
              "      <td>0</td>\n",
              "      <td>0</td>\n",
              "    </tr>\n",
              "  </tbody>\n",
              "</table>\n",
              "</div>\n",
              "      <button class=\"colab-df-convert\" onclick=\"convertToInteractive('df-05c15657-e7af-4ebd-af7a-7a29eb55e4e1')\"\n",
              "              title=\"Convert this dataframe to an interactive table.\"\n",
              "              style=\"display:none;\">\n",
              "        \n",
              "  <svg xmlns=\"http://www.w3.org/2000/svg\" height=\"24px\"viewBox=\"0 0 24 24\"\n",
              "       width=\"24px\">\n",
              "    <path d=\"M0 0h24v24H0V0z\" fill=\"none\"/>\n",
              "    <path d=\"M18.56 5.44l.94 2.06.94-2.06 2.06-.94-2.06-.94-.94-2.06-.94 2.06-2.06.94zm-11 1L8.5 8.5l.94-2.06 2.06-.94-2.06-.94L8.5 2.5l-.94 2.06-2.06.94zm10 10l.94 2.06.94-2.06 2.06-.94-2.06-.94-.94-2.06-.94 2.06-2.06.94z\"/><path d=\"M17.41 7.96l-1.37-1.37c-.4-.4-.92-.59-1.43-.59-.52 0-1.04.2-1.43.59L10.3 9.45l-7.72 7.72c-.78.78-.78 2.05 0 2.83L4 21.41c.39.39.9.59 1.41.59.51 0 1.02-.2 1.41-.59l7.78-7.78 2.81-2.81c.8-.78.8-2.07 0-2.86zM5.41 20L4 18.59l7.72-7.72 1.47 1.35L5.41 20z\"/>\n",
              "  </svg>\n",
              "      </button>\n",
              "      \n",
              "  <style>\n",
              "    .colab-df-container {\n",
              "      display:flex;\n",
              "      flex-wrap:wrap;\n",
              "      gap: 12px;\n",
              "    }\n",
              "\n",
              "    .colab-df-convert {\n",
              "      background-color: #E8F0FE;\n",
              "      border: none;\n",
              "      border-radius: 50%;\n",
              "      cursor: pointer;\n",
              "      display: none;\n",
              "      fill: #1967D2;\n",
              "      height: 32px;\n",
              "      padding: 0 0 0 0;\n",
              "      width: 32px;\n",
              "    }\n",
              "\n",
              "    .colab-df-convert:hover {\n",
              "      background-color: #E2EBFA;\n",
              "      box-shadow: 0px 1px 2px rgba(60, 64, 67, 0.3), 0px 1px 3px 1px rgba(60, 64, 67, 0.15);\n",
              "      fill: #174EA6;\n",
              "    }\n",
              "\n",
              "    [theme=dark] .colab-df-convert {\n",
              "      background-color: #3B4455;\n",
              "      fill: #D2E3FC;\n",
              "    }\n",
              "\n",
              "    [theme=dark] .colab-df-convert:hover {\n",
              "      background-color: #434B5C;\n",
              "      box-shadow: 0px 1px 3px 1px rgba(0, 0, 0, 0.15);\n",
              "      filter: drop-shadow(0px 1px 2px rgba(0, 0, 0, 0.3));\n",
              "      fill: #FFFFFF;\n",
              "    }\n",
              "  </style>\n",
              "\n",
              "      <script>\n",
              "        const buttonEl =\n",
              "          document.querySelector('#df-05c15657-e7af-4ebd-af7a-7a29eb55e4e1 button.colab-df-convert');\n",
              "        buttonEl.style.display =\n",
              "          google.colab.kernel.accessAllowed ? 'block' : 'none';\n",
              "\n",
              "        async function convertToInteractive(key) {\n",
              "          const element = document.querySelector('#df-05c15657-e7af-4ebd-af7a-7a29eb55e4e1');\n",
              "          const dataTable =\n",
              "            await google.colab.kernel.invokeFunction('convertToInteractive',\n",
              "                                                     [key], {});\n",
              "          if (!dataTable) return;\n",
              "\n",
              "          const docLinkHtml = 'Like what you see? Visit the ' +\n",
              "            '<a target=\"_blank\" href=https://colab.research.google.com/notebooks/data_table.ipynb>data table notebook</a>'\n",
              "            + ' to learn more about interactive tables.';\n",
              "          element.innerHTML = '';\n",
              "          dataTable['output_type'] = 'display_data';\n",
              "          await google.colab.output.renderOutput(dataTable, element);\n",
              "          const docLink = document.createElement('div');\n",
              "          docLink.innerHTML = docLinkHtml;\n",
              "          element.appendChild(docLink);\n",
              "        }\n",
              "      </script>\n",
              "    </div>\n",
              "  </div>\n",
              "  "
            ]
          },
          "metadata": {},
          "execution_count": 784
        }
      ]
    },
    {
      "cell_type": "code",
      "source": [
        "X['title'].apply(lambda x : x.split(\" \")[0])\n",
        "X['brand'] = X['title'].apply(lambda x : x.split(\" \")[0])\n",
        "X.head()"
      ],
      "metadata": {
        "colab": {
          "base_uri": "https://localhost:8080/",
          "height": 206
        },
        "id": "QFwkGLtZMJVo",
        "outputId": "d7cf5c6e-2c10-4d19-903d-be6ed473b9e8"
      },
      "execution_count": 785,
      "outputs": [
        {
          "output_type": "execute_result",
          "data": {
            "text/plain": [
              "   id                          title  odometer location engine  paint  year  \\\n",
              "0   0                   Toyota RAV 4     18277    lagos     I4    red  2016   \n",
              "1   1            Toyota Land Cruiser        10    lagos     I4  black  2019   \n",
              "2   2  Land-Rover Range Rover Evoque     83091    lagos     V6    red  2012   \n",
              "3   3                   Lexus ES 350     91524    lagos     I4   grey  2007   \n",
              "4   4                   Toyota Venza     94177    lagos     V6    red  2010   \n",
              "\n",
              "     target  diesel  petrol  automatic  manual  foreign used  locally used  \\\n",
              "0  13665000       0       1          1       0             1             0   \n",
              "1  33015000       0       1          1       0             0             0   \n",
              "2   9915000       0       1          1       0             1             0   \n",
              "3   3815000       0       1          1       0             1             0   \n",
              "4   7385000       0       1          1       0             1             0   \n",
              "\n",
              "   new       brand  \n",
              "0    0      Toyota  \n",
              "1    1      Toyota  \n",
              "2    0  Land-Rover  \n",
              "3    0       Lexus  \n",
              "4    0      Toyota  "
            ],
            "text/html": [
              "\n",
              "  <div id=\"df-5a792f95-4072-41a9-80b7-8a03127e086c\">\n",
              "    <div class=\"colab-df-container\">\n",
              "      <div>\n",
              "<style scoped>\n",
              "    .dataframe tbody tr th:only-of-type {\n",
              "        vertical-align: middle;\n",
              "    }\n",
              "\n",
              "    .dataframe tbody tr th {\n",
              "        vertical-align: top;\n",
              "    }\n",
              "\n",
              "    .dataframe thead th {\n",
              "        text-align: right;\n",
              "    }\n",
              "</style>\n",
              "<table border=\"1\" class=\"dataframe\">\n",
              "  <thead>\n",
              "    <tr style=\"text-align: right;\">\n",
              "      <th></th>\n",
              "      <th>id</th>\n",
              "      <th>title</th>\n",
              "      <th>odometer</th>\n",
              "      <th>location</th>\n",
              "      <th>engine</th>\n",
              "      <th>paint</th>\n",
              "      <th>year</th>\n",
              "      <th>target</th>\n",
              "      <th>diesel</th>\n",
              "      <th>petrol</th>\n",
              "      <th>automatic</th>\n",
              "      <th>manual</th>\n",
              "      <th>foreign used</th>\n",
              "      <th>locally used</th>\n",
              "      <th>new</th>\n",
              "      <th>brand</th>\n",
              "    </tr>\n",
              "  </thead>\n",
              "  <tbody>\n",
              "    <tr>\n",
              "      <th>0</th>\n",
              "      <td>0</td>\n",
              "      <td>Toyota RAV 4</td>\n",
              "      <td>18277</td>\n",
              "      <td>lagos</td>\n",
              "      <td>I4</td>\n",
              "      <td>red</td>\n",
              "      <td>2016</td>\n",
              "      <td>13665000</td>\n",
              "      <td>0</td>\n",
              "      <td>1</td>\n",
              "      <td>1</td>\n",
              "      <td>0</td>\n",
              "      <td>1</td>\n",
              "      <td>0</td>\n",
              "      <td>0</td>\n",
              "      <td>Toyota</td>\n",
              "    </tr>\n",
              "    <tr>\n",
              "      <th>1</th>\n",
              "      <td>1</td>\n",
              "      <td>Toyota Land Cruiser</td>\n",
              "      <td>10</td>\n",
              "      <td>lagos</td>\n",
              "      <td>I4</td>\n",
              "      <td>black</td>\n",
              "      <td>2019</td>\n",
              "      <td>33015000</td>\n",
              "      <td>0</td>\n",
              "      <td>1</td>\n",
              "      <td>1</td>\n",
              "      <td>0</td>\n",
              "      <td>0</td>\n",
              "      <td>0</td>\n",
              "      <td>1</td>\n",
              "      <td>Toyota</td>\n",
              "    </tr>\n",
              "    <tr>\n",
              "      <th>2</th>\n",
              "      <td>2</td>\n",
              "      <td>Land-Rover Range Rover Evoque</td>\n",
              "      <td>83091</td>\n",
              "      <td>lagos</td>\n",
              "      <td>V6</td>\n",
              "      <td>red</td>\n",
              "      <td>2012</td>\n",
              "      <td>9915000</td>\n",
              "      <td>0</td>\n",
              "      <td>1</td>\n",
              "      <td>1</td>\n",
              "      <td>0</td>\n",
              "      <td>1</td>\n",
              "      <td>0</td>\n",
              "      <td>0</td>\n",
              "      <td>Land-Rover</td>\n",
              "    </tr>\n",
              "    <tr>\n",
              "      <th>3</th>\n",
              "      <td>3</td>\n",
              "      <td>Lexus ES 350</td>\n",
              "      <td>91524</td>\n",
              "      <td>lagos</td>\n",
              "      <td>I4</td>\n",
              "      <td>grey</td>\n",
              "      <td>2007</td>\n",
              "      <td>3815000</td>\n",
              "      <td>0</td>\n",
              "      <td>1</td>\n",
              "      <td>1</td>\n",
              "      <td>0</td>\n",
              "      <td>1</td>\n",
              "      <td>0</td>\n",
              "      <td>0</td>\n",
              "      <td>Lexus</td>\n",
              "    </tr>\n",
              "    <tr>\n",
              "      <th>4</th>\n",
              "      <td>4</td>\n",
              "      <td>Toyota Venza</td>\n",
              "      <td>94177</td>\n",
              "      <td>lagos</td>\n",
              "      <td>V6</td>\n",
              "      <td>red</td>\n",
              "      <td>2010</td>\n",
              "      <td>7385000</td>\n",
              "      <td>0</td>\n",
              "      <td>1</td>\n",
              "      <td>1</td>\n",
              "      <td>0</td>\n",
              "      <td>1</td>\n",
              "      <td>0</td>\n",
              "      <td>0</td>\n",
              "      <td>Toyota</td>\n",
              "    </tr>\n",
              "  </tbody>\n",
              "</table>\n",
              "</div>\n",
              "      <button class=\"colab-df-convert\" onclick=\"convertToInteractive('df-5a792f95-4072-41a9-80b7-8a03127e086c')\"\n",
              "              title=\"Convert this dataframe to an interactive table.\"\n",
              "              style=\"display:none;\">\n",
              "        \n",
              "  <svg xmlns=\"http://www.w3.org/2000/svg\" height=\"24px\"viewBox=\"0 0 24 24\"\n",
              "       width=\"24px\">\n",
              "    <path d=\"M0 0h24v24H0V0z\" fill=\"none\"/>\n",
              "    <path d=\"M18.56 5.44l.94 2.06.94-2.06 2.06-.94-2.06-.94-.94-2.06-.94 2.06-2.06.94zm-11 1L8.5 8.5l.94-2.06 2.06-.94-2.06-.94L8.5 2.5l-.94 2.06-2.06.94zm10 10l.94 2.06.94-2.06 2.06-.94-2.06-.94-.94-2.06-.94 2.06-2.06.94z\"/><path d=\"M17.41 7.96l-1.37-1.37c-.4-.4-.92-.59-1.43-.59-.52 0-1.04.2-1.43.59L10.3 9.45l-7.72 7.72c-.78.78-.78 2.05 0 2.83L4 21.41c.39.39.9.59 1.41.59.51 0 1.02-.2 1.41-.59l7.78-7.78 2.81-2.81c.8-.78.8-2.07 0-2.86zM5.41 20L4 18.59l7.72-7.72 1.47 1.35L5.41 20z\"/>\n",
              "  </svg>\n",
              "      </button>\n",
              "      \n",
              "  <style>\n",
              "    .colab-df-container {\n",
              "      display:flex;\n",
              "      flex-wrap:wrap;\n",
              "      gap: 12px;\n",
              "    }\n",
              "\n",
              "    .colab-df-convert {\n",
              "      background-color: #E8F0FE;\n",
              "      border: none;\n",
              "      border-radius: 50%;\n",
              "      cursor: pointer;\n",
              "      display: none;\n",
              "      fill: #1967D2;\n",
              "      height: 32px;\n",
              "      padding: 0 0 0 0;\n",
              "      width: 32px;\n",
              "    }\n",
              "\n",
              "    .colab-df-convert:hover {\n",
              "      background-color: #E2EBFA;\n",
              "      box-shadow: 0px 1px 2px rgba(60, 64, 67, 0.3), 0px 1px 3px 1px rgba(60, 64, 67, 0.15);\n",
              "      fill: #174EA6;\n",
              "    }\n",
              "\n",
              "    [theme=dark] .colab-df-convert {\n",
              "      background-color: #3B4455;\n",
              "      fill: #D2E3FC;\n",
              "    }\n",
              "\n",
              "    [theme=dark] .colab-df-convert:hover {\n",
              "      background-color: #434B5C;\n",
              "      box-shadow: 0px 1px 3px 1px rgba(0, 0, 0, 0.15);\n",
              "      filter: drop-shadow(0px 1px 2px rgba(0, 0, 0, 0.3));\n",
              "      fill: #FFFFFF;\n",
              "    }\n",
              "  </style>\n",
              "\n",
              "      <script>\n",
              "        const buttonEl =\n",
              "          document.querySelector('#df-5a792f95-4072-41a9-80b7-8a03127e086c button.colab-df-convert');\n",
              "        buttonEl.style.display =\n",
              "          google.colab.kernel.accessAllowed ? 'block' : 'none';\n",
              "\n",
              "        async function convertToInteractive(key) {\n",
              "          const element = document.querySelector('#df-5a792f95-4072-41a9-80b7-8a03127e086c');\n",
              "          const dataTable =\n",
              "            await google.colab.kernel.invokeFunction('convertToInteractive',\n",
              "                                                     [key], {});\n",
              "          if (!dataTable) return;\n",
              "\n",
              "          const docLinkHtml = 'Like what you see? Visit the ' +\n",
              "            '<a target=\"_blank\" href=https://colab.research.google.com/notebooks/data_table.ipynb>data table notebook</a>'\n",
              "            + ' to learn more about interactive tables.';\n",
              "          element.innerHTML = '';\n",
              "          dataTable['output_type'] = 'display_data';\n",
              "          await google.colab.output.renderOutput(dataTable, element);\n",
              "          const docLink = document.createElement('div');\n",
              "          docLink.innerHTML = docLinkHtml;\n",
              "          element.appendChild(docLink);\n",
              "        }\n",
              "      </script>\n",
              "    </div>\n",
              "  </div>\n",
              "  "
            ]
          },
          "metadata": {},
          "execution_count": 785
        }
      ]
    },
    {
      "cell_type": "code",
      "source": [
        "test_final['title'].apply(lambda x : x.split(\" \")[0])\n",
        "test_final['brand'] = test_final['title'].apply(lambda x : x.split(\" \")[0])\n",
        "test_final.head()"
      ],
      "metadata": {
        "colab": {
          "base_uri": "https://localhost:8080/",
          "height": 206
        },
        "id": "t_UbmxDBP6BQ",
        "outputId": "fe5277d0-6c17-4629-9bab-9f1f21eaefed"
      },
      "execution_count": 786,
      "outputs": [
        {
          "output_type": "execute_result",
          "data": {
            "text/plain": [
              "   id                title  odometer location engine  paint  year  diesel  \\\n",
              "0   0  Mercedes-Benz C 300      1234    abuja     I4  white  2017       0   \n",
              "1   1         Honda Accord     29938    abuja     I4  white  2013       0   \n",
              "2   2  Mercedes-Benz S 550     87501    lagos     V6  black  2012       0   \n",
              "3   3        Toyota Sienna    180894    lagos     I4   grey  2001       0   \n",
              "4   4         Toyota Hiace    104814    lagos     I4  white  2000       0   \n",
              "\n",
              "   petrol  automatic  manual  foreign used  locally used  new          brand  \n",
              "0       1          1       0             0             0    1  Mercedes-Benz  \n",
              "1       1          1       0             1             0    0          Honda  \n",
              "2       1          1       0             1             0    0  Mercedes-Benz  \n",
              "3       1          1       0             0             1    0         Toyota  \n",
              "4       1          1       0             1             0    0         Toyota  "
            ],
            "text/html": [
              "\n",
              "  <div id=\"df-07786c6f-62f8-4051-af74-b3de3c3c3408\">\n",
              "    <div class=\"colab-df-container\">\n",
              "      <div>\n",
              "<style scoped>\n",
              "    .dataframe tbody tr th:only-of-type {\n",
              "        vertical-align: middle;\n",
              "    }\n",
              "\n",
              "    .dataframe tbody tr th {\n",
              "        vertical-align: top;\n",
              "    }\n",
              "\n",
              "    .dataframe thead th {\n",
              "        text-align: right;\n",
              "    }\n",
              "</style>\n",
              "<table border=\"1\" class=\"dataframe\">\n",
              "  <thead>\n",
              "    <tr style=\"text-align: right;\">\n",
              "      <th></th>\n",
              "      <th>id</th>\n",
              "      <th>title</th>\n",
              "      <th>odometer</th>\n",
              "      <th>location</th>\n",
              "      <th>engine</th>\n",
              "      <th>paint</th>\n",
              "      <th>year</th>\n",
              "      <th>diesel</th>\n",
              "      <th>petrol</th>\n",
              "      <th>automatic</th>\n",
              "      <th>manual</th>\n",
              "      <th>foreign used</th>\n",
              "      <th>locally used</th>\n",
              "      <th>new</th>\n",
              "      <th>brand</th>\n",
              "    </tr>\n",
              "  </thead>\n",
              "  <tbody>\n",
              "    <tr>\n",
              "      <th>0</th>\n",
              "      <td>0</td>\n",
              "      <td>Mercedes-Benz C 300</td>\n",
              "      <td>1234</td>\n",
              "      <td>abuja</td>\n",
              "      <td>I4</td>\n",
              "      <td>white</td>\n",
              "      <td>2017</td>\n",
              "      <td>0</td>\n",
              "      <td>1</td>\n",
              "      <td>1</td>\n",
              "      <td>0</td>\n",
              "      <td>0</td>\n",
              "      <td>0</td>\n",
              "      <td>1</td>\n",
              "      <td>Mercedes-Benz</td>\n",
              "    </tr>\n",
              "    <tr>\n",
              "      <th>1</th>\n",
              "      <td>1</td>\n",
              "      <td>Honda Accord</td>\n",
              "      <td>29938</td>\n",
              "      <td>abuja</td>\n",
              "      <td>I4</td>\n",
              "      <td>white</td>\n",
              "      <td>2013</td>\n",
              "      <td>0</td>\n",
              "      <td>1</td>\n",
              "      <td>1</td>\n",
              "      <td>0</td>\n",
              "      <td>1</td>\n",
              "      <td>0</td>\n",
              "      <td>0</td>\n",
              "      <td>Honda</td>\n",
              "    </tr>\n",
              "    <tr>\n",
              "      <th>2</th>\n",
              "      <td>2</td>\n",
              "      <td>Mercedes-Benz S 550</td>\n",
              "      <td>87501</td>\n",
              "      <td>lagos</td>\n",
              "      <td>V6</td>\n",
              "      <td>black</td>\n",
              "      <td>2012</td>\n",
              "      <td>0</td>\n",
              "      <td>1</td>\n",
              "      <td>1</td>\n",
              "      <td>0</td>\n",
              "      <td>1</td>\n",
              "      <td>0</td>\n",
              "      <td>0</td>\n",
              "      <td>Mercedes-Benz</td>\n",
              "    </tr>\n",
              "    <tr>\n",
              "      <th>3</th>\n",
              "      <td>3</td>\n",
              "      <td>Toyota Sienna</td>\n",
              "      <td>180894</td>\n",
              "      <td>lagos</td>\n",
              "      <td>I4</td>\n",
              "      <td>grey</td>\n",
              "      <td>2001</td>\n",
              "      <td>0</td>\n",
              "      <td>1</td>\n",
              "      <td>1</td>\n",
              "      <td>0</td>\n",
              "      <td>0</td>\n",
              "      <td>1</td>\n",
              "      <td>0</td>\n",
              "      <td>Toyota</td>\n",
              "    </tr>\n",
              "    <tr>\n",
              "      <th>4</th>\n",
              "      <td>4</td>\n",
              "      <td>Toyota Hiace</td>\n",
              "      <td>104814</td>\n",
              "      <td>lagos</td>\n",
              "      <td>I4</td>\n",
              "      <td>white</td>\n",
              "      <td>2000</td>\n",
              "      <td>0</td>\n",
              "      <td>1</td>\n",
              "      <td>1</td>\n",
              "      <td>0</td>\n",
              "      <td>1</td>\n",
              "      <td>0</td>\n",
              "      <td>0</td>\n",
              "      <td>Toyota</td>\n",
              "    </tr>\n",
              "  </tbody>\n",
              "</table>\n",
              "</div>\n",
              "      <button class=\"colab-df-convert\" onclick=\"convertToInteractive('df-07786c6f-62f8-4051-af74-b3de3c3c3408')\"\n",
              "              title=\"Convert this dataframe to an interactive table.\"\n",
              "              style=\"display:none;\">\n",
              "        \n",
              "  <svg xmlns=\"http://www.w3.org/2000/svg\" height=\"24px\"viewBox=\"0 0 24 24\"\n",
              "       width=\"24px\">\n",
              "    <path d=\"M0 0h24v24H0V0z\" fill=\"none\"/>\n",
              "    <path d=\"M18.56 5.44l.94 2.06.94-2.06 2.06-.94-2.06-.94-.94-2.06-.94 2.06-2.06.94zm-11 1L8.5 8.5l.94-2.06 2.06-.94-2.06-.94L8.5 2.5l-.94 2.06-2.06.94zm10 10l.94 2.06.94-2.06 2.06-.94-2.06-.94-.94-2.06-.94 2.06-2.06.94z\"/><path d=\"M17.41 7.96l-1.37-1.37c-.4-.4-.92-.59-1.43-.59-.52 0-1.04.2-1.43.59L10.3 9.45l-7.72 7.72c-.78.78-.78 2.05 0 2.83L4 21.41c.39.39.9.59 1.41.59.51 0 1.02-.2 1.41-.59l7.78-7.78 2.81-2.81c.8-.78.8-2.07 0-2.86zM5.41 20L4 18.59l7.72-7.72 1.47 1.35L5.41 20z\"/>\n",
              "  </svg>\n",
              "      </button>\n",
              "      \n",
              "  <style>\n",
              "    .colab-df-container {\n",
              "      display:flex;\n",
              "      flex-wrap:wrap;\n",
              "      gap: 12px;\n",
              "    }\n",
              "\n",
              "    .colab-df-convert {\n",
              "      background-color: #E8F0FE;\n",
              "      border: none;\n",
              "      border-radius: 50%;\n",
              "      cursor: pointer;\n",
              "      display: none;\n",
              "      fill: #1967D2;\n",
              "      height: 32px;\n",
              "      padding: 0 0 0 0;\n",
              "      width: 32px;\n",
              "    }\n",
              "\n",
              "    .colab-df-convert:hover {\n",
              "      background-color: #E2EBFA;\n",
              "      box-shadow: 0px 1px 2px rgba(60, 64, 67, 0.3), 0px 1px 3px 1px rgba(60, 64, 67, 0.15);\n",
              "      fill: #174EA6;\n",
              "    }\n",
              "\n",
              "    [theme=dark] .colab-df-convert {\n",
              "      background-color: #3B4455;\n",
              "      fill: #D2E3FC;\n",
              "    }\n",
              "\n",
              "    [theme=dark] .colab-df-convert:hover {\n",
              "      background-color: #434B5C;\n",
              "      box-shadow: 0px 1px 3px 1px rgba(0, 0, 0, 0.15);\n",
              "      filter: drop-shadow(0px 1px 2px rgba(0, 0, 0, 0.3));\n",
              "      fill: #FFFFFF;\n",
              "    }\n",
              "  </style>\n",
              "\n",
              "      <script>\n",
              "        const buttonEl =\n",
              "          document.querySelector('#df-07786c6f-62f8-4051-af74-b3de3c3c3408 button.colab-df-convert');\n",
              "        buttonEl.style.display =\n",
              "          google.colab.kernel.accessAllowed ? 'block' : 'none';\n",
              "\n",
              "        async function convertToInteractive(key) {\n",
              "          const element = document.querySelector('#df-07786c6f-62f8-4051-af74-b3de3c3c3408');\n",
              "          const dataTable =\n",
              "            await google.colab.kernel.invokeFunction('convertToInteractive',\n",
              "                                                     [key], {});\n",
              "          if (!dataTable) return;\n",
              "\n",
              "          const docLinkHtml = 'Like what you see? Visit the ' +\n",
              "            '<a target=\"_blank\" href=https://colab.research.google.com/notebooks/data_table.ipynb>data table notebook</a>'\n",
              "            + ' to learn more about interactive tables.';\n",
              "          element.innerHTML = '';\n",
              "          dataTable['output_type'] = 'display_data';\n",
              "          await google.colab.output.renderOutput(dataTable, element);\n",
              "          const docLink = document.createElement('div');\n",
              "          docLink.innerHTML = docLinkHtml;\n",
              "          element.appendChild(docLink);\n",
              "        }\n",
              "      </script>\n",
              "    </div>\n",
              "  </div>\n",
              "  "
            ]
          },
          "metadata": {},
          "execution_count": 786
        }
      ]
    },
    {
      "cell_type": "code",
      "source": [
        "X['brand'].unique()"
      ],
      "metadata": {
        "colab": {
          "base_uri": "https://localhost:8080/"
        },
        "id": "lJuJA7Y4NfQ7",
        "outputId": "13baa0fa-7ca2-47ce-d33c-8047fe9fc545"
      },
      "execution_count": 787,
      "outputs": [
        {
          "output_type": "execute_result",
          "data": {
            "text/plain": [
              "array(['Toyota', 'Land-Rover', 'Lexus', 'Pontiac', 'Ford', 'Honda',\n",
              "       'Volvo', 'BMW', 'Infiniti', 'Mercedes-Benz', 'Hyundai', 'Jaguar',\n",
              "       'Mitsubishi', 'Nissan', 'Mack', 'Chevrolet', 'Mazda', 'Lincoln',\n",
              "       'Kia', 'Volkswagen', 'Acura', 'DAF', 'Man', 'Isuzu', 'IVM',\n",
              "       'Porsche', 'MINI', 'Dodge', 'GMC', 'Iveco', 'Scania', 'GAC',\n",
              "       'IVECO', 'Peugeot', 'Rolls-Royce', 'MAN-VOLKSWAGEN', 'Jeep',\n",
              "       'ALPINA', 'Bentley', 'JMC', 'Audi'], dtype=object)"
            ]
          },
          "metadata": {},
          "execution_count": 787
        }
      ]
    },
    {
      "cell_type": "code",
      "source": [
        "test_final['brand'].unique()"
      ],
      "metadata": {
        "colab": {
          "base_uri": "https://localhost:8080/"
        },
        "id": "nJET2aKaP-JD",
        "outputId": "dd2aee10-94c1-49b8-9c32-5dcc1ecde105"
      },
      "execution_count": 788,
      "outputs": [
        {
          "output_type": "execute_result",
          "data": {
            "text/plain": [
              "array(['Mercedes-Benz', 'Honda', 'Toyota', 'Iveco', 'Lexus', 'Nissan',\n",
              "       'Volkswagen', 'Jeep', 'Ford', 'BMW', 'Mack', 'Land-Rover',\n",
              "       'Hyundai', 'Peugeot', 'Volvo', 'Infiniti', 'Acura', 'Man', 'Fiat',\n",
              "       'MINI', 'DAF', 'Mazda', 'Porsche', 'Mitsubishi', 'Chevrolet',\n",
              "       'Kia', 'Pontiac', 'Rolls-Royce'], dtype=object)"
            ]
          },
          "metadata": {},
          "execution_count": 788
        }
      ]
    },
    {
      "cell_type": "markdown",
      "source": [
        "마찬가지로 차종 컬럼도 생성합니다."
      ],
      "metadata": {
        "id": "bySt4GHkNpG7"
      }
    },
    {
      "cell_type": "code",
      "source": [
        "veh_info = X['brand']\n",
        "X['veh_type'] = X['title']\n",
        "\n",
        "for i in range(len(X)):\n",
        "    pattern = veh_info[i]\n",
        "    X['veh_type'][i] = X['title'][i].split(pattern)[1]\n",
        "\n",
        "X.head()"
      ],
      "metadata": {
        "colab": {
          "base_uri": "https://localhost:8080/",
          "height": 293
        },
        "id": "cGp8qOddNEN6",
        "outputId": "ab784ac4-c349-42b3-c78f-27a113bae7cb"
      },
      "execution_count": 789,
      "outputs": [
        {
          "output_type": "stream",
          "name": "stderr",
          "text": [
            "/usr/local/lib/python3.7/dist-packages/ipykernel_launcher.py:6: SettingWithCopyWarning: \n",
            "A value is trying to be set on a copy of a slice from a DataFrame\n",
            "\n",
            "See the caveats in the documentation: https://pandas.pydata.org/pandas-docs/stable/user_guide/indexing.html#returning-a-view-versus-a-copy\n",
            "  \n"
          ]
        },
        {
          "output_type": "execute_result",
          "data": {
            "text/plain": [
              "   id                          title  odometer location engine  paint  year  \\\n",
              "0   0                   Toyota RAV 4     18277    lagos     I4    red  2016   \n",
              "1   1            Toyota Land Cruiser        10    lagos     I4  black  2019   \n",
              "2   2  Land-Rover Range Rover Evoque     83091    lagos     V6    red  2012   \n",
              "3   3                   Lexus ES 350     91524    lagos     I4   grey  2007   \n",
              "4   4                   Toyota Venza     94177    lagos     V6    red  2010   \n",
              "\n",
              "     target  diesel  petrol  automatic  manual  foreign used  locally used  \\\n",
              "0  13665000       0       1          1       0             1             0   \n",
              "1  33015000       0       1          1       0             0             0   \n",
              "2   9915000       0       1          1       0             1             0   \n",
              "3   3815000       0       1          1       0             1             0   \n",
              "4   7385000       0       1          1       0             1             0   \n",
              "\n",
              "   new       brand             veh_type  \n",
              "0    0      Toyota                RAV 4  \n",
              "1    1      Toyota         Land Cruiser  \n",
              "2    0  Land-Rover   Range Rover Evoque  \n",
              "3    0       Lexus               ES 350  \n",
              "4    0      Toyota                Venza  "
            ],
            "text/html": [
              "\n",
              "  <div id=\"df-cd85c4a2-8c83-445c-b219-e7de5745ae3e\">\n",
              "    <div class=\"colab-df-container\">\n",
              "      <div>\n",
              "<style scoped>\n",
              "    .dataframe tbody tr th:only-of-type {\n",
              "        vertical-align: middle;\n",
              "    }\n",
              "\n",
              "    .dataframe tbody tr th {\n",
              "        vertical-align: top;\n",
              "    }\n",
              "\n",
              "    .dataframe thead th {\n",
              "        text-align: right;\n",
              "    }\n",
              "</style>\n",
              "<table border=\"1\" class=\"dataframe\">\n",
              "  <thead>\n",
              "    <tr style=\"text-align: right;\">\n",
              "      <th></th>\n",
              "      <th>id</th>\n",
              "      <th>title</th>\n",
              "      <th>odometer</th>\n",
              "      <th>location</th>\n",
              "      <th>engine</th>\n",
              "      <th>paint</th>\n",
              "      <th>year</th>\n",
              "      <th>target</th>\n",
              "      <th>diesel</th>\n",
              "      <th>petrol</th>\n",
              "      <th>automatic</th>\n",
              "      <th>manual</th>\n",
              "      <th>foreign used</th>\n",
              "      <th>locally used</th>\n",
              "      <th>new</th>\n",
              "      <th>brand</th>\n",
              "      <th>veh_type</th>\n",
              "    </tr>\n",
              "  </thead>\n",
              "  <tbody>\n",
              "    <tr>\n",
              "      <th>0</th>\n",
              "      <td>0</td>\n",
              "      <td>Toyota RAV 4</td>\n",
              "      <td>18277</td>\n",
              "      <td>lagos</td>\n",
              "      <td>I4</td>\n",
              "      <td>red</td>\n",
              "      <td>2016</td>\n",
              "      <td>13665000</td>\n",
              "      <td>0</td>\n",
              "      <td>1</td>\n",
              "      <td>1</td>\n",
              "      <td>0</td>\n",
              "      <td>1</td>\n",
              "      <td>0</td>\n",
              "      <td>0</td>\n",
              "      <td>Toyota</td>\n",
              "      <td>RAV 4</td>\n",
              "    </tr>\n",
              "    <tr>\n",
              "      <th>1</th>\n",
              "      <td>1</td>\n",
              "      <td>Toyota Land Cruiser</td>\n",
              "      <td>10</td>\n",
              "      <td>lagos</td>\n",
              "      <td>I4</td>\n",
              "      <td>black</td>\n",
              "      <td>2019</td>\n",
              "      <td>33015000</td>\n",
              "      <td>0</td>\n",
              "      <td>1</td>\n",
              "      <td>1</td>\n",
              "      <td>0</td>\n",
              "      <td>0</td>\n",
              "      <td>0</td>\n",
              "      <td>1</td>\n",
              "      <td>Toyota</td>\n",
              "      <td>Land Cruiser</td>\n",
              "    </tr>\n",
              "    <tr>\n",
              "      <th>2</th>\n",
              "      <td>2</td>\n",
              "      <td>Land-Rover Range Rover Evoque</td>\n",
              "      <td>83091</td>\n",
              "      <td>lagos</td>\n",
              "      <td>V6</td>\n",
              "      <td>red</td>\n",
              "      <td>2012</td>\n",
              "      <td>9915000</td>\n",
              "      <td>0</td>\n",
              "      <td>1</td>\n",
              "      <td>1</td>\n",
              "      <td>0</td>\n",
              "      <td>1</td>\n",
              "      <td>0</td>\n",
              "      <td>0</td>\n",
              "      <td>Land-Rover</td>\n",
              "      <td>Range Rover Evoque</td>\n",
              "    </tr>\n",
              "    <tr>\n",
              "      <th>3</th>\n",
              "      <td>3</td>\n",
              "      <td>Lexus ES 350</td>\n",
              "      <td>91524</td>\n",
              "      <td>lagos</td>\n",
              "      <td>I4</td>\n",
              "      <td>grey</td>\n",
              "      <td>2007</td>\n",
              "      <td>3815000</td>\n",
              "      <td>0</td>\n",
              "      <td>1</td>\n",
              "      <td>1</td>\n",
              "      <td>0</td>\n",
              "      <td>1</td>\n",
              "      <td>0</td>\n",
              "      <td>0</td>\n",
              "      <td>Lexus</td>\n",
              "      <td>ES 350</td>\n",
              "    </tr>\n",
              "    <tr>\n",
              "      <th>4</th>\n",
              "      <td>4</td>\n",
              "      <td>Toyota Venza</td>\n",
              "      <td>94177</td>\n",
              "      <td>lagos</td>\n",
              "      <td>V6</td>\n",
              "      <td>red</td>\n",
              "      <td>2010</td>\n",
              "      <td>7385000</td>\n",
              "      <td>0</td>\n",
              "      <td>1</td>\n",
              "      <td>1</td>\n",
              "      <td>0</td>\n",
              "      <td>1</td>\n",
              "      <td>0</td>\n",
              "      <td>0</td>\n",
              "      <td>Toyota</td>\n",
              "      <td>Venza</td>\n",
              "    </tr>\n",
              "  </tbody>\n",
              "</table>\n",
              "</div>\n",
              "      <button class=\"colab-df-convert\" onclick=\"convertToInteractive('df-cd85c4a2-8c83-445c-b219-e7de5745ae3e')\"\n",
              "              title=\"Convert this dataframe to an interactive table.\"\n",
              "              style=\"display:none;\">\n",
              "        \n",
              "  <svg xmlns=\"http://www.w3.org/2000/svg\" height=\"24px\"viewBox=\"0 0 24 24\"\n",
              "       width=\"24px\">\n",
              "    <path d=\"M0 0h24v24H0V0z\" fill=\"none\"/>\n",
              "    <path d=\"M18.56 5.44l.94 2.06.94-2.06 2.06-.94-2.06-.94-.94-2.06-.94 2.06-2.06.94zm-11 1L8.5 8.5l.94-2.06 2.06-.94-2.06-.94L8.5 2.5l-.94 2.06-2.06.94zm10 10l.94 2.06.94-2.06 2.06-.94-2.06-.94-.94-2.06-.94 2.06-2.06.94z\"/><path d=\"M17.41 7.96l-1.37-1.37c-.4-.4-.92-.59-1.43-.59-.52 0-1.04.2-1.43.59L10.3 9.45l-7.72 7.72c-.78.78-.78 2.05 0 2.83L4 21.41c.39.39.9.59 1.41.59.51 0 1.02-.2 1.41-.59l7.78-7.78 2.81-2.81c.8-.78.8-2.07 0-2.86zM5.41 20L4 18.59l7.72-7.72 1.47 1.35L5.41 20z\"/>\n",
              "  </svg>\n",
              "      </button>\n",
              "      \n",
              "  <style>\n",
              "    .colab-df-container {\n",
              "      display:flex;\n",
              "      flex-wrap:wrap;\n",
              "      gap: 12px;\n",
              "    }\n",
              "\n",
              "    .colab-df-convert {\n",
              "      background-color: #E8F0FE;\n",
              "      border: none;\n",
              "      border-radius: 50%;\n",
              "      cursor: pointer;\n",
              "      display: none;\n",
              "      fill: #1967D2;\n",
              "      height: 32px;\n",
              "      padding: 0 0 0 0;\n",
              "      width: 32px;\n",
              "    }\n",
              "\n",
              "    .colab-df-convert:hover {\n",
              "      background-color: #E2EBFA;\n",
              "      box-shadow: 0px 1px 2px rgba(60, 64, 67, 0.3), 0px 1px 3px 1px rgba(60, 64, 67, 0.15);\n",
              "      fill: #174EA6;\n",
              "    }\n",
              "\n",
              "    [theme=dark] .colab-df-convert {\n",
              "      background-color: #3B4455;\n",
              "      fill: #D2E3FC;\n",
              "    }\n",
              "\n",
              "    [theme=dark] .colab-df-convert:hover {\n",
              "      background-color: #434B5C;\n",
              "      box-shadow: 0px 1px 3px 1px rgba(0, 0, 0, 0.15);\n",
              "      filter: drop-shadow(0px 1px 2px rgba(0, 0, 0, 0.3));\n",
              "      fill: #FFFFFF;\n",
              "    }\n",
              "  </style>\n",
              "\n",
              "      <script>\n",
              "        const buttonEl =\n",
              "          document.querySelector('#df-cd85c4a2-8c83-445c-b219-e7de5745ae3e button.colab-df-convert');\n",
              "        buttonEl.style.display =\n",
              "          google.colab.kernel.accessAllowed ? 'block' : 'none';\n",
              "\n",
              "        async function convertToInteractive(key) {\n",
              "          const element = document.querySelector('#df-cd85c4a2-8c83-445c-b219-e7de5745ae3e');\n",
              "          const dataTable =\n",
              "            await google.colab.kernel.invokeFunction('convertToInteractive',\n",
              "                                                     [key], {});\n",
              "          if (!dataTable) return;\n",
              "\n",
              "          const docLinkHtml = 'Like what you see? Visit the ' +\n",
              "            '<a target=\"_blank\" href=https://colab.research.google.com/notebooks/data_table.ipynb>data table notebook</a>'\n",
              "            + ' to learn more about interactive tables.';\n",
              "          element.innerHTML = '';\n",
              "          dataTable['output_type'] = 'display_data';\n",
              "          await google.colab.output.renderOutput(dataTable, element);\n",
              "          const docLink = document.createElement('div');\n",
              "          docLink.innerHTML = docLinkHtml;\n",
              "          element.appendChild(docLink);\n",
              "        }\n",
              "      </script>\n",
              "    </div>\n",
              "  </div>\n",
              "  "
            ]
          },
          "metadata": {},
          "execution_count": 789
        }
      ]
    },
    {
      "cell_type": "code",
      "source": [
        "test_veh_info = test_final['brand']\n",
        "test_final['veh_type'] = test_final['title']\n",
        "\n",
        "for i in range(len(test_final)):\n",
        "    pattern = test_veh_info[i]\n",
        "    test_final['veh_type'][i] = test_final['title'][i].split(pattern)[1]\n",
        "\n",
        "test_final.head()"
      ],
      "metadata": {
        "colab": {
          "base_uri": "https://localhost:8080/",
          "height": 293
        },
        "id": "3hJxr1kOQCFU",
        "outputId": "8afa17ae-f9e2-4d5b-8308-d5b6d8a4a9e5"
      },
      "execution_count": 790,
      "outputs": [
        {
          "output_type": "stream",
          "name": "stderr",
          "text": [
            "/usr/local/lib/python3.7/dist-packages/ipykernel_launcher.py:6: SettingWithCopyWarning: \n",
            "A value is trying to be set on a copy of a slice from a DataFrame\n",
            "\n",
            "See the caveats in the documentation: https://pandas.pydata.org/pandas-docs/stable/user_guide/indexing.html#returning-a-view-versus-a-copy\n",
            "  \n"
          ]
        },
        {
          "output_type": "execute_result",
          "data": {
            "text/plain": [
              "   id                title  odometer location engine  paint  year  diesel  \\\n",
              "0   0  Mercedes-Benz C 300      1234    abuja     I4  white  2017       0   \n",
              "1   1         Honda Accord     29938    abuja     I4  white  2013       0   \n",
              "2   2  Mercedes-Benz S 550     87501    lagos     V6  black  2012       0   \n",
              "3   3        Toyota Sienna    180894    lagos     I4   grey  2001       0   \n",
              "4   4         Toyota Hiace    104814    lagos     I4  white  2000       0   \n",
              "\n",
              "   petrol  automatic  manual  foreign used  locally used  new          brand  \\\n",
              "0       1          1       0             0             0    1  Mercedes-Benz   \n",
              "1       1          1       0             1             0    0          Honda   \n",
              "2       1          1       0             1             0    0  Mercedes-Benz   \n",
              "3       1          1       0             0             1    0         Toyota   \n",
              "4       1          1       0             1             0    0         Toyota   \n",
              "\n",
              "  veh_type  \n",
              "0    C 300  \n",
              "1   Accord  \n",
              "2    S 550  \n",
              "3   Sienna  \n",
              "4    Hiace  "
            ],
            "text/html": [
              "\n",
              "  <div id=\"df-e6e6f2ea-1698-4930-99d0-128a09c940f9\">\n",
              "    <div class=\"colab-df-container\">\n",
              "      <div>\n",
              "<style scoped>\n",
              "    .dataframe tbody tr th:only-of-type {\n",
              "        vertical-align: middle;\n",
              "    }\n",
              "\n",
              "    .dataframe tbody tr th {\n",
              "        vertical-align: top;\n",
              "    }\n",
              "\n",
              "    .dataframe thead th {\n",
              "        text-align: right;\n",
              "    }\n",
              "</style>\n",
              "<table border=\"1\" class=\"dataframe\">\n",
              "  <thead>\n",
              "    <tr style=\"text-align: right;\">\n",
              "      <th></th>\n",
              "      <th>id</th>\n",
              "      <th>title</th>\n",
              "      <th>odometer</th>\n",
              "      <th>location</th>\n",
              "      <th>engine</th>\n",
              "      <th>paint</th>\n",
              "      <th>year</th>\n",
              "      <th>diesel</th>\n",
              "      <th>petrol</th>\n",
              "      <th>automatic</th>\n",
              "      <th>manual</th>\n",
              "      <th>foreign used</th>\n",
              "      <th>locally used</th>\n",
              "      <th>new</th>\n",
              "      <th>brand</th>\n",
              "      <th>veh_type</th>\n",
              "    </tr>\n",
              "  </thead>\n",
              "  <tbody>\n",
              "    <tr>\n",
              "      <th>0</th>\n",
              "      <td>0</td>\n",
              "      <td>Mercedes-Benz C 300</td>\n",
              "      <td>1234</td>\n",
              "      <td>abuja</td>\n",
              "      <td>I4</td>\n",
              "      <td>white</td>\n",
              "      <td>2017</td>\n",
              "      <td>0</td>\n",
              "      <td>1</td>\n",
              "      <td>1</td>\n",
              "      <td>0</td>\n",
              "      <td>0</td>\n",
              "      <td>0</td>\n",
              "      <td>1</td>\n",
              "      <td>Mercedes-Benz</td>\n",
              "      <td>C 300</td>\n",
              "    </tr>\n",
              "    <tr>\n",
              "      <th>1</th>\n",
              "      <td>1</td>\n",
              "      <td>Honda Accord</td>\n",
              "      <td>29938</td>\n",
              "      <td>abuja</td>\n",
              "      <td>I4</td>\n",
              "      <td>white</td>\n",
              "      <td>2013</td>\n",
              "      <td>0</td>\n",
              "      <td>1</td>\n",
              "      <td>1</td>\n",
              "      <td>0</td>\n",
              "      <td>1</td>\n",
              "      <td>0</td>\n",
              "      <td>0</td>\n",
              "      <td>Honda</td>\n",
              "      <td>Accord</td>\n",
              "    </tr>\n",
              "    <tr>\n",
              "      <th>2</th>\n",
              "      <td>2</td>\n",
              "      <td>Mercedes-Benz S 550</td>\n",
              "      <td>87501</td>\n",
              "      <td>lagos</td>\n",
              "      <td>V6</td>\n",
              "      <td>black</td>\n",
              "      <td>2012</td>\n",
              "      <td>0</td>\n",
              "      <td>1</td>\n",
              "      <td>1</td>\n",
              "      <td>0</td>\n",
              "      <td>1</td>\n",
              "      <td>0</td>\n",
              "      <td>0</td>\n",
              "      <td>Mercedes-Benz</td>\n",
              "      <td>S 550</td>\n",
              "    </tr>\n",
              "    <tr>\n",
              "      <th>3</th>\n",
              "      <td>3</td>\n",
              "      <td>Toyota Sienna</td>\n",
              "      <td>180894</td>\n",
              "      <td>lagos</td>\n",
              "      <td>I4</td>\n",
              "      <td>grey</td>\n",
              "      <td>2001</td>\n",
              "      <td>0</td>\n",
              "      <td>1</td>\n",
              "      <td>1</td>\n",
              "      <td>0</td>\n",
              "      <td>0</td>\n",
              "      <td>1</td>\n",
              "      <td>0</td>\n",
              "      <td>Toyota</td>\n",
              "      <td>Sienna</td>\n",
              "    </tr>\n",
              "    <tr>\n",
              "      <th>4</th>\n",
              "      <td>4</td>\n",
              "      <td>Toyota Hiace</td>\n",
              "      <td>104814</td>\n",
              "      <td>lagos</td>\n",
              "      <td>I4</td>\n",
              "      <td>white</td>\n",
              "      <td>2000</td>\n",
              "      <td>0</td>\n",
              "      <td>1</td>\n",
              "      <td>1</td>\n",
              "      <td>0</td>\n",
              "      <td>1</td>\n",
              "      <td>0</td>\n",
              "      <td>0</td>\n",
              "      <td>Toyota</td>\n",
              "      <td>Hiace</td>\n",
              "    </tr>\n",
              "  </tbody>\n",
              "</table>\n",
              "</div>\n",
              "      <button class=\"colab-df-convert\" onclick=\"convertToInteractive('df-e6e6f2ea-1698-4930-99d0-128a09c940f9')\"\n",
              "              title=\"Convert this dataframe to an interactive table.\"\n",
              "              style=\"display:none;\">\n",
              "        \n",
              "  <svg xmlns=\"http://www.w3.org/2000/svg\" height=\"24px\"viewBox=\"0 0 24 24\"\n",
              "       width=\"24px\">\n",
              "    <path d=\"M0 0h24v24H0V0z\" fill=\"none\"/>\n",
              "    <path d=\"M18.56 5.44l.94 2.06.94-2.06 2.06-.94-2.06-.94-.94-2.06-.94 2.06-2.06.94zm-11 1L8.5 8.5l.94-2.06 2.06-.94-2.06-.94L8.5 2.5l-.94 2.06-2.06.94zm10 10l.94 2.06.94-2.06 2.06-.94-2.06-.94-.94-2.06-.94 2.06-2.06.94z\"/><path d=\"M17.41 7.96l-1.37-1.37c-.4-.4-.92-.59-1.43-.59-.52 0-1.04.2-1.43.59L10.3 9.45l-7.72 7.72c-.78.78-.78 2.05 0 2.83L4 21.41c.39.39.9.59 1.41.59.51 0 1.02-.2 1.41-.59l7.78-7.78 2.81-2.81c.8-.78.8-2.07 0-2.86zM5.41 20L4 18.59l7.72-7.72 1.47 1.35L5.41 20z\"/>\n",
              "  </svg>\n",
              "      </button>\n",
              "      \n",
              "  <style>\n",
              "    .colab-df-container {\n",
              "      display:flex;\n",
              "      flex-wrap:wrap;\n",
              "      gap: 12px;\n",
              "    }\n",
              "\n",
              "    .colab-df-convert {\n",
              "      background-color: #E8F0FE;\n",
              "      border: none;\n",
              "      border-radius: 50%;\n",
              "      cursor: pointer;\n",
              "      display: none;\n",
              "      fill: #1967D2;\n",
              "      height: 32px;\n",
              "      padding: 0 0 0 0;\n",
              "      width: 32px;\n",
              "    }\n",
              "\n",
              "    .colab-df-convert:hover {\n",
              "      background-color: #E2EBFA;\n",
              "      box-shadow: 0px 1px 2px rgba(60, 64, 67, 0.3), 0px 1px 3px 1px rgba(60, 64, 67, 0.15);\n",
              "      fill: #174EA6;\n",
              "    }\n",
              "\n",
              "    [theme=dark] .colab-df-convert {\n",
              "      background-color: #3B4455;\n",
              "      fill: #D2E3FC;\n",
              "    }\n",
              "\n",
              "    [theme=dark] .colab-df-convert:hover {\n",
              "      background-color: #434B5C;\n",
              "      box-shadow: 0px 1px 3px 1px rgba(0, 0, 0, 0.15);\n",
              "      filter: drop-shadow(0px 1px 2px rgba(0, 0, 0, 0.3));\n",
              "      fill: #FFFFFF;\n",
              "    }\n",
              "  </style>\n",
              "\n",
              "      <script>\n",
              "        const buttonEl =\n",
              "          document.querySelector('#df-e6e6f2ea-1698-4930-99d0-128a09c940f9 button.colab-df-convert');\n",
              "        buttonEl.style.display =\n",
              "          google.colab.kernel.accessAllowed ? 'block' : 'none';\n",
              "\n",
              "        async function convertToInteractive(key) {\n",
              "          const element = document.querySelector('#df-e6e6f2ea-1698-4930-99d0-128a09c940f9');\n",
              "          const dataTable =\n",
              "            await google.colab.kernel.invokeFunction('convertToInteractive',\n",
              "                                                     [key], {});\n",
              "          if (!dataTable) return;\n",
              "\n",
              "          const docLinkHtml = 'Like what you see? Visit the ' +\n",
              "            '<a target=\"_blank\" href=https://colab.research.google.com/notebooks/data_table.ipynb>data table notebook</a>'\n",
              "            + ' to learn more about interactive tables.';\n",
              "          element.innerHTML = '';\n",
              "          dataTable['output_type'] = 'display_data';\n",
              "          await google.colab.output.renderOutput(dataTable, element);\n",
              "          const docLink = document.createElement('div');\n",
              "          docLink.innerHTML = docLinkHtml;\n",
              "          element.appendChild(docLink);\n",
              "        }\n",
              "      </script>\n",
              "    </div>\n",
              "  </div>\n",
              "  "
            ]
          },
          "metadata": {},
          "execution_count": 790
        }
      ]
    },
    {
      "cell_type": "markdown",
      "source": [
        "---"
      ],
      "metadata": {
        "id": "4BfW3s-_T53l"
      }
    },
    {
      "cell_type": "markdown",
      "source": [
        "### **원핫인코딩 3 (ignore)**"
      ],
      "metadata": {
        "id": "yyoW4-QdT608"
      }
    },
    {
      "cell_type": "code",
      "source": [
        "ohe = OneHotEncoder(handle_unknown = 'ignore')\n",
        "\n",
        "x_copy = X.drop(['id', 'title', 'target'], axis=1).copy()\n",
        "test_copy = test_final.drop(['id', 'title'], axis=1).copy()\n",
        "\n",
        "ohe.fit(x_copy)\n",
        "\n",
        "x_encoded = ohe.transform(x_copy)\n",
        "test_encoded = ohe.transform(test_copy)\n",
        "\n",
        "x_encoded = pd.DataFrame(x_encoded.todense(), columns=ohe.get_feature_names_out())\n",
        "test_encoded = pd.DataFrame(test_encoded.todense(), columns=ohe.get_feature_names_out())\n"
      ],
      "metadata": {
        "id": "GtEhujV3KMXt"
      },
      "execution_count": 791,
      "outputs": []
    },
    {
      "cell_type": "code",
      "source": [
        "x_encoded.shape"
      ],
      "metadata": {
        "colab": {
          "base_uri": "https://localhost:8080/"
        },
        "id": "_v5_WRqSEE5W",
        "outputId": "5dea2d07-4f35-4338-8863-47cdad7cc277"
      },
      "execution_count": 792,
      "outputs": [
        {
          "output_type": "execute_result",
          "data": {
            "text/plain": [
              "(1013, 1296)"
            ]
          },
          "metadata": {},
          "execution_count": 792
        }
      ]
    },
    {
      "cell_type": "code",
      "source": [
        "test_encoded.shape"
      ],
      "metadata": {
        "colab": {
          "base_uri": "https://localhost:8080/"
        },
        "id": "hQPyJoT_EKO4",
        "outputId": "9ebd520e-6f54-49d2-8086-57d568766697"
      },
      "execution_count": 793,
      "outputs": [
        {
          "output_type": "execute_result",
          "data": {
            "text/plain": [
              "(436, 1296)"
            ]
          },
          "metadata": {},
          "execution_count": 793
        }
      ]
    },
    {
      "cell_type": "markdown",
      "source": [
        "---"
      ],
      "metadata": {
        "id": "LZV0ClMMEPJ9"
      }
    },
    {
      "cell_type": "markdown",
      "source": [
        "## **validation set 생성**"
      ],
      "metadata": {
        "id": "-U24YhxWenLk"
      }
    },
    {
      "cell_type": "code",
      "source": [
        "# 최종 학습 셋\n",
        "train_final = x_encoded.copy()\n",
        "y = X.target\n",
        "\n",
        "# y값에 로그 취하기\n",
        "y = np.log1p(y)\n",
        "\n",
        "\n",
        "random_state=2022\n",
        "\n",
        "x_train, x_test, y_train, y_test = tts(train_final, y, random_state=random_state, test_size=0.2)"
      ],
      "metadata": {
        "id": "3_uHCbRKcxII"
      },
      "execution_count": 937,
      "outputs": []
    },
    {
      "cell_type": "code",
      "source": [
        "x_train.shape"
      ],
      "metadata": {
        "colab": {
          "base_uri": "https://localhost:8080/"
        },
        "id": "-zlyD4PEfUsX",
        "outputId": "86032640-3596-4135-ac42-2294955d4a28"
      },
      "execution_count": 880,
      "outputs": [
        {
          "output_type": "execute_result",
          "data": {
            "text/plain": [
              "(810, 1296)"
            ]
          },
          "metadata": {},
          "execution_count": 880
        }
      ]
    },
    {
      "cell_type": "code",
      "source": [
        "x_test.shape"
      ],
      "metadata": {
        "colab": {
          "base_uri": "https://localhost:8080/"
        },
        "id": "nMs4sXAbhQ6k",
        "outputId": "2bbc2ce1-274b-416b-fa1b-a19b23875934"
      },
      "execution_count": 881,
      "outputs": [
        {
          "output_type": "execute_result",
          "data": {
            "text/plain": [
              "(203, 1296)"
            ]
          },
          "metadata": {},
          "execution_count": 881
        }
      ]
    },
    {
      "cell_type": "code",
      "source": [
        "y_train.shape"
      ],
      "metadata": {
        "colab": {
          "base_uri": "https://localhost:8080/"
        },
        "id": "bqDa1CYChSUE",
        "outputId": "8ef9337c-8569-40d3-f9e7-c67910164e95"
      },
      "execution_count": 882,
      "outputs": [
        {
          "output_type": "execute_result",
          "data": {
            "text/plain": [
              "(810,)"
            ]
          },
          "metadata": {},
          "execution_count": 882
        }
      ]
    },
    {
      "cell_type": "code",
      "source": [
        "y_test.shape"
      ],
      "metadata": {
        "colab": {
          "base_uri": "https://localhost:8080/"
        },
        "id": "GeZbpQIChUMz",
        "outputId": "83f9600b-939e-4229-bc71-9b0f92a02ea4"
      },
      "execution_count": 883,
      "outputs": [
        {
          "output_type": "execute_result",
          "data": {
            "text/plain": [
              "(203,)"
            ]
          },
          "metadata": {},
          "execution_count": 883
        }
      ]
    },
    {
      "cell_type": "markdown",
      "source": [
        "---"
      ],
      "metadata": {
        "id": "DzbWlxpZhuRN"
      }
    },
    {
      "cell_type": "markdown",
      "source": [
        "## **모델링 & 훈련**"
      ],
      "metadata": {
        "id": "eZI8vh8rhvcE"
      }
    },
    {
      "cell_type": "code",
      "source": [
        "# 모델 정의\n",
        "gboost = GradientBoostingRegressor(random_state=random_state)\n",
        "lightgbm = LGBMRegressor(random_state=random_state)\n",
        "rdforest = RandomForestRegressor(random_state=random_state)\n",
        "\n",
        "models = [gboost, lightgbm, rdforest]\n",
        "\n",
        "print('Done!')"
      ],
      "metadata": {
        "colab": {
          "base_uri": "https://localhost:8080/"
        },
        "id": "fwis8aijhVp0",
        "outputId": "015748f2-8ba7-4054-936e-ca79154fd577"
      },
      "execution_count": 893,
      "outputs": [
        {
          "output_type": "stream",
          "name": "stdout",
          "text": [
            "Done!\n"
          ]
        }
      ]
    },
    {
      "cell_type": "code",
      "source": [
        "# 평가 함수 생성\n",
        "def nmae(true, pred):\n",
        "\n",
        "    mae = np.mean(np.abs(true-pred))\n",
        "    score = mae / np.mean(np.abs(true))\n",
        "    \n",
        "    return score"
      ],
      "metadata": {
        "id": "amzCmdU1iGCg"
      },
      "execution_count": 894,
      "outputs": []
    },
    {
      "cell_type": "code",
      "source": [
        "# 모델링 함수 생성\n",
        "def modeling(models, train, y):\n",
        "\n",
        "    df = {}\n",
        "    for model in models:\n",
        "\n",
        "        # 모델 이름 획득\n",
        "        model_name = model.__class__.__name__\n",
        "\n",
        "        # 데이터셋 분리\n",
        "        x_train, x_test, y_train, y_test = tts(train, y, random_state=random_state, test_size=0.2)\n",
        "\n",
        "        # 모델 학습\n",
        "        model.fit(x_train, y_train)\n",
        "\n",
        "        # 예측\n",
        "        y_pred = model.predict(x_test)\n",
        "\n",
        "        # 예측 결과의 nmae값 저장\n",
        "        df[model_name] = nmae(y_test, y_pred)\n",
        "\n",
        "        # df에 내림차순으로 저장\n",
        "        score_df = pd.DataFrame(df, index=['MAE']).T.sort_values('MAE', ascending=False)\n",
        "    \n",
        "    print(df)"
      ],
      "metadata": {
        "id": "LtX2bIVOiAPz"
      },
      "execution_count": 895,
      "outputs": []
    },
    {
      "cell_type": "code",
      "source": [
        "# test\n",
        "modeling(models, train_final, y)"
      ],
      "metadata": {
        "colab": {
          "base_uri": "https://localhost:8080/"
        },
        "id": "hFIW64XMiaSi",
        "outputId": "cdeea99d-a6c6-4e6d-f5ff-76633dcce4e9"
      },
      "execution_count": 896,
      "outputs": [
        {
          "output_type": "stream",
          "name": "stdout",
          "text": [
            "{'GradientBoostingRegressor': 0.019105988438094898, 'LGBMRegressor': 0.02423857465474319, 'RandomForestRegressor': 0.018199023880485308}\n"
          ]
        }
      ]
    },
    {
      "cell_type": "markdown",
      "source": [
        "---"
      ],
      "metadata": {
        "id": "L5fVbI5wiewq"
      }
    },
    {
      "cell_type": "markdown",
      "source": [
        "## **GridSearch**"
      ],
      "metadata": {
        "id": "u0K47dyvkC9x"
      }
    },
    {
      "cell_type": "markdown",
      "source": [
        "GridSearch는 모델의 적합한 하이퍼파라미터를 찾아주는 모듈입니다."
      ],
      "metadata": {
        "id": "0tkTGEt3kEl3"
      }
    },
    {
      "cell_type": "code",
      "source": [
        "param_grid = {\n",
        "    'n_estimators': [10, 50, 100],  # n_estimators 값 2개 지정 (50, 100) / estimator 객체 개수가 10개, 50개, 100개일때\n",
        "    'max_depth': [1, 10],       # max_depth 값 2개 지정 (1, 10) / 최대 차수가 1일때와 10개일때\n",
        "}\n",
        "\n",
        "# LightGBM\n",
        "model = LGBMRegressor(random_state=random_state)\n",
        "\n",
        "grid_model = GridSearchCV(model, param_grid=param_grid, \\\n",
        "                        scoring='neg_mean_absolute_error', \\\n",
        "                        cv=5, verbose=1, n_jobs=5)              # 매회 교차검증 5회씩 반복\n",
        "\n",
        "grid_model.fit(train_final, y)\n",
        "\n",
        "# 결과 확인\n",
        "grid_model.cv_results_\n"
      ],
      "metadata": {
        "colab": {
          "base_uri": "https://localhost:8080/"
        },
        "id": "m2uVHflikJAP",
        "outputId": "b0e71b41-6a1a-439a-ff0f-1b18faf292f8"
      },
      "execution_count": 897,
      "outputs": [
        {
          "output_type": "stream",
          "name": "stdout",
          "text": [
            "Fitting 5 folds for each of 6 candidates, totalling 30 fits\n"
          ]
        },
        {
          "output_type": "execute_result",
          "data": {
            "text/plain": [
              "{'mean_fit_time': array([0.13633065, 0.14539585, 0.1585978 , 0.13987455, 0.19137712,\n",
              "        0.22453027]),\n",
              " 'mean_score_time': array([0.04075937, 0.03507881, 0.0420424 , 0.0422904 , 0.04479799,\n",
              "        0.02468495]),\n",
              " 'mean_test_score': array([-0.70056256, -0.60903751, -0.53640986, -0.53661204, -0.39528907,\n",
              "        -0.39137043]),\n",
              " 'param_max_depth': masked_array(data=[1, 1, 1, 10, 10, 10],\n",
              "              mask=[False, False, False, False, False, False],\n",
              "        fill_value='?',\n",
              "             dtype=object),\n",
              " 'param_n_estimators': masked_array(data=[10, 50, 100, 10, 50, 100],\n",
              "              mask=[False, False, False, False, False, False],\n",
              "        fill_value='?',\n",
              "             dtype=object),\n",
              " 'params': [{'max_depth': 1, 'n_estimators': 10},\n",
              "  {'max_depth': 1, 'n_estimators': 50},\n",
              "  {'max_depth': 1, 'n_estimators': 100},\n",
              "  {'max_depth': 10, 'n_estimators': 10},\n",
              "  {'max_depth': 10, 'n_estimators': 50},\n",
              "  {'max_depth': 10, 'n_estimators': 100}],\n",
              " 'rank_test_score': array([6, 5, 3, 4, 2, 1], dtype=int32),\n",
              " 'split0_test_score': array([-0.63919125, -0.55692355, -0.49383371, -0.4953027 , -0.37139887,\n",
              "        -0.3781899 ]),\n",
              " 'split1_test_score': array([-0.68122224, -0.60751136, -0.53344304, -0.51981369, -0.39296072,\n",
              "        -0.38427933]),\n",
              " 'split2_test_score': array([-0.74673046, -0.64681694, -0.56499341, -0.57790554, -0.40893726,\n",
              "        -0.40022992]),\n",
              " 'split3_test_score': array([-0.76107894, -0.64842065, -0.56812423, -0.57126088, -0.4200524 ,\n",
              "        -0.42077656]),\n",
              " 'split4_test_score': array([-0.6745899 , -0.58551505, -0.52165491, -0.51877736, -0.38309609,\n",
              "        -0.37337646]),\n",
              " 'std_fit_time': array([0.0129915 , 0.01992219, 0.01686963, 0.01431488, 0.01020572,\n",
              "        0.04610095]),\n",
              " 'std_score_time': array([0.00388795, 0.00787189, 0.00450523, 0.00779763, 0.00768955,\n",
              "        0.0105002 ]),\n",
              " 'std_test_score': array([0.04606251, 0.03535482, 0.0277923 , 0.03228751, 0.0174604 ,\n",
              "        0.01726849])}"
            ]
          },
          "metadata": {},
          "execution_count": 897
        }
      ]
    },
    {
      "cell_type": "code",
      "source": [
        "# 결과 평가\n",
        "\n",
        "# 파라미터 조합 가져오기\n",
        "params = grid_model.cv_results_['params']\n",
        "print(params)\n",
        "\n",
        "# 점수 결과값 가져오기\n",
        "score = grid_model.cv_results_['mean_test_score']\n",
        "print(score)\n",
        "\n",
        "# 이제 합쳐주면 됩니다\n",
        "result = pd.DataFrame(params)\n",
        "result['score'] = score\n",
        "result['MAE'] = (-1 * result['score'])\n",
        "result\n",
        "\n",
        "result\n"
      ],
      "metadata": {
        "colab": {
          "base_uri": "https://localhost:8080/",
          "height": 292
        },
        "id": "jlElOfPclCi9",
        "outputId": "0a93a85b-0e45-444d-d27b-9253570ceb13"
      },
      "execution_count": 898,
      "outputs": [
        {
          "output_type": "stream",
          "name": "stdout",
          "text": [
            "[{'max_depth': 1, 'n_estimators': 10}, {'max_depth': 1, 'n_estimators': 50}, {'max_depth': 1, 'n_estimators': 100}, {'max_depth': 10, 'n_estimators': 10}, {'max_depth': 10, 'n_estimators': 50}, {'max_depth': 10, 'n_estimators': 100}]\n",
            "[-0.70056256 -0.60903751 -0.53640986 -0.53661204 -0.39528907 -0.39137043]\n"
          ]
        },
        {
          "output_type": "execute_result",
          "data": {
            "text/plain": [
              "   max_depth  n_estimators     score       MAE\n",
              "0          1            10 -0.700563  0.700563\n",
              "1          1            50 -0.609038  0.609038\n",
              "2          1           100 -0.536410  0.536410\n",
              "3         10            10 -0.536612  0.536612\n",
              "4         10            50 -0.395289  0.395289\n",
              "5         10           100 -0.391370  0.391370"
            ],
            "text/html": [
              "\n",
              "  <div id=\"df-a4128c43-10f0-45f1-959f-104a66ebebd5\">\n",
              "    <div class=\"colab-df-container\">\n",
              "      <div>\n",
              "<style scoped>\n",
              "    .dataframe tbody tr th:only-of-type {\n",
              "        vertical-align: middle;\n",
              "    }\n",
              "\n",
              "    .dataframe tbody tr th {\n",
              "        vertical-align: top;\n",
              "    }\n",
              "\n",
              "    .dataframe thead th {\n",
              "        text-align: right;\n",
              "    }\n",
              "</style>\n",
              "<table border=\"1\" class=\"dataframe\">\n",
              "  <thead>\n",
              "    <tr style=\"text-align: right;\">\n",
              "      <th></th>\n",
              "      <th>max_depth</th>\n",
              "      <th>n_estimators</th>\n",
              "      <th>score</th>\n",
              "      <th>MAE</th>\n",
              "    </tr>\n",
              "  </thead>\n",
              "  <tbody>\n",
              "    <tr>\n",
              "      <th>0</th>\n",
              "      <td>1</td>\n",
              "      <td>10</td>\n",
              "      <td>-0.700563</td>\n",
              "      <td>0.700563</td>\n",
              "    </tr>\n",
              "    <tr>\n",
              "      <th>1</th>\n",
              "      <td>1</td>\n",
              "      <td>50</td>\n",
              "      <td>-0.609038</td>\n",
              "      <td>0.609038</td>\n",
              "    </tr>\n",
              "    <tr>\n",
              "      <th>2</th>\n",
              "      <td>1</td>\n",
              "      <td>100</td>\n",
              "      <td>-0.536410</td>\n",
              "      <td>0.536410</td>\n",
              "    </tr>\n",
              "    <tr>\n",
              "      <th>3</th>\n",
              "      <td>10</td>\n",
              "      <td>10</td>\n",
              "      <td>-0.536612</td>\n",
              "      <td>0.536612</td>\n",
              "    </tr>\n",
              "    <tr>\n",
              "      <th>4</th>\n",
              "      <td>10</td>\n",
              "      <td>50</td>\n",
              "      <td>-0.395289</td>\n",
              "      <td>0.395289</td>\n",
              "    </tr>\n",
              "    <tr>\n",
              "      <th>5</th>\n",
              "      <td>10</td>\n",
              "      <td>100</td>\n",
              "      <td>-0.391370</td>\n",
              "      <td>0.391370</td>\n",
              "    </tr>\n",
              "  </tbody>\n",
              "</table>\n",
              "</div>\n",
              "      <button class=\"colab-df-convert\" onclick=\"convertToInteractive('df-a4128c43-10f0-45f1-959f-104a66ebebd5')\"\n",
              "              title=\"Convert this dataframe to an interactive table.\"\n",
              "              style=\"display:none;\">\n",
              "        \n",
              "  <svg xmlns=\"http://www.w3.org/2000/svg\" height=\"24px\"viewBox=\"0 0 24 24\"\n",
              "       width=\"24px\">\n",
              "    <path d=\"M0 0h24v24H0V0z\" fill=\"none\"/>\n",
              "    <path d=\"M18.56 5.44l.94 2.06.94-2.06 2.06-.94-2.06-.94-.94-2.06-.94 2.06-2.06.94zm-11 1L8.5 8.5l.94-2.06 2.06-.94-2.06-.94L8.5 2.5l-.94 2.06-2.06.94zm10 10l.94 2.06.94-2.06 2.06-.94-2.06-.94-.94-2.06-.94 2.06-2.06.94z\"/><path d=\"M17.41 7.96l-1.37-1.37c-.4-.4-.92-.59-1.43-.59-.52 0-1.04.2-1.43.59L10.3 9.45l-7.72 7.72c-.78.78-.78 2.05 0 2.83L4 21.41c.39.39.9.59 1.41.59.51 0 1.02-.2 1.41-.59l7.78-7.78 2.81-2.81c.8-.78.8-2.07 0-2.86zM5.41 20L4 18.59l7.72-7.72 1.47 1.35L5.41 20z\"/>\n",
              "  </svg>\n",
              "      </button>\n",
              "      \n",
              "  <style>\n",
              "    .colab-df-container {\n",
              "      display:flex;\n",
              "      flex-wrap:wrap;\n",
              "      gap: 12px;\n",
              "    }\n",
              "\n",
              "    .colab-df-convert {\n",
              "      background-color: #E8F0FE;\n",
              "      border: none;\n",
              "      border-radius: 50%;\n",
              "      cursor: pointer;\n",
              "      display: none;\n",
              "      fill: #1967D2;\n",
              "      height: 32px;\n",
              "      padding: 0 0 0 0;\n",
              "      width: 32px;\n",
              "    }\n",
              "\n",
              "    .colab-df-convert:hover {\n",
              "      background-color: #E2EBFA;\n",
              "      box-shadow: 0px 1px 2px rgba(60, 64, 67, 0.3), 0px 1px 3px 1px rgba(60, 64, 67, 0.15);\n",
              "      fill: #174EA6;\n",
              "    }\n",
              "\n",
              "    [theme=dark] .colab-df-convert {\n",
              "      background-color: #3B4455;\n",
              "      fill: #D2E3FC;\n",
              "    }\n",
              "\n",
              "    [theme=dark] .colab-df-convert:hover {\n",
              "      background-color: #434B5C;\n",
              "      box-shadow: 0px 1px 3px 1px rgba(0, 0, 0, 0.15);\n",
              "      filter: drop-shadow(0px 1px 2px rgba(0, 0, 0, 0.3));\n",
              "      fill: #FFFFFF;\n",
              "    }\n",
              "  </style>\n",
              "\n",
              "      <script>\n",
              "        const buttonEl =\n",
              "          document.querySelector('#df-a4128c43-10f0-45f1-959f-104a66ebebd5 button.colab-df-convert');\n",
              "        buttonEl.style.display =\n",
              "          google.colab.kernel.accessAllowed ? 'block' : 'none';\n",
              "\n",
              "        async function convertToInteractive(key) {\n",
              "          const element = document.querySelector('#df-a4128c43-10f0-45f1-959f-104a66ebebd5');\n",
              "          const dataTable =\n",
              "            await google.colab.kernel.invokeFunction('convertToInteractive',\n",
              "                                                     [key], {});\n",
              "          if (!dataTable) return;\n",
              "\n",
              "          const docLinkHtml = 'Like what you see? Visit the ' +\n",
              "            '<a target=\"_blank\" href=https://colab.research.google.com/notebooks/data_table.ipynb>data table notebook</a>'\n",
              "            + ' to learn more about interactive tables.';\n",
              "          element.innerHTML = '';\n",
              "          dataTable['output_type'] = 'display_data';\n",
              "          await google.colab.output.renderOutput(dataTable, element);\n",
              "          const docLink = document.createElement('div');\n",
              "          docLink.innerHTML = docLinkHtml;\n",
              "          element.appendChild(docLink);\n",
              "        }\n",
              "      </script>\n",
              "    </div>\n",
              "  </div>\n",
              "  "
            ]
          },
          "metadata": {},
          "execution_count": 898
        }
      ]
    },
    {
      "cell_type": "markdown",
      "source": [
        "nmae = mean/mae 이므로 당연히 mae 값이 클수록 nmae 값이 낮게 나올 겁니다.\n",
        "\n",
        "따라서 max_depth 1, n_estimators=10 일때 LGBMRegressor에 대해 최적의 파라미터 값이 됩니다.\n",
        "\n",
        " 나머지 모델에 대해서도 확인해보겠습니다."
      ],
      "metadata": {
        "id": "dT4t_2t5o6nP"
      }
    },
    {
      "cell_type": "code",
      "source": [
        "# GradientBoostingRegressor\n",
        "model2 = GradientBoostingRegressor(random_state=random_state)\n",
        "\n",
        "grid_model2 = GridSearchCV(model2, param_grid=param_grid, \\\n",
        "                        scoring='neg_mean_absolute_error', \\\n",
        "                        cv=5, verbose=1, n_jobs=5)              # 매회 교차검증 5회씩 반복\n",
        "\n",
        "grid_model2.fit(train_final, y)\n",
        "\n",
        "# 결과 확인\n",
        "grid_model2.cv_results_\n",
        "\n",
        "# 결과 평가\n",
        "# 파라미터 조합 가져오기\n",
        "params2 = grid_model2.cv_results_['params']\n",
        "print(params2)\n",
        "\n",
        "# 점수 결과값 가져오기\n",
        "score2 = grid_model2.cv_results_['mean_test_score']\n",
        "print(score2)\n",
        "\n",
        "result2 = pd.DataFrame(params2)\n",
        "result2['score'] = score2\n",
        "result2['MAE'] = (-1 * result2['score'])\n",
        "result2\n",
        "\n",
        "result2"
      ],
      "metadata": {
        "colab": {
          "base_uri": "https://localhost:8080/",
          "height": 310
        },
        "id": "0pmCp9Poxvjm",
        "outputId": "c54dfc7d-591c-4c03-e0d9-9e541518e1a0"
      },
      "execution_count": 899,
      "outputs": [
        {
          "output_type": "stream",
          "name": "stdout",
          "text": [
            "Fitting 5 folds for each of 6 candidates, totalling 30 fits\n",
            "[{'max_depth': 1, 'n_estimators': 10}, {'max_depth': 1, 'n_estimators': 50}, {'max_depth': 1, 'n_estimators': 100}, {'max_depth': 10, 'n_estimators': 10}, {'max_depth': 10, 'n_estimators': 50}, {'max_depth': 10, 'n_estimators': 100}]\n",
            "[-0.70263057 -0.60219372 -0.51646178 -0.45972756 -0.29246263 -0.28050615]\n"
          ]
        },
        {
          "output_type": "execute_result",
          "data": {
            "text/plain": [
              "   max_depth  n_estimators     score       MAE\n",
              "0          1            10 -0.702631  0.702631\n",
              "1          1            50 -0.602194  0.602194\n",
              "2          1           100 -0.516462  0.516462\n",
              "3         10            10 -0.459728  0.459728\n",
              "4         10            50 -0.292463  0.292463\n",
              "5         10           100 -0.280506  0.280506"
            ],
            "text/html": [
              "\n",
              "  <div id=\"df-74a43431-f235-4804-a07d-f6b17cd2850f\">\n",
              "    <div class=\"colab-df-container\">\n",
              "      <div>\n",
              "<style scoped>\n",
              "    .dataframe tbody tr th:only-of-type {\n",
              "        vertical-align: middle;\n",
              "    }\n",
              "\n",
              "    .dataframe tbody tr th {\n",
              "        vertical-align: top;\n",
              "    }\n",
              "\n",
              "    .dataframe thead th {\n",
              "        text-align: right;\n",
              "    }\n",
              "</style>\n",
              "<table border=\"1\" class=\"dataframe\">\n",
              "  <thead>\n",
              "    <tr style=\"text-align: right;\">\n",
              "      <th></th>\n",
              "      <th>max_depth</th>\n",
              "      <th>n_estimators</th>\n",
              "      <th>score</th>\n",
              "      <th>MAE</th>\n",
              "    </tr>\n",
              "  </thead>\n",
              "  <tbody>\n",
              "    <tr>\n",
              "      <th>0</th>\n",
              "      <td>1</td>\n",
              "      <td>10</td>\n",
              "      <td>-0.702631</td>\n",
              "      <td>0.702631</td>\n",
              "    </tr>\n",
              "    <tr>\n",
              "      <th>1</th>\n",
              "      <td>1</td>\n",
              "      <td>50</td>\n",
              "      <td>-0.602194</td>\n",
              "      <td>0.602194</td>\n",
              "    </tr>\n",
              "    <tr>\n",
              "      <th>2</th>\n",
              "      <td>1</td>\n",
              "      <td>100</td>\n",
              "      <td>-0.516462</td>\n",
              "      <td>0.516462</td>\n",
              "    </tr>\n",
              "    <tr>\n",
              "      <th>3</th>\n",
              "      <td>10</td>\n",
              "      <td>10</td>\n",
              "      <td>-0.459728</td>\n",
              "      <td>0.459728</td>\n",
              "    </tr>\n",
              "    <tr>\n",
              "      <th>4</th>\n",
              "      <td>10</td>\n",
              "      <td>50</td>\n",
              "      <td>-0.292463</td>\n",
              "      <td>0.292463</td>\n",
              "    </tr>\n",
              "    <tr>\n",
              "      <th>5</th>\n",
              "      <td>10</td>\n",
              "      <td>100</td>\n",
              "      <td>-0.280506</td>\n",
              "      <td>0.280506</td>\n",
              "    </tr>\n",
              "  </tbody>\n",
              "</table>\n",
              "</div>\n",
              "      <button class=\"colab-df-convert\" onclick=\"convertToInteractive('df-74a43431-f235-4804-a07d-f6b17cd2850f')\"\n",
              "              title=\"Convert this dataframe to an interactive table.\"\n",
              "              style=\"display:none;\">\n",
              "        \n",
              "  <svg xmlns=\"http://www.w3.org/2000/svg\" height=\"24px\"viewBox=\"0 0 24 24\"\n",
              "       width=\"24px\">\n",
              "    <path d=\"M0 0h24v24H0V0z\" fill=\"none\"/>\n",
              "    <path d=\"M18.56 5.44l.94 2.06.94-2.06 2.06-.94-2.06-.94-.94-2.06-.94 2.06-2.06.94zm-11 1L8.5 8.5l.94-2.06 2.06-.94-2.06-.94L8.5 2.5l-.94 2.06-2.06.94zm10 10l.94 2.06.94-2.06 2.06-.94-2.06-.94-.94-2.06-.94 2.06-2.06.94z\"/><path d=\"M17.41 7.96l-1.37-1.37c-.4-.4-.92-.59-1.43-.59-.52 0-1.04.2-1.43.59L10.3 9.45l-7.72 7.72c-.78.78-.78 2.05 0 2.83L4 21.41c.39.39.9.59 1.41.59.51 0 1.02-.2 1.41-.59l7.78-7.78 2.81-2.81c.8-.78.8-2.07 0-2.86zM5.41 20L4 18.59l7.72-7.72 1.47 1.35L5.41 20z\"/>\n",
              "  </svg>\n",
              "      </button>\n",
              "      \n",
              "  <style>\n",
              "    .colab-df-container {\n",
              "      display:flex;\n",
              "      flex-wrap:wrap;\n",
              "      gap: 12px;\n",
              "    }\n",
              "\n",
              "    .colab-df-convert {\n",
              "      background-color: #E8F0FE;\n",
              "      border: none;\n",
              "      border-radius: 50%;\n",
              "      cursor: pointer;\n",
              "      display: none;\n",
              "      fill: #1967D2;\n",
              "      height: 32px;\n",
              "      padding: 0 0 0 0;\n",
              "      width: 32px;\n",
              "    }\n",
              "\n",
              "    .colab-df-convert:hover {\n",
              "      background-color: #E2EBFA;\n",
              "      box-shadow: 0px 1px 2px rgba(60, 64, 67, 0.3), 0px 1px 3px 1px rgba(60, 64, 67, 0.15);\n",
              "      fill: #174EA6;\n",
              "    }\n",
              "\n",
              "    [theme=dark] .colab-df-convert {\n",
              "      background-color: #3B4455;\n",
              "      fill: #D2E3FC;\n",
              "    }\n",
              "\n",
              "    [theme=dark] .colab-df-convert:hover {\n",
              "      background-color: #434B5C;\n",
              "      box-shadow: 0px 1px 3px 1px rgba(0, 0, 0, 0.15);\n",
              "      filter: drop-shadow(0px 1px 2px rgba(0, 0, 0, 0.3));\n",
              "      fill: #FFFFFF;\n",
              "    }\n",
              "  </style>\n",
              "\n",
              "      <script>\n",
              "        const buttonEl =\n",
              "          document.querySelector('#df-74a43431-f235-4804-a07d-f6b17cd2850f button.colab-df-convert');\n",
              "        buttonEl.style.display =\n",
              "          google.colab.kernel.accessAllowed ? 'block' : 'none';\n",
              "\n",
              "        async function convertToInteractive(key) {\n",
              "          const element = document.querySelector('#df-74a43431-f235-4804-a07d-f6b17cd2850f');\n",
              "          const dataTable =\n",
              "            await google.colab.kernel.invokeFunction('convertToInteractive',\n",
              "                                                     [key], {});\n",
              "          if (!dataTable) return;\n",
              "\n",
              "          const docLinkHtml = 'Like what you see? Visit the ' +\n",
              "            '<a target=\"_blank\" href=https://colab.research.google.com/notebooks/data_table.ipynb>data table notebook</a>'\n",
              "            + ' to learn more about interactive tables.';\n",
              "          element.innerHTML = '';\n",
              "          dataTable['output_type'] = 'display_data';\n",
              "          await google.colab.output.renderOutput(dataTable, element);\n",
              "          const docLink = document.createElement('div');\n",
              "          docLink.innerHTML = docLinkHtml;\n",
              "          element.appendChild(docLink);\n",
              "        }\n",
              "      </script>\n",
              "    </div>\n",
              "  </div>\n",
              "  "
            ]
          },
          "metadata": {},
          "execution_count": 899
        }
      ]
    },
    {
      "cell_type": "code",
      "source": [
        "# RandomForestRegressor\n",
        "model3 = RandomForestRegressor(random_state=random_state)\n",
        "\n",
        "grid_model3 = GridSearchCV(model3, param_grid=param_grid, \\\n",
        "                        scoring='neg_mean_absolute_error', \\\n",
        "                        cv=5, verbose=1, n_jobs=5)              # 매회 교차검증 5회씩 반복\n",
        "\n",
        "grid_model3.fit(train_final, y)\n",
        "\n",
        "# 결과 확인\n",
        "grid_model3.cv_results_\n",
        "\n",
        "# 결과 평가\n",
        "# 파라미터 조합 가져오기\n",
        "params3 = grid_model3.cv_results_['params']\n",
        "print(params3)\n",
        "\n",
        "# 점수 결과값 가져오기\n",
        "score3 = grid_model3.cv_results_['mean_test_score']\n",
        "print(score3)\n",
        "\n",
        "result3 = pd.DataFrame(params3)\n",
        "result3['score'] = score3\n",
        "result3['MAE'] = (-1 * result3['score'])\n",
        "result3\n",
        "\n",
        "result3"
      ],
      "metadata": {
        "colab": {
          "base_uri": "https://localhost:8080/",
          "height": 310
        },
        "id": "GYmuJ7UXycCq",
        "outputId": "aed966fa-724a-45eb-f364-041bff1fc5b1"
      },
      "execution_count": 900,
      "outputs": [
        {
          "output_type": "stream",
          "name": "stdout",
          "text": [
            "Fitting 5 folds for each of 6 candidates, totalling 30 fits\n",
            "[{'max_depth': 1, 'n_estimators': 10}, {'max_depth': 1, 'n_estimators': 50}, {'max_depth': 1, 'n_estimators': 100}, {'max_depth': 10, 'n_estimators': 10}, {'max_depth': 10, 'n_estimators': 50}, {'max_depth': 10, 'n_estimators': 100}]\n",
            "[-0.70470359 -0.70526172 -0.70526506 -0.37853509 -0.37385516 -0.37413996]\n"
          ]
        },
        {
          "output_type": "execute_result",
          "data": {
            "text/plain": [
              "   max_depth  n_estimators     score       MAE\n",
              "0          1            10 -0.704704  0.704704\n",
              "1          1            50 -0.705262  0.705262\n",
              "2          1           100 -0.705265  0.705265\n",
              "3         10            10 -0.378535  0.378535\n",
              "4         10            50 -0.373855  0.373855\n",
              "5         10           100 -0.374140  0.374140"
            ],
            "text/html": [
              "\n",
              "  <div id=\"df-e7919b1c-e4c6-47b6-be58-31144e15cb18\">\n",
              "    <div class=\"colab-df-container\">\n",
              "      <div>\n",
              "<style scoped>\n",
              "    .dataframe tbody tr th:only-of-type {\n",
              "        vertical-align: middle;\n",
              "    }\n",
              "\n",
              "    .dataframe tbody tr th {\n",
              "        vertical-align: top;\n",
              "    }\n",
              "\n",
              "    .dataframe thead th {\n",
              "        text-align: right;\n",
              "    }\n",
              "</style>\n",
              "<table border=\"1\" class=\"dataframe\">\n",
              "  <thead>\n",
              "    <tr style=\"text-align: right;\">\n",
              "      <th></th>\n",
              "      <th>max_depth</th>\n",
              "      <th>n_estimators</th>\n",
              "      <th>score</th>\n",
              "      <th>MAE</th>\n",
              "    </tr>\n",
              "  </thead>\n",
              "  <tbody>\n",
              "    <tr>\n",
              "      <th>0</th>\n",
              "      <td>1</td>\n",
              "      <td>10</td>\n",
              "      <td>-0.704704</td>\n",
              "      <td>0.704704</td>\n",
              "    </tr>\n",
              "    <tr>\n",
              "      <th>1</th>\n",
              "      <td>1</td>\n",
              "      <td>50</td>\n",
              "      <td>-0.705262</td>\n",
              "      <td>0.705262</td>\n",
              "    </tr>\n",
              "    <tr>\n",
              "      <th>2</th>\n",
              "      <td>1</td>\n",
              "      <td>100</td>\n",
              "      <td>-0.705265</td>\n",
              "      <td>0.705265</td>\n",
              "    </tr>\n",
              "    <tr>\n",
              "      <th>3</th>\n",
              "      <td>10</td>\n",
              "      <td>10</td>\n",
              "      <td>-0.378535</td>\n",
              "      <td>0.378535</td>\n",
              "    </tr>\n",
              "    <tr>\n",
              "      <th>4</th>\n",
              "      <td>10</td>\n",
              "      <td>50</td>\n",
              "      <td>-0.373855</td>\n",
              "      <td>0.373855</td>\n",
              "    </tr>\n",
              "    <tr>\n",
              "      <th>5</th>\n",
              "      <td>10</td>\n",
              "      <td>100</td>\n",
              "      <td>-0.374140</td>\n",
              "      <td>0.374140</td>\n",
              "    </tr>\n",
              "  </tbody>\n",
              "</table>\n",
              "</div>\n",
              "      <button class=\"colab-df-convert\" onclick=\"convertToInteractive('df-e7919b1c-e4c6-47b6-be58-31144e15cb18')\"\n",
              "              title=\"Convert this dataframe to an interactive table.\"\n",
              "              style=\"display:none;\">\n",
              "        \n",
              "  <svg xmlns=\"http://www.w3.org/2000/svg\" height=\"24px\"viewBox=\"0 0 24 24\"\n",
              "       width=\"24px\">\n",
              "    <path d=\"M0 0h24v24H0V0z\" fill=\"none\"/>\n",
              "    <path d=\"M18.56 5.44l.94 2.06.94-2.06 2.06-.94-2.06-.94-.94-2.06-.94 2.06-2.06.94zm-11 1L8.5 8.5l.94-2.06 2.06-.94-2.06-.94L8.5 2.5l-.94 2.06-2.06.94zm10 10l.94 2.06.94-2.06 2.06-.94-2.06-.94-.94-2.06-.94 2.06-2.06.94z\"/><path d=\"M17.41 7.96l-1.37-1.37c-.4-.4-.92-.59-1.43-.59-.52 0-1.04.2-1.43.59L10.3 9.45l-7.72 7.72c-.78.78-.78 2.05 0 2.83L4 21.41c.39.39.9.59 1.41.59.51 0 1.02-.2 1.41-.59l7.78-7.78 2.81-2.81c.8-.78.8-2.07 0-2.86zM5.41 20L4 18.59l7.72-7.72 1.47 1.35L5.41 20z\"/>\n",
              "  </svg>\n",
              "      </button>\n",
              "      \n",
              "  <style>\n",
              "    .colab-df-container {\n",
              "      display:flex;\n",
              "      flex-wrap:wrap;\n",
              "      gap: 12px;\n",
              "    }\n",
              "\n",
              "    .colab-df-convert {\n",
              "      background-color: #E8F0FE;\n",
              "      border: none;\n",
              "      border-radius: 50%;\n",
              "      cursor: pointer;\n",
              "      display: none;\n",
              "      fill: #1967D2;\n",
              "      height: 32px;\n",
              "      padding: 0 0 0 0;\n",
              "      width: 32px;\n",
              "    }\n",
              "\n",
              "    .colab-df-convert:hover {\n",
              "      background-color: #E2EBFA;\n",
              "      box-shadow: 0px 1px 2px rgba(60, 64, 67, 0.3), 0px 1px 3px 1px rgba(60, 64, 67, 0.15);\n",
              "      fill: #174EA6;\n",
              "    }\n",
              "\n",
              "    [theme=dark] .colab-df-convert {\n",
              "      background-color: #3B4455;\n",
              "      fill: #D2E3FC;\n",
              "    }\n",
              "\n",
              "    [theme=dark] .colab-df-convert:hover {\n",
              "      background-color: #434B5C;\n",
              "      box-shadow: 0px 1px 3px 1px rgba(0, 0, 0, 0.15);\n",
              "      filter: drop-shadow(0px 1px 2px rgba(0, 0, 0, 0.3));\n",
              "      fill: #FFFFFF;\n",
              "    }\n",
              "  </style>\n",
              "\n",
              "      <script>\n",
              "        const buttonEl =\n",
              "          document.querySelector('#df-e7919b1c-e4c6-47b6-be58-31144e15cb18 button.colab-df-convert');\n",
              "        buttonEl.style.display =\n",
              "          google.colab.kernel.accessAllowed ? 'block' : 'none';\n",
              "\n",
              "        async function convertToInteractive(key) {\n",
              "          const element = document.querySelector('#df-e7919b1c-e4c6-47b6-be58-31144e15cb18');\n",
              "          const dataTable =\n",
              "            await google.colab.kernel.invokeFunction('convertToInteractive',\n",
              "                                                     [key], {});\n",
              "          if (!dataTable) return;\n",
              "\n",
              "          const docLinkHtml = 'Like what you see? Visit the ' +\n",
              "            '<a target=\"_blank\" href=https://colab.research.google.com/notebooks/data_table.ipynb>data table notebook</a>'\n",
              "            + ' to learn more about interactive tables.';\n",
              "          element.innerHTML = '';\n",
              "          dataTable['output_type'] = 'display_data';\n",
              "          await google.colab.output.renderOutput(dataTable, element);\n",
              "          const docLink = document.createElement('div');\n",
              "          docLink.innerHTML = docLinkHtml;\n",
              "          element.appendChild(docLink);\n",
              "        }\n",
              "      </script>\n",
              "    </div>\n",
              "  </div>\n",
              "  "
            ]
          },
          "metadata": {},
          "execution_count": 900
        }
      ]
    },
    {
      "cell_type": "markdown",
      "source": [
        "---"
      ],
      "metadata": {
        "id": "t6t0JMbmzhj0"
      }
    },
    {
      "cell_type": "markdown",
      "source": [
        "### **그래서 어떤 모델이 가장 좋은가?**"
      ],
      "metadata": {
        "id": "EgLGgVY30kD0"
      }
    },
    {
      "cell_type": "markdown",
      "source": [
        "수치만으로 보면 RandomForestRegressor가 제일 좋은 성능을 보입니다.\n",
        "\n",
        "soft-voting 앙상블을 할 경우엔 평균을 내므로 결과의 신뢰도가 높아지는 장점이 있습니다."
      ],
      "metadata": {
        "id": "9pI6EinA0mUz"
      }
    },
    {
      "cell_type": "code",
      "source": [
        "# 모델 생성\n",
        "# LGBMRegressor\n",
        "model_lgbm = LGBMRegressor(max_depth=1, n_estimators=10, random_state=random_state)\n",
        "\n",
        "# RandomForestRegressor\n",
        "model_rf = RandomForestRegressor(max_depth=1, n_estimators=10, random_state=random_state)\n",
        "\n",
        "# GradientBoostingRegressor\n",
        "model_gb = GradientBoostingRegressor(max_depth=1, n_estimators=10, random_state=random_state)\n",
        "\n",
        "print('Done!')"
      ],
      "metadata": {
        "colab": {
          "base_uri": "https://localhost:8080/"
        },
        "id": "vnJCJK3t1DGi",
        "outputId": "fb2d91a0-1cd6-4deb-97ea-9394f1c2cf3c"
      },
      "execution_count": 926,
      "outputs": [
        {
          "output_type": "stream",
          "name": "stdout",
          "text": [
            "Done!\n"
          ]
        }
      ]
    },
    {
      "cell_type": "code",
      "source": [
        "# 모델 훈련\n",
        "# LGBMRegressor\n",
        "model_lgbm.fit(train_final, y)\n",
        "\n",
        "# RandomForestRegressor\n",
        "model_rf.fit(train_final, y)\n",
        "\n",
        "# GradientBoostingRegressor\n",
        "model_gb.fit(train_final, y)\n",
        "\n",
        "print('Done!')"
      ],
      "metadata": {
        "colab": {
          "base_uri": "https://localhost:8080/"
        },
        "id": "EC2D0k3XYBlV",
        "outputId": "b7e38b90-7fd7-4394-ea33-7100c2d596a4"
      },
      "execution_count": 927,
      "outputs": [
        {
          "output_type": "stream",
          "name": "stdout",
          "text": [
            "Done!\n"
          ]
        }
      ]
    },
    {
      "cell_type": "code",
      "source": [
        "# 예측값 생성\n",
        "# LGBMRegressor\n",
        "lgbm_pred = expm1(model_lgbm.predict(x_test))\n",
        "\n",
        "# RandomForestRegressor\n",
        "rf_pred = expm1(model_rf.predict(x_test))\n",
        "\n",
        "# GradientBoostingRegressor\n",
        "gb_pred = expm1(model_gb.predict(x_test))"
      ],
      "metadata": {
        "id": "ZjS-H8f1Wp6w"
      },
      "execution_count": 928,
      "outputs": []
    },
    {
      "cell_type": "code",
      "source": [
        "final_set = (lgbm_pred + rf_pred + gb_pred) /3"
      ],
      "metadata": {
        "id": "1RXphzGKb0j-"
      },
      "execution_count": 929,
      "outputs": []
    },
    {
      "cell_type": "code",
      "source": [
        "final_set"
      ],
      "metadata": {
        "colab": {
          "base_uri": "https://localhost:8080/"
        },
        "id": "G288psE6g9p2",
        "outputId": "81482896-22bf-4a43-a1e8-4320d2ef6498"
      },
      "execution_count": 930,
      "outputs": [
        {
          "output_type": "execute_result",
          "data": {
            "text/plain": [
              "array([ 7624623.09491976,  7624623.09491976,  7624623.09491976,\n",
              "        7624623.09491976,  9103858.73994686,  7624623.09491976,\n",
              "        7624623.09491976,  7624623.09491976,  7624623.09491976,\n",
              "        7624623.09491976,  7624623.09491976,  9103858.73994686,\n",
              "        8581068.83361056,  7624623.09491976,  7624623.09491976,\n",
              "        7624623.09491976,  7624623.09491976,  7624623.09491976,\n",
              "        7624623.09491976,  7624623.09491976,  7624623.09491976,\n",
              "        7624623.09491976,  7624623.09491976,  7624623.09491976,\n",
              "        7624623.09491976,  7624623.09491976,  7624623.09491976,\n",
              "        7624623.09491976,  7624623.09491976,  7624623.09491976,\n",
              "        7624623.09491976,  7624623.09491976,  7624623.09491976,\n",
              "        7624623.09491976,  7624623.09491976,  7624623.09491976,\n",
              "        7624623.09491976,  8581068.83361056,  8665031.36384086,\n",
              "        7624623.09491976,  7624623.09491976,  7624623.09491976,\n",
              "        7624623.09491976,  7624623.09491976,  7624623.09491976,\n",
              "        7624623.09491976,  7624623.09491976,  7624623.09491976,\n",
              "        7624623.09491976,  7624623.09491976,  7624623.09491976,\n",
              "        7624623.09491976,  7624623.09491976,  7624623.09491976,\n",
              "        7624623.09491976,  7624623.09491976,  7624623.09491976,\n",
              "        7624623.09491976,  7624623.09491976,  7624623.09491976,\n",
              "        8581068.83361056,  7624623.09491976,  7624623.09491976,\n",
              "        7624623.09491976,  7624623.09491976,  7624623.09491976,\n",
              "        7624623.09491976,  7624623.09491976,  7624623.09491976,\n",
              "        7624623.09491976,  7624623.09491976,  7624623.09491976,\n",
              "        7624623.09491976,  7624623.09491976,  7624623.09491976,\n",
              "        7624623.09491976,  7624623.09491976,  9103858.73994686,\n",
              "        7624623.09491976,  7624623.09491976,  9103858.73994686,\n",
              "        7624623.09491976,  7624623.09491976,  7624623.09491976,\n",
              "        7624623.09491976,  7624623.09491976,  7624623.09491976,\n",
              "        7624623.09491976,  7624623.09491976, 18343313.13798093,\n",
              "        7624623.09491976,  7624623.09491976,  7624623.09491976,\n",
              "        7624623.09491976,  7624623.09491976,  9103858.73994686,\n",
              "        7624623.09491976,  7624623.09491976,  7624623.09491976,\n",
              "        7624623.09491976,  9103858.73994686,  7624623.09491976,\n",
              "        7624623.09491976,  7624623.09491976,  7624623.09491976,\n",
              "       18343313.13798093,  7624623.09491976,  9103858.73994686,\n",
              "        7624623.09491976,  7624623.09491976,  7624623.09491976,\n",
              "        7624623.09491976,  7624623.09491976, 18343313.13798093,\n",
              "        7624623.09491976,  7624623.09491976,  7624623.09491976,\n",
              "        7624623.09491976,  7624623.09491976,  7624623.09491976,\n",
              "        8665031.36384086,  7624623.09491976,  7624623.09491976,\n",
              "        9103858.73994686,  7624623.09491976,  9103858.73994686,\n",
              "        7624623.09491976,  7624623.09491976,  7624623.09491976,\n",
              "       17143047.27952956,  7624623.09491976,  7624623.09491976,\n",
              "        7624623.09491976,  7624623.09491976,  7624623.09491976,\n",
              "        7624623.09491976,  7624623.09491976,  7624623.09491976,\n",
              "        7624623.09491976,  9103858.73994686,  7624623.09491976,\n",
              "        7624623.09491976,  8581068.83361056,  7624623.09491976,\n",
              "        7624623.09491976,  7624623.09491976,  7624623.09491976,\n",
              "        7624623.09491976,  7624623.09491976,  7624623.09491976,\n",
              "        7624623.09491976,  7624623.09491976,  7624623.09491976,\n",
              "        7624623.09491976,  7624623.09491976,  7624623.09491976,\n",
              "        7624623.09491976,  7624623.09491976,  7624623.09491976,\n",
              "        7624623.09491976,  7624623.09491976,  7624623.09491976,\n",
              "        7624623.09491976,  7624623.09491976,  7624623.09491976,\n",
              "        7624623.09491976,  7624623.09491976,  7624623.09491976,\n",
              "        7624623.09491976,  7624623.09491976,  7624623.09491976,\n",
              "        7624623.09491976,  8581068.83361056,  8581068.83361056,\n",
              "        7624623.09491976,  9103858.73994686,  7624623.09491976,\n",
              "        7624623.09491976,  7624623.09491976,  7624623.09491976,\n",
              "        7624623.09491976,  7624623.09491976,  7624623.09491976,\n",
              "        7624623.09491976,  7624623.09491976,  7624623.09491976,\n",
              "        7624623.09491976,  7624623.09491976,  7624623.09491976,\n",
              "        7624623.09491976,  7624623.09491976,  7624623.09491976,\n",
              "        7624623.09491976,  7624623.09491976,  8581068.83361056,\n",
              "        7624623.09491976, 17143047.27952956,  8581068.83361056,\n",
              "       18099493.01822036,  7624623.09491976,  7624623.09491976,\n",
              "        7624623.09491976,  7624623.09491976])"
            ]
          },
          "metadata": {},
          "execution_count": 930
        }
      ]
    },
    {
      "cell_type": "markdown",
      "source": [
        "정상적으로 작동합니다.\n",
        "\n",
        "최종 예측치를 산출하겠습니다."
      ],
      "metadata": {
        "id": "0J9YhyzFi1lE"
      }
    },
    {
      "cell_type": "code",
      "source": [
        "# 최종 예측값 생성\n",
        "# LGBMRegressor\n",
        "lgbm_pred_final = np.expm1(model_lgbm.predict(test_encoded))\n",
        "\n",
        "# RandomForestRegressor\n",
        "rf_pred_final = expm1(model_rf.predict(test_encoded))\n",
        "\n",
        "# GradientBoostingRegressor\n",
        "gb_pred_final = expm1(model_gb.predict(test_encoded))\n",
        "\n",
        "final_submission = (lgbm_pred_final + rf_pred_final + gb_pred_final) /3"
      ],
      "metadata": {
        "id": "rO1YiSrAi6Fc"
      },
      "execution_count": 932,
      "outputs": []
    },
    {
      "cell_type": "code",
      "source": [
        "final_submission[0:5]"
      ],
      "metadata": {
        "colab": {
          "base_uri": "https://localhost:8080/"
        },
        "id": "mfCy3KNMjZTH",
        "outputId": "618a8ae1-d0d7-464e-8661-0b3878a94f13"
      },
      "execution_count": 933,
      "outputs": [
        {
          "output_type": "execute_result",
          "data": {
            "text/plain": [
              "array([17302904.86905983,  7624623.09491976,  7624623.09491976,\n",
              "        7624623.09491976,  7624623.09491976])"
            ]
          },
          "metadata": {},
          "execution_count": 933
        }
      ]
    },
    {
      "cell_type": "markdown",
      "source": [
        "---"
      ],
      "metadata": {
        "id": "2vnsPkfehExN"
      }
    },
    {
      "cell_type": "markdown",
      "source": [
        "## **제출용 파일 생성**"
      ],
      "metadata": {
        "id": "4k0_PfeehJXs"
      }
    },
    {
      "cell_type": "code",
      "source": [
        "submission = pd.read_csv('/content/drive/MyDrive/Dacon/중고차 가격예측/sample_submission.csv')\n",
        "submission.head()"
      ],
      "metadata": {
        "colab": {
          "base_uri": "https://localhost:8080/",
          "height": 206
        },
        "id": "WliNzgV1hLqv",
        "outputId": "cb4abcab-4058-460d-8d06-ee98ab788df3"
      },
      "execution_count": 934,
      "outputs": [
        {
          "output_type": "execute_result",
          "data": {
            "text/plain": [
              "   id  target\n",
              "0   0       0\n",
              "1   1       0\n",
              "2   2       0\n",
              "3   3       0\n",
              "4   4       0"
            ],
            "text/html": [
              "\n",
              "  <div id=\"df-7c6aeed2-83e8-46d8-a863-8bac13385def\">\n",
              "    <div class=\"colab-df-container\">\n",
              "      <div>\n",
              "<style scoped>\n",
              "    .dataframe tbody tr th:only-of-type {\n",
              "        vertical-align: middle;\n",
              "    }\n",
              "\n",
              "    .dataframe tbody tr th {\n",
              "        vertical-align: top;\n",
              "    }\n",
              "\n",
              "    .dataframe thead th {\n",
              "        text-align: right;\n",
              "    }\n",
              "</style>\n",
              "<table border=\"1\" class=\"dataframe\">\n",
              "  <thead>\n",
              "    <tr style=\"text-align: right;\">\n",
              "      <th></th>\n",
              "      <th>id</th>\n",
              "      <th>target</th>\n",
              "    </tr>\n",
              "  </thead>\n",
              "  <tbody>\n",
              "    <tr>\n",
              "      <th>0</th>\n",
              "      <td>0</td>\n",
              "      <td>0</td>\n",
              "    </tr>\n",
              "    <tr>\n",
              "      <th>1</th>\n",
              "      <td>1</td>\n",
              "      <td>0</td>\n",
              "    </tr>\n",
              "    <tr>\n",
              "      <th>2</th>\n",
              "      <td>2</td>\n",
              "      <td>0</td>\n",
              "    </tr>\n",
              "    <tr>\n",
              "      <th>3</th>\n",
              "      <td>3</td>\n",
              "      <td>0</td>\n",
              "    </tr>\n",
              "    <tr>\n",
              "      <th>4</th>\n",
              "      <td>4</td>\n",
              "      <td>0</td>\n",
              "    </tr>\n",
              "  </tbody>\n",
              "</table>\n",
              "</div>\n",
              "      <button class=\"colab-df-convert\" onclick=\"convertToInteractive('df-7c6aeed2-83e8-46d8-a863-8bac13385def')\"\n",
              "              title=\"Convert this dataframe to an interactive table.\"\n",
              "              style=\"display:none;\">\n",
              "        \n",
              "  <svg xmlns=\"http://www.w3.org/2000/svg\" height=\"24px\"viewBox=\"0 0 24 24\"\n",
              "       width=\"24px\">\n",
              "    <path d=\"M0 0h24v24H0V0z\" fill=\"none\"/>\n",
              "    <path d=\"M18.56 5.44l.94 2.06.94-2.06 2.06-.94-2.06-.94-.94-2.06-.94 2.06-2.06.94zm-11 1L8.5 8.5l.94-2.06 2.06-.94-2.06-.94L8.5 2.5l-.94 2.06-2.06.94zm10 10l.94 2.06.94-2.06 2.06-.94-2.06-.94-.94-2.06-.94 2.06-2.06.94z\"/><path d=\"M17.41 7.96l-1.37-1.37c-.4-.4-.92-.59-1.43-.59-.52 0-1.04.2-1.43.59L10.3 9.45l-7.72 7.72c-.78.78-.78 2.05 0 2.83L4 21.41c.39.39.9.59 1.41.59.51 0 1.02-.2 1.41-.59l7.78-7.78 2.81-2.81c.8-.78.8-2.07 0-2.86zM5.41 20L4 18.59l7.72-7.72 1.47 1.35L5.41 20z\"/>\n",
              "  </svg>\n",
              "      </button>\n",
              "      \n",
              "  <style>\n",
              "    .colab-df-container {\n",
              "      display:flex;\n",
              "      flex-wrap:wrap;\n",
              "      gap: 12px;\n",
              "    }\n",
              "\n",
              "    .colab-df-convert {\n",
              "      background-color: #E8F0FE;\n",
              "      border: none;\n",
              "      border-radius: 50%;\n",
              "      cursor: pointer;\n",
              "      display: none;\n",
              "      fill: #1967D2;\n",
              "      height: 32px;\n",
              "      padding: 0 0 0 0;\n",
              "      width: 32px;\n",
              "    }\n",
              "\n",
              "    .colab-df-convert:hover {\n",
              "      background-color: #E2EBFA;\n",
              "      box-shadow: 0px 1px 2px rgba(60, 64, 67, 0.3), 0px 1px 3px 1px rgba(60, 64, 67, 0.15);\n",
              "      fill: #174EA6;\n",
              "    }\n",
              "\n",
              "    [theme=dark] .colab-df-convert {\n",
              "      background-color: #3B4455;\n",
              "      fill: #D2E3FC;\n",
              "    }\n",
              "\n",
              "    [theme=dark] .colab-df-convert:hover {\n",
              "      background-color: #434B5C;\n",
              "      box-shadow: 0px 1px 3px 1px rgba(0, 0, 0, 0.15);\n",
              "      filter: drop-shadow(0px 1px 2px rgba(0, 0, 0, 0.3));\n",
              "      fill: #FFFFFF;\n",
              "    }\n",
              "  </style>\n",
              "\n",
              "      <script>\n",
              "        const buttonEl =\n",
              "          document.querySelector('#df-7c6aeed2-83e8-46d8-a863-8bac13385def button.colab-df-convert');\n",
              "        buttonEl.style.display =\n",
              "          google.colab.kernel.accessAllowed ? 'block' : 'none';\n",
              "\n",
              "        async function convertToInteractive(key) {\n",
              "          const element = document.querySelector('#df-7c6aeed2-83e8-46d8-a863-8bac13385def');\n",
              "          const dataTable =\n",
              "            await google.colab.kernel.invokeFunction('convertToInteractive',\n",
              "                                                     [key], {});\n",
              "          if (!dataTable) return;\n",
              "\n",
              "          const docLinkHtml = 'Like what you see? Visit the ' +\n",
              "            '<a target=\"_blank\" href=https://colab.research.google.com/notebooks/data_table.ipynb>data table notebook</a>'\n",
              "            + ' to learn more about interactive tables.';\n",
              "          element.innerHTML = '';\n",
              "          dataTable['output_type'] = 'display_data';\n",
              "          await google.colab.output.renderOutput(dataTable, element);\n",
              "          const docLink = document.createElement('div');\n",
              "          docLink.innerHTML = docLinkHtml;\n",
              "          element.appendChild(docLink);\n",
              "        }\n",
              "      </script>\n",
              "    </div>\n",
              "  </div>\n",
              "  "
            ]
          },
          "metadata": {},
          "execution_count": 934
        }
      ]
    },
    {
      "cell_type": "code",
      "source": [
        "submission['target'] = final_submission\n",
        "submission.head()"
      ],
      "metadata": {
        "colab": {
          "base_uri": "https://localhost:8080/",
          "height": 206
        },
        "id": "mfqBIf6niCxi",
        "outputId": "3e24d432-0063-42f5-c9b2-e4ac011a824e"
      },
      "execution_count": 935,
      "outputs": [
        {
          "output_type": "execute_result",
          "data": {
            "text/plain": [
              "   id        target\n",
              "0   0  1.730290e+07\n",
              "1   1  7.624623e+06\n",
              "2   2  7.624623e+06\n",
              "3   3  7.624623e+06\n",
              "4   4  7.624623e+06"
            ],
            "text/html": [
              "\n",
              "  <div id=\"df-a24ac57b-897c-48bc-b23b-03b5daf369e6\">\n",
              "    <div class=\"colab-df-container\">\n",
              "      <div>\n",
              "<style scoped>\n",
              "    .dataframe tbody tr th:only-of-type {\n",
              "        vertical-align: middle;\n",
              "    }\n",
              "\n",
              "    .dataframe tbody tr th {\n",
              "        vertical-align: top;\n",
              "    }\n",
              "\n",
              "    .dataframe thead th {\n",
              "        text-align: right;\n",
              "    }\n",
              "</style>\n",
              "<table border=\"1\" class=\"dataframe\">\n",
              "  <thead>\n",
              "    <tr style=\"text-align: right;\">\n",
              "      <th></th>\n",
              "      <th>id</th>\n",
              "      <th>target</th>\n",
              "    </tr>\n",
              "  </thead>\n",
              "  <tbody>\n",
              "    <tr>\n",
              "      <th>0</th>\n",
              "      <td>0</td>\n",
              "      <td>1.730290e+07</td>\n",
              "    </tr>\n",
              "    <tr>\n",
              "      <th>1</th>\n",
              "      <td>1</td>\n",
              "      <td>7.624623e+06</td>\n",
              "    </tr>\n",
              "    <tr>\n",
              "      <th>2</th>\n",
              "      <td>2</td>\n",
              "      <td>7.624623e+06</td>\n",
              "    </tr>\n",
              "    <tr>\n",
              "      <th>3</th>\n",
              "      <td>3</td>\n",
              "      <td>7.624623e+06</td>\n",
              "    </tr>\n",
              "    <tr>\n",
              "      <th>4</th>\n",
              "      <td>4</td>\n",
              "      <td>7.624623e+06</td>\n",
              "    </tr>\n",
              "  </tbody>\n",
              "</table>\n",
              "</div>\n",
              "      <button class=\"colab-df-convert\" onclick=\"convertToInteractive('df-a24ac57b-897c-48bc-b23b-03b5daf369e6')\"\n",
              "              title=\"Convert this dataframe to an interactive table.\"\n",
              "              style=\"display:none;\">\n",
              "        \n",
              "  <svg xmlns=\"http://www.w3.org/2000/svg\" height=\"24px\"viewBox=\"0 0 24 24\"\n",
              "       width=\"24px\">\n",
              "    <path d=\"M0 0h24v24H0V0z\" fill=\"none\"/>\n",
              "    <path d=\"M18.56 5.44l.94 2.06.94-2.06 2.06-.94-2.06-.94-.94-2.06-.94 2.06-2.06.94zm-11 1L8.5 8.5l.94-2.06 2.06-.94-2.06-.94L8.5 2.5l-.94 2.06-2.06.94zm10 10l.94 2.06.94-2.06 2.06-.94-2.06-.94-.94-2.06-.94 2.06-2.06.94z\"/><path d=\"M17.41 7.96l-1.37-1.37c-.4-.4-.92-.59-1.43-.59-.52 0-1.04.2-1.43.59L10.3 9.45l-7.72 7.72c-.78.78-.78 2.05 0 2.83L4 21.41c.39.39.9.59 1.41.59.51 0 1.02-.2 1.41-.59l7.78-7.78 2.81-2.81c.8-.78.8-2.07 0-2.86zM5.41 20L4 18.59l7.72-7.72 1.47 1.35L5.41 20z\"/>\n",
              "  </svg>\n",
              "      </button>\n",
              "      \n",
              "  <style>\n",
              "    .colab-df-container {\n",
              "      display:flex;\n",
              "      flex-wrap:wrap;\n",
              "      gap: 12px;\n",
              "    }\n",
              "\n",
              "    .colab-df-convert {\n",
              "      background-color: #E8F0FE;\n",
              "      border: none;\n",
              "      border-radius: 50%;\n",
              "      cursor: pointer;\n",
              "      display: none;\n",
              "      fill: #1967D2;\n",
              "      height: 32px;\n",
              "      padding: 0 0 0 0;\n",
              "      width: 32px;\n",
              "    }\n",
              "\n",
              "    .colab-df-convert:hover {\n",
              "      background-color: #E2EBFA;\n",
              "      box-shadow: 0px 1px 2px rgba(60, 64, 67, 0.3), 0px 1px 3px 1px rgba(60, 64, 67, 0.15);\n",
              "      fill: #174EA6;\n",
              "    }\n",
              "\n",
              "    [theme=dark] .colab-df-convert {\n",
              "      background-color: #3B4455;\n",
              "      fill: #D2E3FC;\n",
              "    }\n",
              "\n",
              "    [theme=dark] .colab-df-convert:hover {\n",
              "      background-color: #434B5C;\n",
              "      box-shadow: 0px 1px 3px 1px rgba(0, 0, 0, 0.15);\n",
              "      filter: drop-shadow(0px 1px 2px rgba(0, 0, 0, 0.3));\n",
              "      fill: #FFFFFF;\n",
              "    }\n",
              "  </style>\n",
              "\n",
              "      <script>\n",
              "        const buttonEl =\n",
              "          document.querySelector('#df-a24ac57b-897c-48bc-b23b-03b5daf369e6 button.colab-df-convert');\n",
              "        buttonEl.style.display =\n",
              "          google.colab.kernel.accessAllowed ? 'block' : 'none';\n",
              "\n",
              "        async function convertToInteractive(key) {\n",
              "          const element = document.querySelector('#df-a24ac57b-897c-48bc-b23b-03b5daf369e6');\n",
              "          const dataTable =\n",
              "            await google.colab.kernel.invokeFunction('convertToInteractive',\n",
              "                                                     [key], {});\n",
              "          if (!dataTable) return;\n",
              "\n",
              "          const docLinkHtml = 'Like what you see? Visit the ' +\n",
              "            '<a target=\"_blank\" href=https://colab.research.google.com/notebooks/data_table.ipynb>data table notebook</a>'\n",
              "            + ' to learn more about interactive tables.';\n",
              "          element.innerHTML = '';\n",
              "          dataTable['output_type'] = 'display_data';\n",
              "          await google.colab.output.renderOutput(dataTable, element);\n",
              "          const docLink = document.createElement('div');\n",
              "          docLink.innerHTML = docLinkHtml;\n",
              "          element.appendChild(docLink);\n",
              "        }\n",
              "      </script>\n",
              "    </div>\n",
              "  </div>\n",
              "  "
            ]
          },
          "metadata": {},
          "execution_count": 935
        }
      ]
    },
    {
      "cell_type": "code",
      "source": [
        "submission.to_csv('/content/drive/MyDrive/Dacon/중고차 가격예측/submit5.csv', index=False)"
      ],
      "metadata": {
        "id": "hmLKgpw3iM0b"
      },
      "execution_count": 936,
      "outputs": []
    },
    {
      "cell_type": "code",
      "source": [
        ""
      ],
      "metadata": {
        "id": "iFD32sgokOHj"
      },
      "execution_count": null,
      "outputs": []
    }
  ]
}